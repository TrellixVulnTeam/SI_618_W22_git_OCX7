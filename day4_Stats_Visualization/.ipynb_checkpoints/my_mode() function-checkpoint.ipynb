{
 "cells": [
  {
   "cell_type": "code",
   "execution_count": 49,
   "id": "2d2b2913-5b1b-4106-a111-bb3a4a7a0ca7",
   "metadata": {},
   "outputs": [],
   "source": [
    "import statistics\n",
    "from collections import Counter"
   ]
  },
  {
   "cell_type": "code",
   "execution_count": 50,
   "id": "f4b8ca7c-f292-4e48-9c02-a9a0226e86f0",
   "metadata": {},
   "outputs": [],
   "source": [
    "def my_mode(list):\n",
    "    modes = statistics.multimode(list)\n",
    "    quantity = Counter(list)[modes[0]]\n",
    "    return modes, quantity"
   ]
  },
  {
   "cell_type": "code",
   "execution_count": 51,
   "id": "5e1cb3b2-1b11-4584-960d-6ed68b41b12d",
   "metadata": {},
   "outputs": [
    {
     "data": {
      "text/plain": [
       "(['maize', 'blue'], 3)"
      ]
     },
     "execution_count": 51,
     "metadata": {},
     "output_type": "execute_result"
    }
   ],
   "source": [
    "my_mode(['maize','blue','maize','blue','maize','blue'])"
   ]
  },
  {
   "cell_type": "code",
   "execution_count": 52,
   "id": "fe718e59-b621-47b2-862f-1cfee08cde3f",
   "metadata": {},
   "outputs": [
    {
     "data": {
      "text/plain": [
       "([2, 5], 2)"
      ]
     },
     "execution_count": 52,
     "metadata": {},
     "output_type": "execute_result"
    }
   ],
   "source": [
    "my_mode([1,2,2,3,4,5,5])"
   ]
  },
  {
   "cell_type": "code",
   "execution_count": null,
   "id": "d4d22e82-881e-49ca-9b61-777e53236cb7",
   "metadata": {},
   "outputs": [],
   "source": []
  }
 ],
 "metadata": {
  "kernelspec": {
   "display_name": "Python 3 (ipykernel)",
   "language": "python",
   "name": "python3"
  },
  "language_info": {
   "codemirror_mode": {
    "name": "ipython",
    "version": 3
   },
   "file_extension": ".py",
   "mimetype": "text/x-python",
   "name": "python",
   "nbconvert_exporter": "python",
   "pygments_lexer": "ipython3",
   "version": "3.9.7"
  }
 },
 "nbformat": 4,
 "nbformat_minor": 5
}
