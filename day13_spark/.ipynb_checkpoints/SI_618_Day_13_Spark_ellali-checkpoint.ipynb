{
 "cells": [
  {
   "cell_type": "markdown",
   "id": "d49525f9-b9b7-4a46-9b51-b6a8f5389fa5",
   "metadata": {
    "tags": []
   },
   "source": [
    "# SI 618: \n",
    "## Day 13: Spark\n",
    "\n",
    "### Dr. Chris Teplovs, School of Information, University of Michigan\n",
    "<small><a rel=\"license\" href=\"http://creativecommons.org/licenses/by-nc-sa/4.0/\"><img alt=\"Creative Commons License\" style=\"border-width:0\" src=\"https://i.creativecommons.org/l/by-nc-sa/4.0/88x31.png\" /></a> This work is licensed under a <a rel=\"license\" href=\"http://creativecommons.org/licenses/by-nc-sa/4.0/\">Creative Commons Attribution-NonCommercial-ShareAlike 4.0 International License</a>.</small>\n",
    "    \n",
    "### Please ensure you have this version:\n",
    "Version 2022.04.11.1.CT"
   ]
  },
  {
   "cell_type": "code",
   "execution_count": 1,
   "id": "03fda98b-89e1-4884-aa73-47235a478c46",
   "metadata": {},
   "outputs": [
    {
     "name": "stdout",
     "output_type": "stream",
     "text": [
      "Hello, world\n"
     ]
    }
   ],
   "source": [
    "print(\"Hello, world\")"
   ]
  },
  {
   "cell_type": "code",
   "execution_count": 2,
   "id": "571b9399-c892-4a97-a8f7-56c8a2a3ef83",
   "metadata": {
    "scrolled": true
   },
   "outputs": [
    {
     "data": {
      "text/html": [
       "\n",
       "            <div>\n",
       "                <p><b>SparkSession - hive</b></p>\n",
       "                \n",
       "        <div>\n",
       "            <p><b>SparkContext</b></p>\n",
       "\n",
       "            <p><a href=\"http://gl3104.arc-ts.umich.edu:4040\">Spark UI</a></p>\n",
       "\n",
       "            <dl>\n",
       "              <dt>Version</dt>\n",
       "                <dd><code>v3.1.2</code></dd>\n",
       "              <dt>Master</dt>\n",
       "                <dd><code>spark://gl3104.arc-ts.umich.edu:7078</code></dd>\n",
       "              <dt>AppName</dt>\n",
       "                <dd><code>PySparkShell</code></dd>\n",
       "            </dl>\n",
       "        </div>\n",
       "        \n",
       "            </div>\n",
       "        "
      ],
      "text/plain": [
       "<pyspark.sql.session.SparkSession at 0x2ab1e90b1310>"
      ]
     },
     "execution_count": 2,
     "metadata": {},
     "output_type": "execute_result"
    }
   ],
   "source": [
    "spark # (newer) for Spark DataFrames"
   ]
  },
  {
   "cell_type": "code",
   "execution_count": 4,
   "id": "428c6631-0d26-4133-a766-746f95e6b81a",
   "metadata": {
    "scrolled": true
   },
   "outputs": [
    {
     "data": {
      "text/html": [
       "\n",
       "        <div>\n",
       "            <p><b>SparkContext</b></p>\n",
       "\n",
       "            <p><a href=\"http://gl3104.arc-ts.umich.edu:4040\">Spark UI</a></p>\n",
       "\n",
       "            <dl>\n",
       "              <dt>Version</dt>\n",
       "                <dd><code>v3.1.2</code></dd>\n",
       "              <dt>Master</dt>\n",
       "                <dd><code>spark://gl3104.arc-ts.umich.edu:7078</code></dd>\n",
       "              <dt>AppName</dt>\n",
       "                <dd><code>PySparkShell</code></dd>\n",
       "            </dl>\n",
       "        </div>\n",
       "        "
      ],
      "text/plain": [
       "<SparkContext master=spark://gl3104.arc-ts.umich.edu:7078 appName=PySparkShell>"
      ]
     },
     "execution_count": 4,
     "metadata": {},
     "output_type": "execute_result"
    }
   ],
   "source": [
    "sc # (older) for Spark RDDs"
   ]
  },
  {
   "cell_type": "code",
   "execution_count": 5,
   "id": "519d0acd",
   "metadata": {},
   "outputs": [],
   "source": [
    "# do not overwirte these 2 variables"
   ]
  },
  {
   "cell_type": "markdown",
   "id": "87961432-4b2b-492f-8be4-b70d68b4b55b",
   "metadata": {},
   "source": [
    "Load a (text) file into an RDD:"
   ]
  },
  {
   "cell_type": "code",
   "execution_count": 6,
   "id": "c3a6a00a-f5c7-46b6-8412-4751e081037e",
   "metadata": {},
   "outputs": [],
   "source": [
    "r = sc.textFile('/scratch/si618w22_class_root/si618w22_class/shared_data/nytimes_news_articles.txt')"
   ]
  },
  {
   "cell_type": "code",
   "execution_count": 7,
   "id": "092602aa-78ec-41e4-8aba-81ac6779990f",
   "metadata": {},
   "outputs": [
    {
     "data": {
      "text/plain": [
       "pyspark.rdd.RDD"
      ]
     },
     "execution_count": 7,
     "metadata": {},
     "output_type": "execute_result"
    }
   ],
   "source": [
    "type(r)"
   ]
  },
  {
   "cell_type": "code",
   "execution_count": 8,
   "id": "5193989b-bffb-4ccd-b004-cbbbf7a2dd53",
   "metadata": {
    "scrolled": true
   },
   "outputs": [
    {
     "data": {
      "text/plain": [
       "['URL: http://www.nytimes.com/2016/06/30/sports/baseball/washington-nationals-max-scherzer-baffles-mets-completing-a-sweep.html',\n",
       " '',\n",
       " 'WASHINGTON — Stellar pitching kept the Mets afloat in the first half of last season despite their offensive woes. But they cannot produce an encore of their pennant-winning season if their lineup keeps floundering while their pitching is nicked, bruised and stretched thin.']"
      ]
     },
     "execution_count": 8,
     "metadata": {},
     "output_type": "execute_result"
    }
   ],
   "source": [
    "r.take(3) # look first few lines"
   ]
  },
  {
   "cell_type": "markdown",
   "id": "0eabb0fc-07d9-464a-89a4-1fbeef087f72",
   "metadata": {},
   "source": [
    "Load a (compressed) CSV file into a spark dataframe:"
   ]
  },
  {
   "cell_type": "code",
   "execution_count": null,
   "id": "c65622f6-be66-4e6b-bfbb-da5def3466d7",
   "metadata": {},
   "outputs": [],
   "source": [
    "sf_fire_file = \"/scratch/si618w22_class_root/si618w22_class/shared_data/Fire_Incidents.csv.gz\"\n",
    "fire_df = spark.read.csv(sf_fire_file, header=True)"
   ]
  },
  {
   "cell_type": "code",
   "execution_count": null,
   "id": "32a7cac4-bb67-48e5-9446-afe93f6a13d1",
   "metadata": {},
   "outputs": [],
   "source": [
    "len(fire_df.columns)"
   ]
  },
  {
   "cell_type": "code",
   "execution_count": null,
   "id": "f21c1ff7-da4a-4d24-b151-070643ddd229",
   "metadata": {},
   "outputs": [],
   "source": [
    "fire_df.schema"
   ]
  },
  {
   "cell_type": "code",
   "execution_count": null,
   "id": "eaec49a5-ddb2-4e15-9cf0-8d6abad47e3e",
   "metadata": {},
   "outputs": [],
   "source": [
    "fire_df.printSchema()"
   ]
  },
  {
   "cell_type": "code",
   "execution_count": null,
   "id": "19a90a05-6a8e-42c8-b889-51245f922490",
   "metadata": {},
   "outputs": [],
   "source": [
    "from pyspark.sql.functions import *\n",
    "\n",
    "few_fire_df = (fire_df\n",
    "  .select(\"Incident Number\", \"Alarm DtTm\", \"Primary Situation\") \n",
    "  .where(col(\"Primary Situation\") != \"311 - Medical assist, assist EMS crew\"))\n",
    "few_fire_df.show(5, truncate=False)"
   ]
  },
  {
   "cell_type": "code",
   "execution_count": null,
   "id": "6b5a8a11-d551-4134-8279-feb3d3ef8921",
   "metadata": {},
   "outputs": [],
   "source": [
    "(fire_df\n",
    "  .select(\"Primary Situation\")\n",
    "  .where(col(\"Primary Situation\").isNotNull())\n",
    "  .agg(countDistinct(\"Primary Situation\").alias(\"DistinctCallTypes\"))\n",
    "  .show())"
   ]
  },
  {
   "cell_type": "markdown",
   "id": "9624118f-d533-4a34-97a5-7e9431056439",
   "metadata": {},
   "source": [
    "Convert strings to timestamps:"
   ]
  },
  {
   "cell_type": "code",
   "execution_count": null,
   "id": "a749b035-2dd5-4898-a4ae-14450485fe47",
   "metadata": {},
   "outputs": [],
   "source": [
    "(fire_df\n",
    "  .select(\"Primary Situation\")\n",
    "  .where(col(\"Primary Situation\").isNotNull())\n",
    "  .distinct()\n",
    "  .show(10, False))"
   ]
  },
  {
   "cell_type": "code",
   "execution_count": null,
   "id": "4c5bf6ba-13c6-411a-80d9-4b32410e696e",
   "metadata": {},
   "outputs": [],
   "source": [
    "fire_ts_df = (fire_df\n",
    "  .withColumn(\"AlarmDateTime\", to_timestamp(col(\"Alarm DtTm\")))\n",
    "  .drop(\"Alarm DtTm\") \n",
    "  .withColumn(\"ArrivalDateTime\", to_timestamp(col(\"Arrival DtTm\")))\n",
    "  .drop(\"Arrival DtTm\") )\n",
    "\n",
    "# Select the converted columns\n",
    "(fire_ts_df\n",
    "  .select(\"AlarmDateTime\", \"ArrivalDateTime\")\n",
    "  .show(5, False))"
   ]
  },
  {
   "cell_type": "markdown",
   "id": "1ca25260-fe0b-4035-bb4c-21f93ee9766b",
   "metadata": {},
   "source": [
    "### Q1: Provide a description of your understanding of what the Great Lakes HPC Cluster is used for, and propose some ideas about the sorts of data you could analyze with the enhanced computing power that it provides."
   ]
  },
  {
   "cell_type": "markdown",
   "id": "a83f728b-b7b9-4f7b-9de7-a552f3a9ca1a",
   "metadata": {},
   "source": [
    "I think Great Lakes can be used to run model training with a large amount of data or very complex models, greatly saving model training time and better tuning parameters."
   ]
  },
  {
   "cell_type": "markdown",
   "id": "92e376fc-7bfc-46e7-a04c-297d0170302a",
   "metadata": {},
   "source": [
    "# Spark RDDs"
   ]
  },
  {
   "cell_type": "markdown",
   "id": "1af017a6-771b-41b3-a50b-62bc4473e6af",
   "metadata": {
    "tags": []
   },
   "source": [
    "### Background: mapping and reducing in (plain old) python"
   ]
  },
  {
   "cell_type": "code",
   "execution_count": 9,
   "id": "68ae69a5-1418-46a2-8cb6-209189dd3628",
   "metadata": {},
   "outputs": [],
   "source": [
    "numbers = [1, 2, 3, 4]"
   ]
  },
  {
   "cell_type": "code",
   "execution_count": 10,
   "id": "1fd86324-e435-4d23-81be-a4b2f8d91905",
   "metadata": {},
   "outputs": [],
   "source": [
    "def square(number):\n",
    "    return number**2"
   ]
  },
  {
   "cell_type": "code",
   "execution_count": 11,
   "id": "972911a3-b75a-4fc3-ad88-d5e57122ffa4",
   "metadata": {},
   "outputs": [
    {
     "data": {
      "text/plain": [
       "<map at 0x2ab1e932e490>"
      ]
     },
     "execution_count": 11,
     "metadata": {},
     "output_type": "execute_result"
    }
   ],
   "source": [
    "map(square, numbers)"
   ]
  },
  {
   "cell_type": "code",
   "execution_count": 12,
   "id": "7325f7f9-2109-4cbc-b047-89590e66d692",
   "metadata": {},
   "outputs": [
    {
     "data": {
      "text/plain": [
       "[1, 4, 9, 16]"
      ]
     },
     "execution_count": 12,
     "metadata": {},
     "output_type": "execute_result"
    }
   ],
   "source": [
    "list(map(square, numbers))"
   ]
  },
  {
   "cell_type": "code",
   "execution_count": 13,
   "id": "09025f5b-02b7-4980-a2b3-9a054f82bbaa",
   "metadata": {},
   "outputs": [
    {
     "name": "stdout",
     "output_type": "stream",
     "text": [
      "1\n",
      "4\n",
      "9\n",
      "16\n"
     ]
    }
   ],
   "source": [
    "for squared_number in map(square, numbers):\n",
    "    print(squared_number)"
   ]
  },
  {
   "cell_type": "markdown",
   "id": "6f1bed8c-4662-459f-818c-b482f484cdc6",
   "metadata": {},
   "source": [
    "Let's grab `reduce` from functools:"
   ]
  },
  {
   "cell_type": "code",
   "execution_count": 14,
   "id": "2a910009-9483-4a60-88ea-bfb2b50a2c99",
   "metadata": {},
   "outputs": [],
   "source": [
    "from functools import reduce"
   ]
  },
  {
   "cell_type": "code",
   "execution_count": 17,
   "id": "ece63f9e-ac0d-482d-9270-65ccb7a889ae",
   "metadata": {},
   "outputs": [
    {
     "data": {
      "text/plain": [
       "30"
      ]
     },
     "execution_count": 17,
     "metadata": {},
     "output_type": "execute_result"
    }
   ],
   "source": [
    "reduce(lambda a,b: a+b, [1, 4, 9, 16])"
   ]
  },
  {
   "cell_type": "code",
   "execution_count": 18,
   "id": "6cc1806d-4e15-4e95-bf3e-312495efa06e",
   "metadata": {},
   "outputs": [
    {
     "data": {
      "text/plain": [
       "30"
      ]
     },
     "execution_count": 18,
     "metadata": {},
     "output_type": "execute_result"
    }
   ],
   "source": [
    "reduce(lambda a,b: a+b, map(square, numbers))"
   ]
  },
  {
   "cell_type": "markdown",
   "id": "eda26a49-bf05-41ae-9ab1-68eea332471c",
   "metadata": {},
   "source": [
    "Don't like the whole `lambda a,b: a+b`?  Use the `add` function from the `operator` library:"
   ]
  },
  {
   "cell_type": "code",
   "execution_count": 19,
   "id": "27638c82-2879-4444-ab3b-84407ae46f60",
   "metadata": {},
   "outputs": [],
   "source": [
    "from operator import add"
   ]
  },
  {
   "cell_type": "code",
   "execution_count": 20,
   "id": "9e355625-7a7d-4528-9f68-b2ed7dd185d3",
   "metadata": {},
   "outputs": [
    {
     "data": {
      "text/plain": [
       "30"
      ]
     },
     "execution_count": 20,
     "metadata": {},
     "output_type": "execute_result"
    }
   ],
   "source": [
    "reduce(add, map(square, numbers))"
   ]
  },
  {
   "cell_type": "markdown",
   "id": "7ee62649-a671-4932-a704-2e4bb0823d32",
   "metadata": {},
   "source": [
    "First, let's load our regular expressions library (yup, again):"
   ]
  },
  {
   "cell_type": "code",
   "execution_count": 21,
   "id": "5cc039a6-bf78-4966-ae05-f87b63b96dc4",
   "metadata": {},
   "outputs": [],
   "source": [
    "import re"
   ]
  },
  {
   "cell_type": "markdown",
   "id": "82dcf0c1-ae2b-4796-9048-4fc0a4aa67e2",
   "metadata": {},
   "source": [
    "Now let's load in a datafile into an RDD:"
   ]
  },
  {
   "cell_type": "code",
   "execution_count": 22,
   "id": "7bc55441-e589-4e7f-90b7-2a063b5129ea",
   "metadata": {
    "scrolled": true
   },
   "outputs": [],
   "source": [
    "input_file = sc.textFile('/nfs/turbo/arcts-data-hadoop-stage/data/Gutenberg.txt')"
   ]
  },
  {
   "cell_type": "markdown",
   "id": "a97c5900-6c41-4905-9219-3586f505003a",
   "metadata": {},
   "source": [
    "We're going to be using the same regex over and over again, so it's best to \"compile\" it so that we can leverage a python optimization:"
   ]
  },
  {
   "cell_type": "code",
   "execution_count": 24,
   "id": "6b64e932-4d8b-4ce7-ad97-ca705f9a0df3",
   "metadata": {},
   "outputs": [],
   "source": [
    "WORD_RE = re.compile(r\"\\b[\\w']+\\b\")"
   ]
  },
  {
   "cell_type": "code",
   "execution_count": 25,
   "id": "1dc518e0-1020-4709-9f2f-6459c4c4f74f",
   "metadata": {
    "scrolled": true
   },
   "outputs": [
    {
     "data": {
      "text/plain": [
       "['', 'LINCOLN LETTERS']"
      ]
     },
     "execution_count": 25,
     "metadata": {},
     "output_type": "execute_result"
    }
   ],
   "source": [
    "input_file.take(2)"
   ]
  },
  {
   "cell_type": "markdown",
   "id": "9f5c21ca-7572-4aa4-bb65-c92637e0f932",
   "metadata": {},
   "source": [
    "The next block will do three things, which we'll talk about in class"
   ]
  },
  {
   "cell_type": "code",
   "execution_count": 26,
   "id": "4454abe1-6c7c-431e-a4d5-da32f9ace8ae",
   "metadata": {},
   "outputs": [],
   "source": [
    "word_count1 = input_file.flatMap(lambda line: WORD_RE.findall(line+''))\n",
    "word_count2 = word_count1.map(lambda word: (word, 1)) \n",
    "word_count3 = word_count2.reduceByKey(lambda a, b: a + b)"
   ]
  },
  {
   "cell_type": "code",
   "execution_count": 27,
   "id": "f94045db-748f-42c3-a627-fbcc7836c7e4",
   "metadata": {},
   "outputs": [
    {
     "data": {
      "text/plain": [
       "PythonRDD[10] at RDD at PythonRDD.scala:53"
      ]
     },
     "execution_count": 27,
     "metadata": {},
     "output_type": "execute_result"
    }
   ],
   "source": [
    "word_count3"
   ]
  },
  {
   "cell_type": "code",
   "execution_count": 28,
   "id": "a6ab87b5-0b04-493d-a73d-e4f1506dc36f",
   "metadata": {},
   "outputs": [
    {
     "data": {
      "text/plain": [
       "[('of', 6666351), ('there', 508083), ('answered', 74492)]"
      ]
     },
     "execution_count": 28,
     "metadata": {},
     "output_type": "execute_result"
    }
   ],
   "source": [
    "word_count3.take(3)"
   ]
  },
  {
   "cell_type": "markdown",
   "id": "a434ed95-ee4d-4355-8146-87b71d30a0a2",
   "metadata": {},
   "source": [
    "Insert your answer here."
   ]
  },
  {
   "cell_type": "markdown",
   "id": "ef92a219-9f3e-47af-a655-2397aae0e32b",
   "metadata": {},
   "source": [
    "Now let's sort the results by value in descending order and put the results in another RDD:"
   ]
  },
  {
   "cell_type": "code",
   "execution_count": 29,
   "id": "fd102e18-9cac-442f-a106-4a5f5e31c7f0",
   "metadata": {},
   "outputs": [
    {
     "data": {
      "text/plain": [
       "[('the', 11518058),\n",
       " ('of', 6666351),\n",
       " ('and', 6573202),\n",
       " ('to', 5692140),\n",
       " ('a', 4394263),\n",
       " ('in', 3419281),\n",
       " ('I', 3012929),\n",
       " ('that', 2729376),\n",
       " ('was', 2449989),\n",
       " ('he', 2116609)]"
      ]
     },
     "execution_count": 29,
     "metadata": {},
     "output_type": "execute_result"
    }
   ],
   "source": [
    "word_counts_sorted = word_count3.sortBy(lambda x: x[1], ascending =\n",
    "False)\n",
    "# top100_sorted = sc.parallelize(word_counts_sorted.take(100))\n",
    "word_counts_sorted.take(10)"
   ]
  },
  {
   "cell_type": "code",
   "execution_count": null,
   "id": "1ef39cfd-cf9e-4e63-a178-187d764c9410",
   "metadata": {
    "scrolled": true
   },
   "outputs": [],
   "source": [
    "top_100 = top100_sorted.collect()\n",
    "for word in top_100:\n",
    "    print(word[0],'\\t',word[1])"
   ]
  },
  {
   "cell_type": "code",
   "execution_count": 30,
   "id": "33ca2a99-0058-48b7-befe-79f776d039ea",
   "metadata": {
    "scrolled": true
   },
   "outputs": [],
   "source": [
    "counts = input_file.flatMap(lambda line: WORD_RE.findall(line+'')) \\\n",
    "             .map(lambda word: word.lower()) \\\n",
    "             .map(lambda word: (word, 1)) \\\n",
    "             .reduceByKey(lambda a, b: a + b) \\\n",
    "             .sortBy(lambda a: a[1],ascending=False)"
   ]
  },
  {
   "cell_type": "code",
   "execution_count": 31,
   "id": "d466010c-0c71-48fa-8764-9c9fec7994c5",
   "metadata": {},
   "outputs": [
    {
     "data": {
      "text/plain": [
       "[('the', 12502647),\n",
       " ('and', 6973848),\n",
       " ('of', 6761399),\n",
       " ('to', 5801177),\n",
       " ('a', 4601096),\n",
       " ('in', 3622307),\n",
       " ('i', 3033950),\n",
       " ('that', 2846731),\n",
       " ('he', 2671184),\n",
       " ('was', 2466757)]"
      ]
     },
     "execution_count": 31,
     "metadata": {},
     "output_type": "execute_result"
    }
   ],
   "source": [
    "counts.take(10)"
   ]
  },
  {
   "cell_type": "code",
   "execution_count": null,
   "id": "4c640729-f358-48ad-a78c-1ec8c19d49a8",
   "metadata": {},
   "outputs": [],
   "source": [
    "words = input_file.flatMap(lambda line: WORD_RE.findall(line))"
   ]
  },
  {
   "cell_type": "code",
   "execution_count": null,
   "id": "8a52058a-cab6-475f-8a18-8177d0c8a8ed",
   "metadata": {},
   "outputs": [],
   "source": [
    "counts = words.map(lambda word: (None,1)).reduceByKey(lambda a, b: a + b)"
   ]
  },
  {
   "cell_type": "code",
   "execution_count": null,
   "id": "6e469689-2352-4083-8313-b77b98a6d2eb",
   "metadata": {
    "scrolled": true
   },
   "outputs": [],
   "source": [
    "counts.take(1)"
   ]
  },
  {
   "cell_type": "code",
   "execution_count": null,
   "id": "8f017a54-6951-4665-adf0-0d5bc74162e3",
   "metadata": {},
   "outputs": [],
   "source": [
    "word_counts = input_file.flatMap(lambda line: WORD_RE.findall(line)).countByValue()\n",
    "type(word_counts)"
   ]
  },
  {
   "cell_type": "code",
   "execution_count": null,
   "id": "964db69a-daf2-43d7-886b-5323cd1ba2f6",
   "metadata": {},
   "outputs": [],
   "source": [
    "word_counts"
   ]
  },
  {
   "cell_type": "markdown",
   "id": "9010e68f-28b2-480e-b52d-b9f8bd051817",
   "metadata": {},
   "source": [
    "## Spark DataFrames"
   ]
  },
  {
   "cell_type": "code",
   "execution_count": 32,
   "id": "320b2a1b-d9de-4356-85be-da0baa88e56f",
   "metadata": {},
   "outputs": [
    {
     "name": "stdout",
     "output_type": "stream",
     "text": [
      "+-----+-----+\n",
      "| name|score|\n",
      "+-----+-----+\n",
      "|Chris|   67|\n",
      "|Logan|   70|\n",
      "+-----+-----+\n",
      "\n"
     ]
    }
   ],
   "source": [
    "df_from_other_list = spark.createDataFrame([('Chris',67),('Logan',70)], ['name','score'])\n",
    "df_from_other_list.show()"
   ]
  },
  {
   "cell_type": "code",
   "execution_count": 33,
   "id": "e9fa39e2-38ff-4005-aede-c770089b58e8",
   "metadata": {
    "scrolled": true
   },
   "outputs": [
    {
     "name": "stdout",
     "output_type": "stream",
     "text": [
      "+-----+\n",
      "|value|\n",
      "+-----+\n",
      "|  1.0|\n",
      "|  2.0|\n",
      "|  3.0|\n",
      "|  4.0|\n",
      "|  5.0|\n",
      "+-----+\n",
      "\n"
     ]
    }
   ],
   "source": [
    "from pyspark.sql.types import FloatType\n",
    "df_from_list = spark.createDataFrame([1.0,2.0,3.0,4.0,5.0], FloatType())\n",
    "df_from_list.show()"
   ]
  },
  {
   "cell_type": "code",
   "execution_count": 34,
   "id": "a9f42345-2ce8-4bfa-b55f-4842a96daeaf",
   "metadata": {},
   "outputs": [
    {
     "data": {
      "text/plain": [
       "pyspark.sql.dataframe.DataFrame"
      ]
     },
     "execution_count": 34,
     "metadata": {},
     "output_type": "execute_result"
    }
   ],
   "source": [
    "type(df_from_list)"
   ]
  },
  {
   "cell_type": "code",
   "execution_count": 35,
   "id": "b062a240-384f-45cb-8b56-fdbbbf3d8572",
   "metadata": {},
   "outputs": [
    {
     "data": {
      "text/plain": [
       "MapPartitionsRDD[47] at javaToPython at NativeMethodAccessorImpl.java:0"
      ]
     },
     "execution_count": 35,
     "metadata": {},
     "output_type": "execute_result"
    }
   ],
   "source": [
    "df_from_list.rdd"
   ]
  },
  {
   "cell_type": "code",
   "execution_count": 36,
   "id": "f845af11-9a1e-44e3-9c24-005094d677c7",
   "metadata": {},
   "outputs": [
    {
     "data": {
      "text/plain": [
       "[Row(value=1.0),\n",
       " Row(value=2.0),\n",
       " Row(value=3.0),\n",
       " Row(value=4.0),\n",
       " Row(value=5.0)]"
      ]
     },
     "execution_count": 36,
     "metadata": {},
     "output_type": "execute_result"
    }
   ],
   "source": [
    "df_from_list.rdd.collect()"
   ]
  },
  {
   "cell_type": "code",
   "execution_count": 38,
   "id": "92c04e20-6b43-4f01-8f52-bdab9f1f8785",
   "metadata": {
    "scrolled": true
   },
   "outputs": [],
   "source": [
    "# other ways to innitialize\n",
    "\n",
    "lot_rdd = sc.parallelize([('Chris',67),('Logan',70)])"
   ]
  },
  {
   "cell_type": "code",
   "execution_count": 39,
   "id": "e8205a2b-9f22-4765-af44-77dfd2439a5b",
   "metadata": {},
   "outputs": [
    {
     "name": "stdout",
     "output_type": "stream",
     "text": [
      "+-----+---+\n",
      "|   _1| _2|\n",
      "+-----+---+\n",
      "|Chris| 67|\n",
      "|Logan| 70|\n",
      "+-----+---+\n",
      "\n"
     ]
    }
   ],
   "source": [
    "dfPeople = spark.createDataFrame(lot_rdd)\n",
    "dfPeople.show()"
   ]
  },
  {
   "cell_type": "code",
   "execution_count": 45,
   "id": "9e1a8736-c286-40dd-8efe-fc1c3d6b2363",
   "metadata": {
    "scrolled": true
   },
   "outputs": [
    {
     "name": "stdout",
     "output_type": "stream",
     "text": [
      "+-----+-----+\n",
      "| name|score|\n",
      "+-----+-----+\n",
      "|Chris|   67|\n",
      "|Logan|   70|\n",
      "+-----+-----+\n",
      "\n"
     ]
    }
   ],
   "source": [
    "# other ways to innitialize\n",
    "\n",
    "from pyspark.sql import Row\n",
    "lot_rdd_named_columns = lot_rdd.map(lambda x: Row(name=x[0], score=int(x[1])))\n",
    "dfPeople_named_columns = spark.createDataFrame(lot_rdd_named_columns)\n",
    "dfPeople_named_columns.show()"
   ]
  },
  {
   "cell_type": "code",
   "execution_count": null,
   "id": "52f86fdf",
   "metadata": {},
   "outputs": [],
   "source": [
    "# one example"
   ]
  },
  {
   "cell_type": "code",
   "execution_count": 42,
   "id": "f44ff6ec-984b-4e46-826e-fd383aad2601",
   "metadata": {
    "scrolled": true
   },
   "outputs": [],
   "source": [
    "df = spark.read.json('/scratch/si618w22_class_root/si618w22_class/shared_data/yelp_academic_dataset_business.json.gz')"
   ]
  },
  {
   "cell_type": "code",
   "execution_count": 43,
   "id": "3a084aef-8238-42d8-8220-f19760ab02cb",
   "metadata": {},
   "outputs": [
    {
     "name": "stdout",
     "output_type": "stream",
     "text": [
      "root\n",
      " |-- address: string (nullable = true)\n",
      " |-- attributes: struct (nullable = true)\n",
      " |    |-- AcceptsInsurance: string (nullable = true)\n",
      " |    |-- AgesAllowed: string (nullable = true)\n",
      " |    |-- Alcohol: string (nullable = true)\n",
      " |    |-- Ambience: string (nullable = true)\n",
      " |    |-- BYOB: string (nullable = true)\n",
      " |    |-- BYOBCorkage: string (nullable = true)\n",
      " |    |-- BestNights: string (nullable = true)\n",
      " |    |-- BikeParking: string (nullable = true)\n",
      " |    |-- BusinessAcceptsBitcoin: string (nullable = true)\n",
      " |    |-- BusinessAcceptsCreditCards: string (nullable = true)\n",
      " |    |-- BusinessParking: string (nullable = true)\n",
      " |    |-- ByAppointmentOnly: string (nullable = true)\n",
      " |    |-- Caters: string (nullable = true)\n",
      " |    |-- CoatCheck: string (nullable = true)\n",
      " |    |-- Corkage: string (nullable = true)\n",
      " |    |-- DietaryRestrictions: string (nullable = true)\n",
      " |    |-- DogsAllowed: string (nullable = true)\n",
      " |    |-- DriveThru: string (nullable = true)\n",
      " |    |-- GoodForDancing: string (nullable = true)\n",
      " |    |-- GoodForKids: string (nullable = true)\n",
      " |    |-- GoodForMeal: string (nullable = true)\n",
      " |    |-- HairSpecializesIn: string (nullable = true)\n",
      " |    |-- HappyHour: string (nullable = true)\n",
      " |    |-- HasTV: string (nullable = true)\n",
      " |    |-- Music: string (nullable = true)\n",
      " |    |-- NoiseLevel: string (nullable = true)\n",
      " |    |-- Open24Hours: string (nullable = true)\n",
      " |    |-- OutdoorSeating: string (nullable = true)\n",
      " |    |-- RestaurantsAttire: string (nullable = true)\n",
      " |    |-- RestaurantsCounterService: string (nullable = true)\n",
      " |    |-- RestaurantsDelivery: string (nullable = true)\n",
      " |    |-- RestaurantsGoodForGroups: string (nullable = true)\n",
      " |    |-- RestaurantsPriceRange2: string (nullable = true)\n",
      " |    |-- RestaurantsReservations: string (nullable = true)\n",
      " |    |-- RestaurantsTableService: string (nullable = true)\n",
      " |    |-- RestaurantsTakeOut: string (nullable = true)\n",
      " |    |-- Smoking: string (nullable = true)\n",
      " |    |-- WheelchairAccessible: string (nullable = true)\n",
      " |    |-- WiFi: string (nullable = true)\n",
      " |-- business_id: string (nullable = true)\n",
      " |-- categories: string (nullable = true)\n",
      " |-- city: string (nullable = true)\n",
      " |-- hours: struct (nullable = true)\n",
      " |    |-- Friday: string (nullable = true)\n",
      " |    |-- Monday: string (nullable = true)\n",
      " |    |-- Saturday: string (nullable = true)\n",
      " |    |-- Sunday: string (nullable = true)\n",
      " |    |-- Thursday: string (nullable = true)\n",
      " |    |-- Tuesday: string (nullable = true)\n",
      " |    |-- Wednesday: string (nullable = true)\n",
      " |-- is_open: long (nullable = true)\n",
      " |-- latitude: double (nullable = true)\n",
      " |-- longitude: double (nullable = true)\n",
      " |-- name: string (nullable = true)\n",
      " |-- postal_code: string (nullable = true)\n",
      " |-- review_count: long (nullable = true)\n",
      " |-- stars: double (nullable = true)\n",
      " |-- state: string (nullable = true)\n",
      "\n"
     ]
    }
   ],
   "source": [
    "df.printSchema()"
   ]
  },
  {
   "cell_type": "code",
   "execution_count": 49,
   "id": "484a365c-e36b-46db-99f8-97c2b400701b",
   "metadata": {},
   "outputs": [
    {
     "data": {
      "text/plain": [
       "[Row(address='2818 E Camino Acequia Drive', attributes=Row(AcceptsInsurance=None, AgesAllowed=None, Alcohol=None, Ambience=None, BYOB=None, BYOBCorkage=None, BestNights=None, BikeParking=None, BusinessAcceptsBitcoin=None, BusinessAcceptsCreditCards=None, BusinessParking=None, ByAppointmentOnly=None, Caters=None, CoatCheck=None, Corkage=None, DietaryRestrictions=None, DogsAllowed=None, DriveThru=None, GoodForDancing=None, GoodForKids='False', GoodForMeal=None, HairSpecializesIn=None, HappyHour=None, HasTV=None, Music=None, NoiseLevel=None, Open24Hours=None, OutdoorSeating=None, RestaurantsAttire=None, RestaurantsCounterService=None, RestaurantsDelivery=None, RestaurantsGoodForGroups=None, RestaurantsPriceRange2=None, RestaurantsReservations=None, RestaurantsTableService=None, RestaurantsTakeOut=None, Smoking=None, WheelchairAccessible=None, WiFi=None), business_id='1SWheh84yJXfytovILXOAQ', categories='Golf, Active Life', city='Phoenix', hours=None, is_open=0, latitude=33.5221425, longitude=-112.0184807, name='Arizona Biltmore Golf Club', postal_code='85016', review_count=5, stars=3.0, state='AZ'),\n",
       " Row(address='30 Eglinton Avenue W', attributes=Row(AcceptsInsurance=None, AgesAllowed=None, Alcohol=\"u'full_bar'\", Ambience=\"{'romantic': False, 'intimate': False, 'classy': False, 'hipster': False, 'divey': False, 'touristy': False, 'trendy': False, 'upscale': False, 'casual': True}\", BYOB=None, BYOBCorkage=None, BestNights=None, BikeParking='False', BusinessAcceptsBitcoin=None, BusinessAcceptsCreditCards=None, BusinessParking=\"{'garage': False, 'street': False, 'validated': False, 'lot': True, 'valet': False}\", ByAppointmentOnly=None, Caters='True', CoatCheck=None, Corkage=None, DietaryRestrictions=None, DogsAllowed=None, DriveThru=None, GoodForDancing=None, GoodForKids='True', GoodForMeal=\"{'dessert': False, 'latenight': False, 'lunch': True, 'dinner': True, 'brunch': False, 'breakfast': False}\", HairSpecializesIn=None, HappyHour=None, HasTV='False', Music=None, NoiseLevel=\"u'loud'\", Open24Hours=None, OutdoorSeating='False', RestaurantsAttire=\"u'casual'\", RestaurantsCounterService=None, RestaurantsDelivery='False', RestaurantsGoodForGroups='True', RestaurantsPriceRange2='2', RestaurantsReservations='True', RestaurantsTableService='True', RestaurantsTakeOut='True', Smoking=None, WheelchairAccessible=None, WiFi=\"u'no'\"), business_id='QXAEGFB4oINsVuTFxEYKFQ', categories='Specialty Food, Restaurants, Dim Sum, Imported Food, Food, Chinese, Ethnic Food, Seafood', city='Mississauga', hours=Row(Friday='9:0-1:0', Monday='9:0-0:0', Saturday='9:0-1:0', Sunday='9:0-0:0', Thursday='9:0-0:0', Tuesday='9:0-0:0', Wednesday='9:0-0:0'), is_open=1, latitude=43.6054989743, longitude=-79.652288909, name='Emerald Chinese Restaurant', postal_code='L5R 3E7', review_count=128, stars=2.5, state='ON'),\n",
       " Row(address='10110 Johnston Rd, Ste 15', attributes=Row(AcceptsInsurance=None, AgesAllowed=None, Alcohol=\"u'beer_and_wine'\", Ambience=\"{'romantic': False, 'intimate': False, 'touristy': False, 'hipster': False, 'divey': False, 'classy': False, 'trendy': False, 'upscale': False, 'casual': True}\", BYOB=None, BYOBCorkage=None, BestNights=None, BikeParking='True', BusinessAcceptsBitcoin=None, BusinessAcceptsCreditCards='True', BusinessParking=\"{'garage': False, 'street': False, 'validated': False, 'lot': True, 'valet': False}\", ByAppointmentOnly=None, Caters='False', CoatCheck=None, Corkage=None, DietaryRestrictions=None, DogsAllowed=None, DriveThru=None, GoodForDancing=None, GoodForKids='True', GoodForMeal=\"{'dessert': False, 'latenight': False, 'lunch': True, 'dinner': True, 'brunch': False, 'breakfast': False}\", HairSpecializesIn=None, HappyHour=None, HasTV='True', Music=None, NoiseLevel=\"u'average'\", Open24Hours=None, OutdoorSeating='False', RestaurantsAttire=\"'casual'\", RestaurantsCounterService=None, RestaurantsDelivery='False', RestaurantsGoodForGroups='True', RestaurantsPriceRange2='2', RestaurantsReservations='True', RestaurantsTableService='True', RestaurantsTakeOut='True', Smoking=None, WheelchairAccessible=None, WiFi=\"u'no'\"), business_id='gnKjwL_1w79qoiV3IC_xQQ', categories='Sushi Bars, Restaurants, Japanese', city='Charlotte', hours=Row(Friday='17:30-22:0', Monday='17:30-21:30', Saturday='17:30-22:0', Sunday='17:30-21:0', Thursday='17:30-21:30', Tuesday=None, Wednesday='17:30-21:30'), is_open=1, latitude=35.092564, longitude=-80.859132, name='Musashi Japanese Restaurant', postal_code='28210', review_count=170, stars=4.0, state='NC'),\n",
       " Row(address='15655 W Roosevelt St, Ste 237', attributes=None, business_id='xvX2CttrVhyG2z1dFg_0xw', categories='Insurance, Financial Services', city='Goodyear', hours=Row(Friday='8:0-17:0', Monday='8:0-17:0', Saturday=None, Sunday=None, Thursday='8:0-17:0', Tuesday='8:0-17:0', Wednesday='8:0-17:0'), is_open=1, latitude=33.4556129678, longitude=-112.3955963552, name='Farmers Insurance - Paul Lorenz', postal_code='85338', review_count=3, stars=5.0, state='AZ'),\n",
       " Row(address='4209 Stuart Andrew Blvd, Ste F', attributes=Row(AcceptsInsurance=None, AgesAllowed=None, Alcohol=None, Ambience=None, BYOB=None, BYOBCorkage=None, BestNights=None, BikeParking=None, BusinessAcceptsBitcoin='False', BusinessAcceptsCreditCards='True', BusinessParking=None, ByAppointmentOnly='True', Caters=None, CoatCheck=None, Corkage=None, DietaryRestrictions=None, DogsAllowed=None, DriveThru=None, GoodForDancing=None, GoodForKids=None, GoodForMeal=None, HairSpecializesIn=None, HappyHour=None, HasTV=None, Music=None, NoiseLevel=None, Open24Hours=None, OutdoorSeating=None, RestaurantsAttire=None, RestaurantsCounterService=None, RestaurantsDelivery=None, RestaurantsGoodForGroups=None, RestaurantsPriceRange2=None, RestaurantsReservations=None, RestaurantsTableService=None, RestaurantsTakeOut=None, Smoking=None, WheelchairAccessible=None, WiFi=None), business_id='HhyxOkGAM07SRYtlQ4wMFQ', categories='Plumbing, Shopping, Local Services, Home Services, Kitchen & Bath, Home & Garden, Water Heater Installation/Repair', city='Charlotte', hours=Row(Friday='7:0-23:0', Monday='7:0-23:0', Saturday='7:0-23:0', Sunday='7:0-23:0', Thursday='7:0-23:0', Tuesday='7:0-23:0', Wednesday='7:0-23:0'), is_open=1, latitude=35.1900119, longitude=-80.8872232, name='Queen City Plumbing', postal_code='28217', review_count=4, stars=4.0, state='NC')]"
      ]
     },
     "execution_count": 49,
     "metadata": {},
     "output_type": "execute_result"
    }
   ],
   "source": [
    "df.take(5)"
   ]
  },
  {
   "cell_type": "code",
   "execution_count": 50,
   "id": "6ecee4b7",
   "metadata": {},
   "outputs": [],
   "source": [
    "output = df.take(5)"
   ]
  },
  {
   "cell_type": "code",
   "execution_count": 51,
   "id": "963a0525",
   "metadata": {},
   "outputs": [
    {
     "ename": "AttributeError",
     "evalue": "'list' object has no attribute 'address'",
     "output_type": "error",
     "traceback": [
      "\u001b[0;31m---------------------------------------------------------------------------\u001b[0m",
      "\u001b[0;31mAttributeError\u001b[0m                            Traceback (most recent call last)",
      "\u001b[0;32m<ipython-input-51-d1707607cd4b>\u001b[0m in \u001b[0;36m<module>\u001b[0;34m\u001b[0m\n\u001b[0;32m----> 1\u001b[0;31m \u001b[0moutput\u001b[0m\u001b[0;34m.\u001b[0m\u001b[0maddress\u001b[0m\u001b[0;34m\u001b[0m\u001b[0;34m\u001b[0m\u001b[0m\n\u001b[0m",
      "\u001b[0;31mAttributeError\u001b[0m: 'list' object has no attribute 'address'"
     ]
    }
   ],
   "source": [
    "output.address"
   ]
  },
  {
   "cell_type": "code",
   "execution_count": 47,
   "id": "192f4028-d771-446e-a706-3c90a81b3516",
   "metadata": {
    "scrolled": true
   },
   "outputs": [
    {
     "name": "stdout",
     "output_type": "stream",
     "text": [
      "+--------------------+--------------------+--------------------+--------------------+-----------+--------------------+-------+-------------+---------------+--------------------+-----------+------------+-----+-----+\n",
      "|             address|          attributes|         business_id|          categories|       city|               hours|is_open|     latitude|      longitude|                name|postal_code|review_count|stars|state|\n",
      "+--------------------+--------------------+--------------------+--------------------+-----------+--------------------+-------+-------------+---------------+--------------------+-----------+------------+-----+-----+\n",
      "|2818 E Camino Ace...|{null, null, null...|1SWheh84yJXfytovI...|   Golf, Active Life|    Phoenix|                null|      0|   33.5221425|   -112.0184807|Arizona Biltmore ...|      85016|           5|  3.0|   AZ|\n",
      "|30 Eglinton Avenue W|{null, null, u'fu...|QXAEGFB4oINsVuTFx...|Specialty Food, R...|Mississauga|{9:0-1:0, 9:0-0:0...|      1|43.6054989743|  -79.652288909|Emerald Chinese R...|    L5R 3E7|         128|  2.5|   ON|\n",
      "|10110 Johnston Rd...|{null, null, u'be...|gnKjwL_1w79qoiV3I...|Sushi Bars, Resta...|  Charlotte|{17:30-22:0, 17:3...|      1|    35.092564|     -80.859132|Musashi Japanese ...|      28210|         170|  4.0|   NC|\n",
      "|15655 W Roosevelt...|                null|xvX2CttrVhyG2z1dF...|Insurance, Financ...|   Goodyear|{8:0-17:0, 8:0-17...|      1|33.4556129678|-112.3955963552|Farmers Insurance...|      85338|           3|  5.0|   AZ|\n",
      "|4209 Stuart Andre...|{null, null, null...|HhyxOkGAM07SRYtlQ...|Plumbing, Shoppin...|  Charlotte|{7:0-23:0, 7:0-23...|      1|   35.1900119|    -80.8872232| Queen City Plumbing|      28217|           4|  4.0|   NC|\n",
      "+--------------------+--------------------+--------------------+--------------------+-----------+--------------------+-------+-------------+---------------+--------------------+-----------+------------+-----+-----+\n",
      "only showing top 5 rows\n",
      "\n"
     ]
    }
   ],
   "source": [
    "df.show(5)"
   ]
  },
  {
   "cell_type": "code",
   "execution_count": 48,
   "id": "c9d9a33a-6fa6-4690-9892-cf8f2971ffc1",
   "metadata": {
    "scrolled": true
   },
   "outputs": [
    {
     "name": "stdout",
     "output_type": "stream",
     "text": [
      "+--------------------+\n",
      "|                name|\n",
      "+--------------------+\n",
      "|Arizona Biltmore ...|\n",
      "|Emerald Chinese R...|\n",
      "|Musashi Japanese ...|\n",
      "|Farmers Insurance...|\n",
      "| Queen City Plumbing|\n",
      "|       The UPS Store|\n",
      "|    Edgeworxx Studio|\n",
      "|           Supercuts|\n",
      "|Vita Bella Fine D...|\n",
      "| Options Salon & Spa|\n",
      "|Nucleus Informati...|\n",
      "|           Taco Bell|\n",
      "|The Kilted Buffal...|\n",
      "|       Marco's Pizza|\n",
      "|          Baby Cakes|\n",
      "|   Hot Yoga Wellness|\n",
      "|          Knot Salon|\n",
      "|Carluccio's Tivol...|\n",
      "|Myron Hensel Phot...|\n",
      "|  Totum Life Science|\n",
      "+--------------------+\n",
      "only showing top 20 rows\n",
      "\n"
     ]
    }
   ],
   "source": [
    "df.select(\"name\").show()"
   ]
  },
  {
   "cell_type": "code",
   "execution_count": 52,
   "id": "dd12d17b-6066-4e41-a795-702c86906bcc",
   "metadata": {},
   "outputs": [
    {
     "name": "stdout",
     "output_type": "stream",
     "text": [
      "+-------------------------------+\n",
      "|name                           |\n",
      "+-------------------------------+\n",
      "|Arizona Biltmore Golf Club     |\n",
      "|Emerald Chinese Restaurant     |\n",
      "|Musashi Japanese Restaurant    |\n",
      "|Farmers Insurance - Paul Lorenz|\n",
      "|Queen City Plumbing            |\n",
      "|The UPS Store                  |\n",
      "|Edgeworxx Studio               |\n",
      "|Supercuts                      |\n",
      "|Vita Bella Fine Day Spa        |\n",
      "|Options Salon & Spa            |\n",
      "|Nucleus Information Service    |\n",
      "|Taco Bell                      |\n",
      "|The Kilted Buffalo Langtree    |\n",
      "|Marco's Pizza                  |\n",
      "|Baby Cakes                     |\n",
      "|Hot Yoga Wellness              |\n",
      "|Knot Salon                     |\n",
      "|Carluccio's Tivoli Gardens     |\n",
      "|Myron Hensel Photography       |\n",
      "|Totum Life Science             |\n",
      "+-------------------------------+\n",
      "only showing top 20 rows\n",
      "\n"
     ]
    }
   ],
   "source": [
    "df.select(\"name\").show(truncate=False)"
   ]
  },
  {
   "cell_type": "code",
   "execution_count": 54,
   "id": "0e452884-7e65-4482-ab61-4a3d40039f7d",
   "metadata": {
    "scrolled": true
   },
   "outputs": [
    {
     "name": "stdout",
     "output_type": "stream",
     "text": [
      "+--------------------+------------------+\n",
      "|                name|(review_count + 1)|\n",
      "+--------------------+------------------+\n",
      "|Arizona Biltmore ...|                 6|\n",
      "|Emerald Chinese R...|               129|\n",
      "|Musashi Japanese ...|               171|\n",
      "|Farmers Insurance...|                 4|\n",
      "| Queen City Plumbing|                 5|\n",
      "|       The UPS Store|                 4|\n",
      "|    Edgeworxx Studio|                 8|\n",
      "|           Supercuts|                 4|\n",
      "|Vita Bella Fine D...|                 9|\n",
      "| Options Salon & Spa|                 9|\n",
      "|Nucleus Informati...|                 6|\n",
      "|           Taco Bell|                19|\n",
      "|The Kilted Buffal...|                10|\n",
      "|       Marco's Pizza|                17|\n",
      "|          Baby Cakes|                 8|\n",
      "|   Hot Yoga Wellness|                 5|\n",
      "|          Knot Salon|                 6|\n",
      "|Carluccio's Tivol...|                41|\n",
      "|Myron Hensel Phot...|                22|\n",
      "|  Totum Life Science|                24|\n",
      "+--------------------+------------------+\n",
      "only showing top 20 rows\n",
      "\n"
     ]
    }
   ],
   "source": [
    "df.select(df['name'], df['review_count'] + 1).show()"
   ]
  },
  {
   "cell_type": "code",
   "execution_count": 55,
   "id": "2c49a0f0-baa2-4fdc-97f6-eb2e7a057312",
   "metadata": {},
   "outputs": [
    {
     "data": {
      "text/plain": [
       "192609"
      ]
     },
     "execution_count": 55,
     "metadata": {},
     "output_type": "execute_result"
    }
   ],
   "source": [
    "df.count()"
   ]
  },
  {
   "cell_type": "code",
   "execution_count": 57,
   "id": "85c8663e-5aad-41ce-a15b-6755fa54fb24",
   "metadata": {},
   "outputs": [
    {
     "name": "stdout",
     "output_type": "stream",
     "text": [
      "+--------------------+\n",
      "|                name|\n",
      "+--------------------+\n",
      "|Musashi Japanese ...|\n",
      "|Farmers Insurance...|\n",
      "| Queen City Plumbing|\n",
      "|Vita Bella Fine D...|\n",
      "| Options Salon & Spa|\n",
      "|       Marco's Pizza|\n",
      "|   Hot Yoga Wellness|\n",
      "|          Knot Salon|\n",
      "|Carluccio's Tivol...|\n",
      "|Myron Hensel Phot...|\n",
      "|  Totum Life Science|\n",
      "|      Fremont Arcade|\n",
      "|        Hunk Mansion|\n",
      "|      Marathon Diner|\n",
      "|            Maurices|\n",
      "|Maria's Mexican R...|\n",
      "|       Bakery Gateau|\n",
      "| Uncle Otis Clothing|\n",
      "|        AW Collision|\n",
      "|JSE Automotive Se...|\n",
      "+--------------------+\n",
      "only showing top 20 rows\n",
      "\n"
     ]
    }
   ],
   "source": [
    "df.filter(df['stars'] >= 4).select('name').show()"
   ]
  },
  {
   "cell_type": "code",
   "execution_count": 58,
   "id": "27b64e6c-b435-4b2c-8055-e62562ca5466",
   "metadata": {},
   "outputs": [
    {
     "name": "stdout",
     "output_type": "stream",
     "text": [
      "+-----+-----+\n",
      "|stars|count|\n",
      "+-----+-----+\n",
      "|  3.5|35008|\n",
      "|  4.5|27301|\n",
      "|  2.5|18843|\n",
      "|  1.0| 4874|\n",
      "|  4.0|35969|\n",
      "|  3.0|25996|\n",
      "|  2.0|11426|\n",
      "|  1.5| 4976|\n",
      "|  5.0|28216|\n",
      "+-----+-----+\n",
      "\n"
     ]
    }
   ],
   "source": [
    "df.groupBy('stars').count().show()"
   ]
  },
  {
   "cell_type": "code",
   "execution_count": 59,
   "id": "de4b9acd-fa62-4795-b835-c8146f258e69",
   "metadata": {},
   "outputs": [
    {
     "name": "stdout",
     "output_type": "stream",
     "text": [
      "+-----+-----+\n",
      "|stars|count|\n",
      "+-----+-----+\n",
      "|  5.0|28216|\n",
      "|  4.5|27301|\n",
      "|  4.0|35969|\n",
      "|  3.5|35008|\n",
      "|  3.0|25996|\n",
      "|  2.5|18843|\n",
      "|  2.0|11426|\n",
      "|  1.5| 4976|\n",
      "|  1.0| 4874|\n",
      "+-----+-----+\n",
      "\n"
     ]
    }
   ],
   "source": [
    "df.groupBy('stars').count().sort('stars', ascending=False).show()"
   ]
  },
  {
   "cell_type": "code",
   "execution_count": 60,
   "id": "689534fa-b94a-4d94-bec0-bcc114efa828",
   "metadata": {},
   "outputs": [
    {
     "name": "stdout",
     "output_type": "stream",
     "text": [
      "+-----+-----+\n",
      "|stars|count|\n",
      "+-----+-----+\n",
      "|  4.0|35969|\n",
      "|  3.5|35008|\n",
      "|  5.0|28216|\n",
      "|  4.5|27301|\n",
      "|  3.0|25996|\n",
      "|  2.5|18843|\n",
      "|  2.0|11426|\n",
      "|  1.5| 4976|\n",
      "|  1.0| 4874|\n",
      "+-----+-----+\n",
      "\n"
     ]
    }
   ],
   "source": [
    "df.groupby('stars').count().sort('count', ascending=False).show()"
   ]
  },
  {
   "cell_type": "code",
   "execution_count": 61,
   "id": "6d0d3471-694f-4225-b82c-13eaf56e0e6e",
   "metadata": {
    "scrolled": true
   },
   "outputs": [],
   "source": [
    "df_from_other_list = spark.createDataFrame([('Chris',[67,42]),('Logan',[70,72])],['name','scores'])"
   ]
  },
  {
   "cell_type": "code",
   "execution_count": 62,
   "id": "0db038db-1715-4ade-ac45-4895aaebcd7e",
   "metadata": {},
   "outputs": [
    {
     "name": "stdout",
     "output_type": "stream",
     "text": [
      "+-----+--------+\n",
      "| name|  scores|\n",
      "+-----+--------+\n",
      "|Chris|[67, 42]|\n",
      "|Logan|[70, 72]|\n",
      "+-----+--------+\n",
      "\n"
     ]
    }
   ],
   "source": [
    "df_from_other_list.show()"
   ]
  },
  {
   "cell_type": "code",
   "execution_count": 63,
   "id": "a10008ef-51a7-4b90-9f33-0aed5225e6df",
   "metadata": {},
   "outputs": [],
   "source": [
    "from pyspark.sql.functions import explode"
   ]
  },
  {
   "cell_type": "code",
   "execution_count": 64,
   "id": "a92ec3dc-b8f8-45fb-ad13-b58d02a9450e",
   "metadata": {},
   "outputs": [],
   "source": [
    "df_exploded = df_from_other_list.withColumn('score',explode('scores'))"
   ]
  },
  {
   "cell_type": "code",
   "execution_count": 65,
   "id": "5b950cd4-64f1-48fd-959a-357cbc6b3199",
   "metadata": {},
   "outputs": [
    {
     "name": "stdout",
     "output_type": "stream",
     "text": [
      "+-----+--------+-----+\n",
      "| name|  scores|score|\n",
      "+-----+--------+-----+\n",
      "|Chris|[67, 42]|   67|\n",
      "|Chris|[67, 42]|   42|\n",
      "|Logan|[70, 72]|   70|\n",
      "|Logan|[70, 72]|   72|\n",
      "+-----+--------+-----+\n",
      "\n"
     ]
    }
   ],
   "source": [
    "df_exploded.show()"
   ]
  },
  {
   "cell_type": "code",
   "execution_count": 66,
   "id": "84995836-dc2c-41e8-ba43-7cf43323a9b8",
   "metadata": {
    "scrolled": true
   },
   "outputs": [
    {
     "name": "stdout",
     "output_type": "stream",
     "text": [
      "+-----+--------+-----+----+\n",
      "| name|  scores|score|good|\n",
      "+-----+--------+-----+----+\n",
      "|Chris|[67, 42]|   67|   1|\n",
      "|Chris|[67, 42]|   42|   0|\n",
      "|Logan|[70, 72]|   70|   1|\n",
      "|Logan|[70, 72]|   72|   1|\n",
      "+-----+--------+-----+----+\n",
      "\n"
     ]
    }
   ],
   "source": [
    "import pyspark.sql.functions as F\n",
    "from pyspark.sql.functions import col\n",
    "df_exploded.withColumn('good',F.when(df_exploded['score'] > 50,1).otherwise(0)).show()"
   ]
  },
  {
   "cell_type": "markdown",
   "id": "28429ab5-8cba-4037-86be-b3155dcf8a4b",
   "metadata": {},
   "source": [
    "## Text analysis of Yelp reviews, warm-up"
   ]
  },
  {
   "cell_type": "code",
   "execution_count": 67,
   "id": "23b53dfa-c06e-4506-beee-61b20b05725b",
   "metadata": {},
   "outputs": [
    {
     "name": "stdout",
     "output_type": "stream",
     "text": [
      "CPU times: user 1.73 ms, sys: 837 µs, total: 2.57 ms\n",
      "Wall time: 224 ms\n"
     ]
    }
   ],
   "source": [
    "%time df = spark.read.parquet('/scratch/si618w22_class_root/si618w22_class/shared_data/yelp_academic_dataset_review.parquet')"
   ]
  },
  {
   "cell_type": "code",
   "execution_count": 68,
   "id": "2e5aad47-af6d-4151-a0d9-bf1a8ee1dc57",
   "metadata": {},
   "outputs": [
    {
     "name": "stdout",
     "output_type": "stream",
     "text": [
      "root\n",
      " |-- business_id: string (nullable = true)\n",
      " |-- cool: long (nullable = true)\n",
      " |-- date: string (nullable = true)\n",
      " |-- funny: long (nullable = true)\n",
      " |-- review_id: string (nullable = true)\n",
      " |-- text: string (nullable = true)\n",
      " |-- useful: long (nullable = true)\n",
      " |-- user_id: string (nullable = true)\n",
      " |-- stars: double (nullable = true)\n",
      "\n"
     ]
    }
   ],
   "source": [
    "df.printSchema()"
   ]
  },
  {
   "cell_type": "markdown",
   "id": "52fb0c75-22e2-42ab-9069-011ad694ac8b",
   "metadata": {},
   "source": [
    "### Q2: How many reviews are there?"
   ]
  },
  {
   "cell_type": "code",
   "execution_count": 69,
   "id": "28db9004-8a49-42c7-8d5f-967879ef9f9e",
   "metadata": {},
   "outputs": [
    {
     "data": {
      "text/plain": [
       "6685900"
      ]
     },
     "execution_count": 69,
     "metadata": {},
     "output_type": "execute_result"
    }
   ],
   "source": [
    "df.count()"
   ]
  },
  {
   "cell_type": "markdown",
   "id": "7e24ae8e-eb4f-42ca-9d71-2e79009e7730",
   "metadata": {},
   "source": [
    "### How many reviews for each value of star?\n"
   ]
  },
  {
   "cell_type": "code",
   "execution_count": 76,
   "id": "7661f57f-a31a-44b6-862a-d4b712c1dafc",
   "metadata": {},
   "outputs": [],
   "source": [
    "grouped = df.groupBy('stars')\n"
   ]
  },
  {
   "cell_type": "code",
   "execution_count": 77,
   "id": "6608d856",
   "metadata": {},
   "outputs": [
    {
     "data": {
      "text/plain": [
       "<pyspark.sql.group.GroupedData at 0x2ab1eb16ee20>"
      ]
     },
     "execution_count": 77,
     "metadata": {},
     "output_type": "execute_result"
    }
   ],
   "source": [
    "grouped"
   ]
  },
  {
   "cell_type": "code",
   "execution_count": 71,
   "id": "05d239c0-de6a-4469-8426-3bc2c8bcbafb",
   "metadata": {},
   "outputs": [],
   "source": [
    "counts = grouped.count()"
   ]
  },
  {
   "cell_type": "code",
   "execution_count": 78,
   "id": "da6e2345-358c-4905-b977-a1cd5970bd5c",
   "metadata": {},
   "outputs": [],
   "source": [
    "s = counts.sort('stars')"
   ]
  },
  {
   "cell_type": "code",
   "execution_count": 79,
   "id": "583397ee",
   "metadata": {},
   "outputs": [
    {
     "name": "stdout",
     "output_type": "stream",
     "text": [
      "+-----+-------+\n",
      "|stars|  count|\n",
      "+-----+-------+\n",
      "|  1.0|1002159|\n",
      "|  2.0| 542394|\n",
      "|  3.0| 739280|\n",
      "|  4.0|1468985|\n",
      "|  5.0|2933082|\n",
      "+-----+-------+\n",
      "\n"
     ]
    }
   ],
   "source": [
    "s.show()"
   ]
  },
  {
   "cell_type": "code",
   "execution_count": 80,
   "id": "838fc8a3-e560-4975-825b-39796cbaa1d8",
   "metadata": {},
   "outputs": [
    {
     "name": "stdout",
     "output_type": "stream",
     "text": [
      "+-----+-------+\n",
      "|stars|  count|\n",
      "+-----+-------+\n",
      "|  1.0|1002159|\n",
      "|  2.0| 542394|\n",
      "|  3.0| 739280|\n",
      "|  4.0|1468985|\n",
      "|  5.0|2933082|\n",
      "+-----+-------+\n",
      "\n"
     ]
    }
   ],
   "source": [
    "# in one line\n",
    "df_new = df.groupBy('stars').count().sort('stars').show()"
   ]
  },
  {
   "cell_type": "code",
   "execution_count": 82,
   "id": "7592d1ad-c3c2-4d34-9919-dc1d0c63abc5",
   "metadata": {},
   "outputs": [
    {
     "ename": "AttributeError",
     "evalue": "'NoneType' object has no attribute 'select'",
     "output_type": "error",
     "traceback": [
      "\u001b[0;31m---------------------------------------------------------------------------\u001b[0m",
      "\u001b[0;31mAttributeError\u001b[0m                            Traceback (most recent call last)",
      "\u001b[0;32m<ipython-input-82-e6c40431c688>\u001b[0m in \u001b[0;36m<module>\u001b[0;34m\u001b[0m\n\u001b[0;32m----> 1\u001b[0;31m \u001b[0mdf_new\u001b[0m\u001b[0;34m.\u001b[0m\u001b[0mselect\u001b[0m\u001b[0;34m(\u001b[0m\u001b[0;34m'stars'\u001b[0m\u001b[0;34m)\u001b[0m \u001b[0;31m# intentional error\u001b[0m\u001b[0;34m\u001b[0m\u001b[0;34m\u001b[0m\u001b[0m\n\u001b[0m\u001b[1;32m      2\u001b[0m \u001b[0;34m\u001b[0m\u001b[0m\n\u001b[1;32m      3\u001b[0m \u001b[0;31m# cause \"show\" is there\u001b[0m\u001b[0;34m\u001b[0m\u001b[0;34m\u001b[0m\u001b[0;34m\u001b[0m\u001b[0m\n",
      "\u001b[0;31mAttributeError\u001b[0m: 'NoneType' object has no attribute 'select'"
     ]
    }
   ],
   "source": [
    "df_new.select('stars') # intentional error\n",
    "\n",
    "# cause \"show\" is there"
   ]
  },
  {
   "cell_type": "code",
   "execution_count": 85,
   "id": "41a72ac1",
   "metadata": {},
   "outputs": [
    {
     "name": "stdout",
     "output_type": "stream",
     "text": [
      "+-----+\n",
      "|stars|\n",
      "+-----+\n",
      "|  1.0|\n",
      "|  2.0|\n",
      "|  3.0|\n",
      "|  4.0|\n",
      "|  5.0|\n",
      "+-----+\n",
      "\n"
     ]
    }
   ],
   "source": [
    "df_new = df.groupBy('stars').count().sort('stars')\n",
    "df_new.select('stars').show() # works"
   ]
  },
  {
   "cell_type": "markdown",
   "id": "e588b202-c642-4349-b8be-16fd943de7d8",
   "metadata": {
    "tags": []
   },
   "source": [
    "### How many positive (i.e. 4- or 5-star) reviews are there? "
   ]
  },
  {
   "cell_type": "code",
   "execution_count": 86,
   "id": "2ba25eb8-37ef-402c-a71d-0eea4a236cf3",
   "metadata": {},
   "outputs": [],
   "source": [
    "from pyspark.sql.functions import col"
   ]
  },
  {
   "cell_type": "code",
   "execution_count": 88,
   "id": "b250b767-53ef-463f-9342-6403d3ca7db5",
   "metadata": {},
   "outputs": [
    {
     "data": {
      "text/plain": [
       "4402067"
      ]
     },
     "execution_count": 88,
     "metadata": {},
     "output_type": "execute_result"
    }
   ],
   "source": [
    "df.filter(df['stars'] >= 4).count()"
   ]
  },
  {
   "cell_type": "code",
   "execution_count": 91,
   "id": "778401ef",
   "metadata": {},
   "outputs": [
    {
     "data": {
      "text/plain": [
       "4402067"
      ]
     },
     "execution_count": 91,
     "metadata": {},
     "output_type": "execute_result"
    }
   ],
   "source": [
    "df.filter(col('stars') >= 4).count() # same as df['stars']"
   ]
  },
  {
   "cell_type": "code",
   "execution_count": null,
   "id": "b39d2c5f",
   "metadata": {},
   "outputs": [],
   "source": []
  },
  {
   "cell_type": "code",
   "execution_count": 99,
   "id": "2f9a01c5-f939-4dde-a17d-16145a776135",
   "metadata": {},
   "outputs": [
    {
     "name": "stdout",
     "output_type": "stream",
     "text": [
      "+--------------------+\n",
      "|                text|\n",
      "+--------------------+\n",
      "|Total bill for th...|\n",
      "|Today was my seco...|\n",
      "|This place has go...|\n",
      "|Walked in around ...|\n",
      "|I cannot believe ...|\n",
      "|Unfortunately, I ...|\n",
      "|if i can give thi...|\n",
      "|This review is in...|\n",
      "|I tried this plac...|\n",
      "|Love this place d...|\n",
      "|Came here on a Th...|\n",
      "|They keep there a...|\n",
      "|Met a friend for ...|\n",
      "|We had dinner at ...|\n",
      "|I am years out fr...|\n",
      "|I've never experi...|\n",
      "|((( LADIES BEWARE...|\n",
      "|Th service here i...|\n",
      "|I took my wife ou...|\n",
      "|This company trie...|\n",
      "+--------------------+\n",
      "only showing top 20 rows\n",
      "\n"
     ]
    }
   ],
   "source": [
    "df.select('text').show(truncate=True)"
   ]
  },
  {
   "cell_type": "code",
   "execution_count": 93,
   "id": "f14deacd-0e8c-4f43-ab0c-f1eb9dc450cc",
   "metadata": {},
   "outputs": [],
   "source": [
    "# NEXT"
   ]
  },
  {
   "cell_type": "code",
   "execution_count": 94,
   "id": "c88d584e-f11a-40e4-829b-b46f87e6da4f",
   "metadata": {},
   "outputs": [],
   "source": [
    "review = spark.read.parquet('/scratch/si618w22_class_root/si618w22_class/shared_data/yelp_academic_dataset_review.parquet')"
   ]
  },
  {
   "cell_type": "code",
   "execution_count": 95,
   "id": "ac76aa1d-27e7-430a-a0a9-304171529848",
   "metadata": {},
   "outputs": [],
   "source": [
    "business = spark.read.parquet('/scratch/si618w22_class_root/si618w22_class/shared_data/yelp_academic_dataset_business.parquet')"
   ]
  },
  {
   "cell_type": "code",
   "execution_count": 96,
   "id": "6dd51f0d-2f26-42c3-9565-ea1402211513",
   "metadata": {},
   "outputs": [],
   "source": [
    "checkin = spark.read.parquet('/scratch/si618w22_class_root/si618w22_class/shared_data/yelp_academic_dataset_checkin.parquet')"
   ]
  },
  {
   "cell_type": "code",
   "execution_count": 97,
   "id": "2bf9657f-3321-4a97-aa81-7284ec803399",
   "metadata": {},
   "outputs": [],
   "source": [
    "tip = spark.read.parquet('/scratch/si618w22_class_root/si618w22_class/shared_data/yelp_academic_dataset_tip.parquet')"
   ]
  },
  {
   "cell_type": "code",
   "execution_count": 98,
   "id": "2bb17e8e-c5ce-4e70-9119-65d3212244e6",
   "metadata": {},
   "outputs": [],
   "source": [
    "user = spark.read.parquet('/scratch/si618w22_class_root/si618w22_class/shared_data/yelp_academic_dataset_user.parquet')"
   ]
  },
  {
   "cell_type": "markdown",
   "id": "5f16368f-72bf-4eb0-b306-fdd9d2b6c0a0",
   "metadata": {},
   "source": [
    "### Display the schemas for each of the dataframes"
   ]
  },
  {
   "cell_type": "code",
   "execution_count": null,
   "id": "8c2115ce-acb9-484c-a377-bd8e97dc30a2",
   "metadata": {},
   "outputs": [],
   "source": [
    "for i in [review, business, checkin, tip, user]:\n",
    "    i.printSchema()"
   ]
  },
  {
   "cell_type": "code",
   "execution_count": null,
   "id": "11d338aa-46ba-4cc4-b277-0e29bc1db620",
   "metadata": {},
   "outputs": [],
   "source": [
    "# insert your code here"
   ]
  },
  {
   "cell_type": "markdown",
   "id": "e86b66bf-1b5a-4af4-8494-357d54dfc947",
   "metadata": {},
   "source": [
    "Now let's register a temporary virtual table:"
   ]
  },
  {
   "cell_type": "code",
   "execution_count": null,
   "id": "c4937337-86f9-40c3-8b74-c59e78fd413d",
   "metadata": {},
   "outputs": [],
   "source": [
    "review.createOrReplaceTempView('review')"
   ]
  },
  {
   "cell_type": "code",
   "execution_count": null,
   "id": "2a079498-acc7-46b1-8677-2d7e2689e570",
   "metadata": {},
   "outputs": [],
   "source": [
    "query = \"\"\"\n",
    "SELECT count(*) AS the_count \n",
    "   FROM review \n",
    "\"\"\"\n"
   ]
  },
  {
   "cell_type": "code",
   "execution_count": null,
   "id": "8adbc57b-b1ee-401d-a2b6-1c8b27c63e83",
   "metadata": {},
   "outputs": [],
   "source": [
    "spark.sql(query).show()"
   ]
  },
  {
   "cell_type": "markdown",
   "id": "d381426b-0f9b-4ff3-a9db-274be57db6fd",
   "metadata": {},
   "source": [
    "# END OF NOTEBOOK"
   ]
  },
  {
   "cell_type": "markdown",
   "id": "b8b245f0-88f1-47cb-ab16-1d6db8b71d30",
   "metadata": {},
   "source": [
    "By the way, we can get pretty complex:"
   ]
  },
  {
   "cell_type": "code",
   "execution_count": null,
   "id": "6abe0c9d-4df0-4f29-9e1e-7677efc11cbe",
   "metadata": {},
   "outputs": [],
   "source": [
    "q = \"\"\"SELECT FIRST(user.name) as name,FIRST(user.user_id) as id,\n",
    "    SUM(CASE WHEN business.state = 'AZ' THEN 1 ELSE 0 END) AS az_count,\n",
    "    FIRST(user.review_count) as total_count,\n",
    "    ROUND((SUM(CASE WHEN business.state = 'AZ' THEN 1 ELSE 0 END)\n",
    "        / FIRST(user.review_count) * 100), 6)\n",
    "        as percent\n",
    "FROM review\n",
    "    JOIN business on review.business_id = business.business_id\n",
    "    JOIN user on review.user_id = user.user_id\n",
    "GROUP BY user.user_id\n",
    "ORDER BY az_count DESC\n",
    "LIMIT 5\"\"\"\n",
    "spark.sql(q).show()"
   ]
  }
 ],
 "metadata": {
  "kernelspec": {
   "display_name": "Python 3 (ipykernel)",
   "language": "python",
   "name": "python3"
  },
  "language_info": {
   "codemirror_mode": {
    "name": "ipython",
    "version": 3
   },
   "file_extension": ".py",
   "mimetype": "text/x-python",
   "name": "python",
   "nbconvert_exporter": "python",
   "pygments_lexer": "ipython3",
   "version": "3.9.7"
  }
 },
 "nbformat": 4,
 "nbformat_minor": 5
}
