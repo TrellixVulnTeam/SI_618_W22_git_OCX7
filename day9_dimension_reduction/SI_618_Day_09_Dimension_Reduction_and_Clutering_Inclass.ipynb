{
 "cells": [
  {
   "cell_type": "markdown",
   "metadata": {
    "tags": []
   },
   "source": [
    "# SI 618 Day 9: Dimension Reduction\n",
    "\n",
    "Version 2022.03.14.1.CT"
   ]
  },
  {
   "cell_type": "markdown",
   "metadata": {},
   "source": [
    "## Task (to generate data for use later in today's class):\n",
    "Fill in the [spreadsheet](https://docs.google.com/spreadsheets/d/1cm33K2dg3vVGWX8Bv0R7_QA3UN5r3IEznYWXbtcbWEs/edit?usp=sharing) with your music preferences.  Rate each genre on a scale of 1 to 10, with 1 being \"no way\" and 10 being \"the best\".  Note that you are indicating your preference for each genre on a scale of 1-10; \n",
    "you are not ranking the genres from 1-10.  Thus, you can have all 10s if you love all genres of music, or all 1s if you hate music in general."
   ]
  },
  {
   "cell_type": "code",
   "execution_count": 1,
   "metadata": {},
   "outputs": [],
   "source": [
    "import pandas as pd\n",
    "import numpy as np\n",
    "import seaborn as sns\n",
    "from sklearn import manifold"
   ]
  },
  {
   "cell_type": "markdown",
   "metadata": {},
   "source": [
    "## Demo"
   ]
  },
  {
   "cell_type": "markdown",
   "metadata": {},
   "source": [
    "Let's set up a really simple dataframe to play with:"
   ]
  },
  {
   "cell_type": "code",
   "execution_count": 2,
   "metadata": {},
   "outputs": [],
   "source": [
    "demo = pd.DataFrame({'a': [1, 2, 3], 'b': [1, 4, 6], 'c': [\n",
    "                    2, 4, 6]}, index=['Chris', 'Mauli', 'Alex'])"
   ]
  },
  {
   "cell_type": "code",
   "execution_count": 3,
   "metadata": {
    "scrolled": true
   },
   "outputs": [
    {
     "data": {
      "text/html": [
       "<div>\n",
       "<style scoped>\n",
       "    .dataframe tbody tr th:only-of-type {\n",
       "        vertical-align: middle;\n",
       "    }\n",
       "\n",
       "    .dataframe tbody tr th {\n",
       "        vertical-align: top;\n",
       "    }\n",
       "\n",
       "    .dataframe thead th {\n",
       "        text-align: right;\n",
       "    }\n",
       "</style>\n",
       "<table border=\"1\" class=\"dataframe\">\n",
       "  <thead>\n",
       "    <tr style=\"text-align: right;\">\n",
       "      <th></th>\n",
       "      <th>a</th>\n",
       "      <th>b</th>\n",
       "      <th>c</th>\n",
       "    </tr>\n",
       "  </thead>\n",
       "  <tbody>\n",
       "    <tr>\n",
       "      <th>Chris</th>\n",
       "      <td>1</td>\n",
       "      <td>1</td>\n",
       "      <td>2</td>\n",
       "    </tr>\n",
       "    <tr>\n",
       "      <th>Mauli</th>\n",
       "      <td>2</td>\n",
       "      <td>4</td>\n",
       "      <td>4</td>\n",
       "    </tr>\n",
       "    <tr>\n",
       "      <th>Alex</th>\n",
       "      <td>3</td>\n",
       "      <td>6</td>\n",
       "      <td>6</td>\n",
       "    </tr>\n",
       "  </tbody>\n",
       "</table>\n",
       "</div>"
      ],
      "text/plain": [
       "       a  b  c\n",
       "Chris  1  1  2\n",
       "Mauli  2  4  4\n",
       "Alex   3  6  6"
      ]
     },
     "execution_count": 3,
     "metadata": {},
     "output_type": "execute_result"
    }
   ],
   "source": [
    "demo"
   ]
  },
  {
   "cell_type": "markdown",
   "metadata": {},
   "source": [
    "And then let's split the dataframe into X and y matrices:"
   ]
  },
  {
   "cell_type": "code",
   "execution_count": 4,
   "metadata": {},
   "outputs": [],
   "source": [
    "demo_X = demo.values"
   ]
  },
  {
   "cell_type": "code",
   "execution_count": 5,
   "metadata": {},
   "outputs": [
    {
     "data": {
      "text/plain": [
       "array([[1, 1, 2],\n",
       "       [2, 4, 4],\n",
       "       [3, 6, 6]], dtype=int64)"
      ]
     },
     "execution_count": 5,
     "metadata": {},
     "output_type": "execute_result"
    }
   ],
   "source": [
    "demo_X"
   ]
  },
  {
   "cell_type": "code",
   "execution_count": 6,
   "metadata": {},
   "outputs": [],
   "source": [
    "demo_y = demo.index"
   ]
  },
  {
   "cell_type": "code",
   "execution_count": 7,
   "metadata": {},
   "outputs": [
    {
     "data": {
      "text/plain": [
       "Index(['Chris', 'Mauli', 'Alex'], dtype='object')"
      ]
     },
     "execution_count": 7,
     "metadata": {},
     "output_type": "execute_result"
    }
   ],
   "source": [
    "demo_y"
   ]
  },
  {
   "cell_type": "markdown",
   "metadata": {},
   "source": [
    "## Multi-dimensional scaling (MDS)"
   ]
  },
  {
   "cell_type": "code",
   "execution_count": 8,
   "metadata": {},
   "outputs": [],
   "source": [
    "# initiate a MDS\n",
    "\n",
    "nmds = manifold.MDS(n_components=2,  # number of dimensions\n",
    "                    metric=False,  # metric is only for numerical and continious; no-metric is  more conservative and get better results,\n",
    "                    # NON-metric is recommand\n",
    "                    max_iter=3000,\n",
    "                    eps=1e-9,  # when the change smaller than this boundry, no need to iterate again\n",
    "                    random_state=42,  # random seed\n",
    "                    dissimilarity='euclidean',\n",
    "                    n_jobs=1)  # paralell to reduce time of computing"
   ]
  },
  {
   "cell_type": "code",
   "execution_count": 9,
   "metadata": {},
   "outputs": [
    {
     "name": "stderr",
     "output_type": "stream",
     "text": [
      "C:\\ProgramData\\Anaconda3\\lib\\site-packages\\sklearn\\manifold\\_mds.py:441: UserWarning: The MDS API has changed. ``fit`` now constructs an dissimilarity matrix from data. To use a custom dissimilarity matrix, set ``dissimilarity='precomputed'``.\n",
      "  warnings.warn(\"The MDS API has changed. ``fit`` now constructs an\"\n"
     ]
    }
   ],
   "source": [
    "# fit and transform the features metrics X (unsupervised, so no train/test split\n",
    "\n",
    "npos = nmds.fit_transform(demo_X)"
   ]
  },
  {
   "cell_type": "code",
   "execution_count": 12,
   "metadata": {},
   "outputs": [
    {
     "data": {
      "text/plain": [
       "array([[ 0.30946596,  0.29784584],\n",
       "       [ 0.11775658, -0.34227884],\n",
       "       [-0.42722732,  0.04444687]])"
      ]
     },
     "execution_count": 12,
     "metadata": {},
     "output_type": "execute_result"
    }
   ],
   "source": [
    "npos"
   ]
  },
  {
   "cell_type": "code",
   "execution_count": 13,
   "metadata": {},
   "outputs": [],
   "source": [
    "# each person now is represented by 2 dimension array, eg: Chirs is represented by [ 0.30946596,  0.29784584] now"
   ]
  },
  {
   "cell_type": "code",
   "execution_count": 14,
   "metadata": {},
   "outputs": [],
   "source": [
    "# concat the 2d data with names"
   ]
  },
  {
   "cell_type": "code",
   "execution_count": 15,
   "metadata": {},
   "outputs": [],
   "source": [
    "npos_labelled = pd.concat(\n",
    "    [pd.DataFrame({'who': demo_y}), pd.DataFrame(npos)], axis=1)"
   ]
  },
  {
   "cell_type": "code",
   "execution_count": 16,
   "metadata": {},
   "outputs": [],
   "source": [
    "npos_labelled.columns = ['who', 'mds1', 'mds2']"
   ]
  },
  {
   "cell_type": "code",
   "execution_count": 17,
   "metadata": {
    "scrolled": true
   },
   "outputs": [
    {
     "data": {
      "text/html": [
       "<div>\n",
       "<style scoped>\n",
       "    .dataframe tbody tr th:only-of-type {\n",
       "        vertical-align: middle;\n",
       "    }\n",
       "\n",
       "    .dataframe tbody tr th {\n",
       "        vertical-align: top;\n",
       "    }\n",
       "\n",
       "    .dataframe thead th {\n",
       "        text-align: right;\n",
       "    }\n",
       "</style>\n",
       "<table border=\"1\" class=\"dataframe\">\n",
       "  <thead>\n",
       "    <tr style=\"text-align: right;\">\n",
       "      <th></th>\n",
       "      <th>who</th>\n",
       "      <th>mds1</th>\n",
       "      <th>mds2</th>\n",
       "    </tr>\n",
       "  </thead>\n",
       "  <tbody>\n",
       "    <tr>\n",
       "      <th>0</th>\n",
       "      <td>Chris</td>\n",
       "      <td>0.309466</td>\n",
       "      <td>0.297846</td>\n",
       "    </tr>\n",
       "    <tr>\n",
       "      <th>1</th>\n",
       "      <td>Mauli</td>\n",
       "      <td>0.117757</td>\n",
       "      <td>-0.342279</td>\n",
       "    </tr>\n",
       "    <tr>\n",
       "      <th>2</th>\n",
       "      <td>Alex</td>\n",
       "      <td>-0.427227</td>\n",
       "      <td>0.044447</td>\n",
       "    </tr>\n",
       "  </tbody>\n",
       "</table>\n",
       "</div>"
      ],
      "text/plain": [
       "     who      mds1      mds2\n",
       "0  Chris  0.309466  0.297846\n",
       "1  Mauli  0.117757 -0.342279\n",
       "2   Alex -0.427227  0.044447"
      ]
     },
     "execution_count": 17,
     "metadata": {},
     "output_type": "execute_result"
    }
   ],
   "source": [
    "npos_labelled"
   ]
  },
  {
   "cell_type": "code",
   "execution_count": 18,
   "metadata": {},
   "outputs": [
    {
     "data": {
      "text/plain": [
       "3"
      ]
     },
     "execution_count": 18,
     "metadata": {},
     "output_type": "execute_result"
    }
   ],
   "source": [
    "npos_labelled.shape[0]"
   ]
  },
  {
   "cell_type": "code",
   "execution_count": 19,
   "metadata": {},
   "outputs": [
    {
     "data": {
      "image/png": "[encoded data removed]",
      "text/plain": [
       "<Figure size 432x288 with 1 Axes>"
      ]
     },
     "metadata": {
      "needs_background": "light"
     },
     "output_type": "display_data"
    }
   ],
   "source": [
    "# plot\n",
    "\n",
    "# Based on https://stackoverflow.com/questions/46027653/adding-labels-in-x-y-scatter-plot-with-seaborn\n",
    "p1 = sns.scatterplot(data=npos_labelled, x='mds1', y='mds2')\n",
    "\n",
    "# adjust text and text position in plot\n",
    "for line in range(0, npos_labelled.shape[0]):\n",
    "    p1.text(npos_labelled['mds1'][line]+0.01, npos_labelled['mds2'][line],\n",
    "            npos_labelled['who'][line], horizontalalignment='left',\n",
    "            size='medium', color='black')"
   ]
  },
  {
   "cell_type": "code",
   "execution_count": 116,
   "metadata": {},
   "outputs": [],
   "source": [
    "# the relative distance of original data is preserved here, but x-axis and y-axis has no actual meaning"
   ]
  },
  {
   "cell_type": "code",
   "execution_count": 78,
   "metadata": {},
   "outputs": [],
   "source": [
    "# summary to a function to future reuse\n",
    "\n",
    "def labelled_scatterplot(data=None, x=None, y=None, labs=None):\n",
    "    p1 = sns.scatterplot(data=data, x=x, y=y)\n",
    "    for line in range(0, data.shape[0]):\n",
    "        \n",
    "        # identify myself\n",
    "        if data[labs][line] == \"Ella Li\":\n",
    "            c = \"red\"\n",
    "        else:\n",
    "            c = \"black\"\n",
    "            \n",
    "        p1.text(data[x][line]+0.01, data[y][line],\n",
    "                data[labs][line], horizontalalignment='left',\n",
    "                size='medium', color=c)"
   ]
  },
  {
   "cell_type": "code",
   "execution_count": 21,
   "metadata": {
    "scrolled": true
   },
   "outputs": [
    {
     "data": {
      "image/png": "[encoded data removed]",
      "text/plain": [
       "<Figure size 432x288 with 1 Axes>"
      ]
     },
     "metadata": {
      "needs_background": "light"
     },
     "output_type": "display_data"
    }
   ],
   "source": [
    "labelled_scatterplot(npos_labelled, 'mds1', 'mds2', 'who')"
   ]
  },
  {
   "cell_type": "markdown",
   "metadata": {},
   "source": [
    "## Principal Components Analysis (PCA)"
   ]
  },
  {
   "cell_type": "code",
   "execution_count": 22,
   "metadata": {},
   "outputs": [
    {
     "data": {
      "text/html": [
       "<div>\n",
       "<style scoped>\n",
       "    .dataframe tbody tr th:only-of-type {\n",
       "        vertical-align: middle;\n",
       "    }\n",
       "\n",
       "    .dataframe tbody tr th {\n",
       "        vertical-align: top;\n",
       "    }\n",
       "\n",
       "    .dataframe thead th {\n",
       "        text-align: right;\n",
       "    }\n",
       "</style>\n",
       "<table border=\"1\" class=\"dataframe\">\n",
       "  <thead>\n",
       "    <tr style=\"text-align: right;\">\n",
       "      <th></th>\n",
       "      <th>a</th>\n",
       "      <th>b</th>\n",
       "      <th>c</th>\n",
       "    </tr>\n",
       "  </thead>\n",
       "  <tbody>\n",
       "    <tr>\n",
       "      <th>Chris</th>\n",
       "      <td>1</td>\n",
       "      <td>1</td>\n",
       "      <td>2</td>\n",
       "    </tr>\n",
       "    <tr>\n",
       "      <th>Mauli</th>\n",
       "      <td>2</td>\n",
       "      <td>4</td>\n",
       "      <td>4</td>\n",
       "    </tr>\n",
       "    <tr>\n",
       "      <th>Alex</th>\n",
       "      <td>3</td>\n",
       "      <td>6</td>\n",
       "      <td>6</td>\n",
       "    </tr>\n",
       "  </tbody>\n",
       "</table>\n",
       "</div>"
      ],
      "text/plain": [
       "       a  b  c\n",
       "Chris  1  1  2\n",
       "Mauli  2  4  4\n",
       "Alex   3  6  6"
      ]
     },
     "execution_count": 22,
     "metadata": {},
     "output_type": "execute_result"
    }
   ],
   "source": [
    "demo"
   ]
  },
  {
   "cell_type": "code",
   "execution_count": 24,
   "metadata": {},
   "outputs": [
    {
     "data": {
      "text/plain": [
       "0.9889454738615555"
      ]
     },
     "execution_count": 24,
     "metadata": {},
     "output_type": "execute_result"
    }
   ],
   "source": [
    "# what is a variance expamle\n",
    "np.var([-1.29777, .016222, 1.135549])"
   ]
  },
  {
   "cell_type": "code",
   "execution_count": 26,
   "metadata": {},
   "outputs": [
    {
     "data": {
      "text/plain": [
       "array([[-1.22474487, -1.29777137, -1.22474487],\n",
       "       [ 0.        ,  0.16222142,  0.        ],\n",
       "       [ 1.22474487,  1.13554995,  1.22474487]])"
      ]
     },
     "execution_count": 26,
     "metadata": {},
     "output_type": "execute_result"
    }
   ],
   "source": [
    "# scale (important for PCA !!)\n",
    "# scale: convert the values to have mean=0, var=1 for each column;\n",
    "# because PCA is trying to explain as much as var as possible while as less dimenssion as possible;\n",
    "\n",
    "from sklearn.preprocessing import scale\n",
    "scale(demo_X)"
   ]
  },
  {
   "cell_type": "code",
   "execution_count": 27,
   "metadata": {},
   "outputs": [],
   "source": [
    "# scale is necessary, because different types of variables;\n",
    "# PCA is sensitive to as much variance as posible, while reducing the dimension,\n",
    "# to avoid the PCA keep much more than part of variance, we need to scale all the variables"
   ]
  },
  {
   "cell_type": "code",
   "execution_count": 28,
   "metadata": {},
   "outputs": [],
   "source": [
    "# PCA\n",
    "\n",
    "from sklearn.decomposition import PCA\n",
    "\n",
    "pca = PCA(n_components=2)\n",
    "X_pca = pca.fit_transform(scale(demo_X))"
   ]
  },
  {
   "cell_type": "code",
   "execution_count": 30,
   "metadata": {},
   "outputs": [
    {
     "data": {
      "text/plain": [
       "array([[ 2.16341882, -0.06188307],\n",
       "       [-0.09352034,  0.13255088],\n",
       "       [-2.06989849, -0.07066781]])"
      ]
     },
     "execution_count": 30,
     "metadata": {},
     "output_type": "execute_result"
    }
   ],
   "source": [
    "X_pca  # get reduced dimensioned data"
   ]
  },
  {
   "cell_type": "code",
   "execution_count": 32,
   "metadata": {},
   "outputs": [],
   "source": [
    "# combine labels\n",
    "\n",
    "X_pca_labelled = pd.concat([pd.DataFrame({'who': demo_y}), pd.DataFrame(\n",
    "    X_pca, columns=['pca1', 'pca2'])], axis=1)"
   ]
  },
  {
   "cell_type": "code",
   "execution_count": 33,
   "metadata": {
    "scrolled": true
   },
   "outputs": [
    {
     "data": {
      "text/html": [
       "<div>\n",
       "<style scoped>\n",
       "    .dataframe tbody tr th:only-of-type {\n",
       "        vertical-align: middle;\n",
       "    }\n",
       "\n",
       "    .dataframe tbody tr th {\n",
       "        vertical-align: top;\n",
       "    }\n",
       "\n",
       "    .dataframe thead th {\n",
       "        text-align: right;\n",
       "    }\n",
       "</style>\n",
       "<table border=\"1\" class=\"dataframe\">\n",
       "  <thead>\n",
       "    <tr style=\"text-align: right;\">\n",
       "      <th></th>\n",
       "      <th>who</th>\n",
       "      <th>pca1</th>\n",
       "      <th>pca2</th>\n",
       "    </tr>\n",
       "  </thead>\n",
       "  <tbody>\n",
       "    <tr>\n",
       "      <th>0</th>\n",
       "      <td>Chris</td>\n",
       "      <td>2.163419</td>\n",
       "      <td>-0.061883</td>\n",
       "    </tr>\n",
       "    <tr>\n",
       "      <th>1</th>\n",
       "      <td>Mauli</td>\n",
       "      <td>-0.093520</td>\n",
       "      <td>0.132551</td>\n",
       "    </tr>\n",
       "    <tr>\n",
       "      <th>2</th>\n",
       "      <td>Alex</td>\n",
       "      <td>-2.069898</td>\n",
       "      <td>-0.070668</td>\n",
       "    </tr>\n",
       "  </tbody>\n",
       "</table>\n",
       "</div>"
      ],
      "text/plain": [
       "     who      pca1      pca2\n",
       "0  Chris  2.163419 -0.061883\n",
       "1  Mauli -0.093520  0.132551\n",
       "2   Alex -2.069898 -0.070668"
      ]
     },
     "execution_count": 33,
     "metadata": {},
     "output_type": "execute_result"
    }
   ],
   "source": [
    "X_pca_labelled"
   ]
  },
  {
   "cell_type": "code",
   "execution_count": 34,
   "metadata": {},
   "outputs": [
    {
     "data": {
      "image/png": "[encoded data removed]",
      "text/plain": [
       "<Figure size 432x288 with 1 Axes>"
      ]
     },
     "metadata": {
      "needs_background": "light"
     },
     "output_type": "display_data"
    }
   ],
   "source": [
    "labelled_scatterplot(data=X_pca_labelled, x='pca1', y='pca2', labs='who')"
   ]
  },
  {
   "cell_type": "code",
   "execution_count": 35,
   "metadata": {},
   "outputs": [],
   "source": [
    "# pca1's expressed porportional variance range (-2,2) is larger than pca2's expressed variance;\n",
    "# pca is interpretable"
   ]
  },
  {
   "cell_type": "code",
   "execution_count": 36,
   "metadata": {
    "scrolled": true
   },
   "outputs": [
    {
     "data": {
      "text/plain": [
       "array([4.48680341, 0.01319659])"
      ]
     },
     "execution_count": 36,
     "metadata": {},
     "output_type": "execute_result"
    }
   ],
   "source": [
    "# how much varience is explained by each priciple components\n",
    "pca.explained_variance_  # pca1, pca2"
   ]
  },
  {
   "cell_type": "code",
   "execution_count": 37,
   "metadata": {},
   "outputs": [
    {
     "data": {
      "text/plain": [
       "array([[ 2.47598426, -0.25153836, -2.2244459 ],\n",
       "       [-0.25153836,  0.0255541 ,  0.22598426],\n",
       "       [-2.2244459 ,  0.22598426,  1.99846164]])"
      ]
     },
     "execution_count": 37,
     "metadata": {},
     "output_type": "execute_result"
    }
   ],
   "source": [
    "# total system varience == diagnal values' sum\n",
    "np.cov(X_pca)"
   ]
  },
  {
   "cell_type": "code",
   "execution_count": 38,
   "metadata": {},
   "outputs": [
    {
     "data": {
      "text/plain": [
       "array([0.99706742, 0.00293258])"
      ]
     },
     "execution_count": 38,
     "metadata": {},
     "output_type": "execute_result"
    }
   ],
   "source": [
    "# how much % variance is expplained by each priciple components\n",
    "pca.explained_variance_ratio_"
   ]
  },
  {
   "cell_type": "code",
   "execution_count": 39,
   "metadata": {},
   "outputs": [],
   "source": [
    "# here, the 1st pca factor's ratio is sooo high, we dont need to care other pca factors/ priciple components"
   ]
  },
  {
   "cell_type": "markdown",
   "metadata": {},
   "source": [
    "### Question: \n",
    "What's the expected explained variance ratio for each variable?"
   ]
  },
  {
   "cell_type": "markdown",
   "metadata": {},
   "source": [
    "**Answer:** for n variables, the expected explained variance for each variable is 1/n."
   ]
  },
  {
   "cell_type": "code",
   "execution_count": 124,
   "metadata": {},
   "outputs": [],
   "source": [
    "# how many priciple components should keep?\n",
    "# 1. by scree plot, elbow point;\n",
    "# 2. the kept priciple component should have more than 1/n explained_variance_ratio_ (should explain more than a original variable);"
   ]
  },
  {
   "cell_type": "code",
   "execution_count": null,
   "metadata": {},
   "outputs": [],
   "source": []
  },
  {
   "cell_type": "code",
   "execution_count": 45,
   "metadata": {},
   "outputs": [],
   "source": [
    "# if we can find corr by pairplot, the pca is worth to do to reduce dimension"
   ]
  },
  {
   "cell_type": "code",
   "execution_count": null,
   "metadata": {},
   "outputs": [],
   "source": []
  },
  {
   "cell_type": "markdown",
   "metadata": {},
   "source": [
    "## t-SNE"
   ]
  },
  {
   "cell_type": "code",
   "execution_count": 46,
   "metadata": {},
   "outputs": [],
   "source": [
    "# obey t distribution, close(far) variables are still close(far) in reduced dimension space"
   ]
  },
  {
   "cell_type": "code",
   "execution_count": 47,
   "metadata": {},
   "outputs": [],
   "source": [
    "# import t-SNE package from sklearn\n",
    "from sklearn.manifold import TSNE"
   ]
  },
  {
   "cell_type": "code",
   "execution_count": 48,
   "metadata": {},
   "outputs": [],
   "source": [
    "tsne = TSNE(n_components=2, random_state=0)\n",
    "X = demo_X.copy()\n",
    "X_2d = tsne.fit_transform(X)"
   ]
  },
  {
   "cell_type": "code",
   "execution_count": 49,
   "metadata": {},
   "outputs": [
    {
     "data": {
      "text/plain": [
       "array([[-1015.70056,  1338.9812 ],\n",
       "       [ -387.996  ,  -373.31616],\n",
       "       [-2184.7456 ,   -60.5658 ]], dtype=float32)"
      ]
     },
     "execution_count": 49,
     "metadata": {},
     "output_type": "execute_result"
    }
   ],
   "source": [
    "X_2d"
   ]
  },
  {
   "cell_type": "code",
   "execution_count": 50,
   "metadata": {},
   "outputs": [],
   "source": [
    "tsne_labelled = pd.concat([pd.DataFrame({'who': demo_y}), pd.DataFrame(\n",
    "    X_2d, columns=['d1', 'd2'])], axis=1)"
   ]
  },
  {
   "cell_type": "code",
   "execution_count": 51,
   "metadata": {},
   "outputs": [
    {
     "data": {
      "text/html": [
       "<div>\n",
       "<style scoped>\n",
       "    .dataframe tbody tr th:only-of-type {\n",
       "        vertical-align: middle;\n",
       "    }\n",
       "\n",
       "    .dataframe tbody tr th {\n",
       "        vertical-align: top;\n",
       "    }\n",
       "\n",
       "    .dataframe thead th {\n",
       "        text-align: right;\n",
       "    }\n",
       "</style>\n",
       "<table border=\"1\" class=\"dataframe\">\n",
       "  <thead>\n",
       "    <tr style=\"text-align: right;\">\n",
       "      <th></th>\n",
       "      <th>who</th>\n",
       "      <th>d1</th>\n",
       "      <th>d2</th>\n",
       "    </tr>\n",
       "  </thead>\n",
       "  <tbody>\n",
       "    <tr>\n",
       "      <th>0</th>\n",
       "      <td>Chris</td>\n",
       "      <td>-1015.700562</td>\n",
       "      <td>1338.981201</td>\n",
       "    </tr>\n",
       "    <tr>\n",
       "      <th>1</th>\n",
       "      <td>Mauli</td>\n",
       "      <td>-387.996002</td>\n",
       "      <td>-373.316162</td>\n",
       "    </tr>\n",
       "    <tr>\n",
       "      <th>2</th>\n",
       "      <td>Alex</td>\n",
       "      <td>-2184.745605</td>\n",
       "      <td>-60.565800</td>\n",
       "    </tr>\n",
       "  </tbody>\n",
       "</table>\n",
       "</div>"
      ],
      "text/plain": [
       "     who           d1           d2\n",
       "0  Chris -1015.700562  1338.981201\n",
       "1  Mauli  -387.996002  -373.316162\n",
       "2   Alex -2184.745605   -60.565800"
      ]
     },
     "execution_count": 51,
     "metadata": {},
     "output_type": "execute_result"
    }
   ],
   "source": [
    "tsne_labelled"
   ]
  },
  {
   "cell_type": "code",
   "execution_count": 52,
   "metadata": {},
   "outputs": [
    {
     "data": {
      "image/png": "[encoded data removed]",
      "text/plain": [
       "<Figure size 432x288 with 1 Axes>"
      ]
     },
     "metadata": {
      "needs_background": "light"
     },
     "output_type": "display_data"
    }
   ],
   "source": [
    "labelled_scatterplot(data=tsne_labelled, x='d1', y='d2', labs='who')"
   ]
  },
  {
   "cell_type": "markdown",
   "metadata": {},
   "source": [
    "(copy to chat:)\n",
    "https://cs.stanford.edu/people/karpathy/tsnejs/csvdemo.html"
   ]
  },
  {
   "cell_type": "markdown",
   "metadata": {
    "tags": []
   },
   "source": [
    "High perplexities therefore enforce more global structure in the embedding, and smaller perplexities will cut up your data cloud on much finer level.\n",
    "usually 5-30;"
   ]
  },
  {
   "cell_type": "markdown",
   "metadata": {},
   "source": [
    "# In your groups"
   ]
  },
  {
   "cell_type": "markdown",
   "metadata": {},
   "source": [
    "Let's read the CSV file of the music data we generated at the start of today's class:"
   ]
  },
  {
   "cell_type": "code",
   "execution_count": 54,
   "metadata": {},
   "outputs": [],
   "source": [
    "url = \"https://docs.google.com/spreadsheets/d/e/2PACX-1vR4YaVmpag6ucq-Q62adFm8oQz2YQRE7jsiTdE3S8-uxEj8dV6W_rbLHh0AMM4AKeibsDZLWXHQU0rT/pub?gid=0&single=true&output=csv\"\n",
    "music = pd.read_csv(url)"
   ]
  },
  {
   "cell_type": "code",
   "execution_count": 55,
   "metadata": {
    "scrolled": true
   },
   "outputs": [
    {
     "data": {
      "text/html": [
       "<div>\n",
       "<style scoped>\n",
       "    .dataframe tbody tr th:only-of-type {\n",
       "        vertical-align: middle;\n",
       "    }\n",
       "\n",
       "    .dataframe tbody tr th {\n",
       "        vertical-align: top;\n",
       "    }\n",
       "\n",
       "    .dataframe thead th {\n",
       "        text-align: right;\n",
       "    }\n",
       "</style>\n",
       "<table border=\"1\" class=\"dataframe\">\n",
       "  <thead>\n",
       "    <tr style=\"text-align: right;\">\n",
       "      <th></th>\n",
       "      <th>Name</th>\n",
       "      <th>Blues</th>\n",
       "      <th>Classical</th>\n",
       "      <th>Country</th>\n",
       "      <th>Electronic</th>\n",
       "      <th>Folk</th>\n",
       "      <th>Hip Hop</th>\n",
       "      <th>Jazz</th>\n",
       "      <th>Latin</th>\n",
       "      <th>Pop</th>\n",
       "      <th>Rock</th>\n",
       "    </tr>\n",
       "  </thead>\n",
       "  <tbody>\n",
       "    <tr>\n",
       "      <th>0</th>\n",
       "      <td>Abdul W</td>\n",
       "      <td>5</td>\n",
       "      <td>7</td>\n",
       "      <td>6</td>\n",
       "      <td>6.0</td>\n",
       "      <td>8</td>\n",
       "      <td>9</td>\n",
       "      <td>8</td>\n",
       "      <td>4</td>\n",
       "      <td>10</td>\n",
       "      <td>8</td>\n",
       "    </tr>\n",
       "    <tr>\n",
       "      <th>1</th>\n",
       "      <td>Aditi</td>\n",
       "      <td>8</td>\n",
       "      <td>9</td>\n",
       "      <td>8</td>\n",
       "      <td>5.0</td>\n",
       "      <td>9</td>\n",
       "      <td>5</td>\n",
       "      <td>7</td>\n",
       "      <td>7</td>\n",
       "      <td>5</td>\n",
       "      <td>6</td>\n",
       "    </tr>\n",
       "    <tr>\n",
       "      <th>2</th>\n",
       "      <td>Akshata</td>\n",
       "      <td>5</td>\n",
       "      <td>9</td>\n",
       "      <td>8</td>\n",
       "      <td>1.0</td>\n",
       "      <td>9</td>\n",
       "      <td>5</td>\n",
       "      <td>7</td>\n",
       "      <td>3</td>\n",
       "      <td>3</td>\n",
       "      <td>1</td>\n",
       "    </tr>\n",
       "    <tr>\n",
       "      <th>3</th>\n",
       "      <td>Amanda H</td>\n",
       "      <td>3</td>\n",
       "      <td>7</td>\n",
       "      <td>6</td>\n",
       "      <td>7.0</td>\n",
       "      <td>5</td>\n",
       "      <td>7</td>\n",
       "      <td>3</td>\n",
       "      <td>5</td>\n",
       "      <td>10</td>\n",
       "      <td>5</td>\n",
       "    </tr>\n",
       "    <tr>\n",
       "      <th>4</th>\n",
       "      <td>Anand</td>\n",
       "      <td>4</td>\n",
       "      <td>3</td>\n",
       "      <td>3</td>\n",
       "      <td>7.0</td>\n",
       "      <td>6</td>\n",
       "      <td>9</td>\n",
       "      <td>5</td>\n",
       "      <td>7</td>\n",
       "      <td>6</td>\n",
       "      <td>5</td>\n",
       "    </tr>\n",
       "    <tr>\n",
       "      <th>...</th>\n",
       "      <td>...</td>\n",
       "      <td>...</td>\n",
       "      <td>...</td>\n",
       "      <td>...</td>\n",
       "      <td>...</td>\n",
       "      <td>...</td>\n",
       "      <td>...</td>\n",
       "      <td>...</td>\n",
       "      <td>...</td>\n",
       "      <td>...</td>\n",
       "      <td>...</td>\n",
       "    </tr>\n",
       "    <tr>\n",
       "      <th>61</th>\n",
       "      <td>YuantaoB</td>\n",
       "      <td>4</td>\n",
       "      <td>9</td>\n",
       "      <td>9</td>\n",
       "      <td>3.0</td>\n",
       "      <td>3</td>\n",
       "      <td>2</td>\n",
       "      <td>1</td>\n",
       "      <td>5</td>\n",
       "      <td>8</td>\n",
       "      <td>1</td>\n",
       "    </tr>\n",
       "    <tr>\n",
       "      <th>62</th>\n",
       "      <td>Yuhang Z</td>\n",
       "      <td>10</td>\n",
       "      <td>8</td>\n",
       "      <td>5</td>\n",
       "      <td>3.0</td>\n",
       "      <td>4</td>\n",
       "      <td>10</td>\n",
       "      <td>6</td>\n",
       "      <td>1</td>\n",
       "      <td>7</td>\n",
       "      <td>1</td>\n",
       "    </tr>\n",
       "    <tr>\n",
       "      <th>63</th>\n",
       "      <td>Zane</td>\n",
       "      <td>5</td>\n",
       "      <td>8</td>\n",
       "      <td>5</td>\n",
       "      <td>7.0</td>\n",
       "      <td>8</td>\n",
       "      <td>7</td>\n",
       "      <td>8</td>\n",
       "      <td>7</td>\n",
       "      <td>10</td>\n",
       "      <td>9</td>\n",
       "    </tr>\n",
       "    <tr>\n",
       "      <th>64</th>\n",
       "      <td>Zhiang</td>\n",
       "      <td>5</td>\n",
       "      <td>1</td>\n",
       "      <td>6</td>\n",
       "      <td>9.0</td>\n",
       "      <td>7</td>\n",
       "      <td>10</td>\n",
       "      <td>3</td>\n",
       "      <td>2</td>\n",
       "      <td>8</td>\n",
       "      <td>4</td>\n",
       "    </tr>\n",
       "    <tr>\n",
       "      <th>65</th>\n",
       "      <td>Ella Li</td>\n",
       "      <td>7</td>\n",
       "      <td>3</td>\n",
       "      <td>6</td>\n",
       "      <td>8.0</td>\n",
       "      <td>4</td>\n",
       "      <td>9</td>\n",
       "      <td>6</td>\n",
       "      <td>2</td>\n",
       "      <td>8</td>\n",
       "      <td>10</td>\n",
       "    </tr>\n",
       "  </tbody>\n",
       "</table>\n",
       "<p>66 rows × 11 columns</p>\n",
       "</div>"
      ],
      "text/plain": [
       "        Name  Blues  Classical  Country  Electronic  Folk  Hip Hop  Jazz  \\\n",
       "0    Abdul W      5          7        6         6.0     8        9     8   \n",
       "1      Aditi      8          9        8         5.0     9        5     7   \n",
       "2    Akshata      5          9        8         1.0     9        5     7   \n",
       "3   Amanda H      3          7        6         7.0     5        7     3   \n",
       "4      Anand      4          3        3         7.0     6        9     5   \n",
       "..       ...    ...        ...      ...         ...   ...      ...   ...   \n",
       "61  YuantaoB      4          9        9         3.0     3        2     1   \n",
       "62  Yuhang Z     10          8        5         3.0     4       10     6   \n",
       "63      Zane      5          8        5         7.0     8        7     8   \n",
       "64    Zhiang      5          1        6         9.0     7       10     3   \n",
       "65   Ella Li      7          3        6         8.0     4        9     6   \n",
       "\n",
       "    Latin  Pop  Rock  \n",
       "0       4   10     8  \n",
       "1       7    5     6  \n",
       "2       3    3     1  \n",
       "3       5   10     5  \n",
       "4       7    6     5  \n",
       "..    ...  ...   ...  \n",
       "61      5    8     1  \n",
       "62      1    7     1  \n",
       "63      7   10     9  \n",
       "64      2    8     4  \n",
       "65      2    8    10  \n",
       "\n",
       "[66 rows x 11 columns]"
      ]
     },
     "execution_count": 55,
     "metadata": {},
     "output_type": "execute_result"
    }
   ],
   "source": [
    "music"
   ]
  },
  {
   "cell_type": "code",
   "execution_count": 56,
   "metadata": {},
   "outputs": [
    {
     "name": "stdout",
     "output_type": "stream",
     "text": [
      "<class 'pandas.core.frame.DataFrame'>\n",
      "RangeIndex: 66 entries, 0 to 65\n",
      "Data columns (total 11 columns):\n",
      " #   Column      Non-Null Count  Dtype  \n",
      "---  ------      --------------  -----  \n",
      " 0   Name        66 non-null     object \n",
      " 1   Blues       66 non-null     int64  \n",
      " 2   Classical   66 non-null     int64  \n",
      " 3   Country     66 non-null     int64  \n",
      " 4   Electronic  65 non-null     float64\n",
      " 5   Folk        66 non-null     int64  \n",
      " 6   Hip Hop     66 non-null     int64  \n",
      " 7   Jazz        66 non-null     int64  \n",
      " 8   Latin       66 non-null     int64  \n",
      " 9   Pop         66 non-null     int64  \n",
      " 10  Rock        66 non-null     int64  \n",
      "dtypes: float64(1), int64(9), object(1)\n",
      "memory usage: 5.8+ KB\n"
     ]
    }
   ],
   "source": [
    "music.info()"
   ]
  },
  {
   "cell_type": "code",
   "execution_count": 57,
   "metadata": {},
   "outputs": [
    {
     "data": {
      "text/html": [
       "<div>\n",
       "<style scoped>\n",
       "    .dataframe tbody tr th:only-of-type {\n",
       "        vertical-align: middle;\n",
       "    }\n",
       "\n",
       "    .dataframe tbody tr th {\n",
       "        vertical-align: top;\n",
       "    }\n",
       "\n",
       "    .dataframe thead th {\n",
       "        text-align: right;\n",
       "    }\n",
       "</style>\n",
       "<table border=\"1\" class=\"dataframe\">\n",
       "  <thead>\n",
       "    <tr style=\"text-align: right;\">\n",
       "      <th></th>\n",
       "      <th>Blues</th>\n",
       "      <th>Classical</th>\n",
       "      <th>Country</th>\n",
       "      <th>Electronic</th>\n",
       "      <th>Folk</th>\n",
       "      <th>Hip Hop</th>\n",
       "      <th>Jazz</th>\n",
       "      <th>Latin</th>\n",
       "      <th>Pop</th>\n",
       "      <th>Rock</th>\n",
       "    </tr>\n",
       "  </thead>\n",
       "  <tbody>\n",
       "    <tr>\n",
       "      <th>count</th>\n",
       "      <td>66.000000</td>\n",
       "      <td>66.000000</td>\n",
       "      <td>66.000000</td>\n",
       "      <td>65.000000</td>\n",
       "      <td>66.000000</td>\n",
       "      <td>66.000000</td>\n",
       "      <td>66.000000</td>\n",
       "      <td>66.000000</td>\n",
       "      <td>66.000000</td>\n",
       "      <td>66.000000</td>\n",
       "    </tr>\n",
       "    <tr>\n",
       "      <th>mean</th>\n",
       "      <td>5.636364</td>\n",
       "      <td>6.424242</td>\n",
       "      <td>5.712121</td>\n",
       "      <td>5.338462</td>\n",
       "      <td>6.030303</td>\n",
       "      <td>6.454545</td>\n",
       "      <td>6.090909</td>\n",
       "      <td>4.681818</td>\n",
       "      <td>7.833333</td>\n",
       "      <td>6.530303</td>\n",
       "    </tr>\n",
       "    <tr>\n",
       "      <th>std</th>\n",
       "      <td>2.042897</td>\n",
       "      <td>2.253617</td>\n",
       "      <td>2.251599</td>\n",
       "      <td>2.507968</td>\n",
       "      <td>2.119287</td>\n",
       "      <td>2.701463</td>\n",
       "      <td>2.174872</td>\n",
       "      <td>2.156629</td>\n",
       "      <td>2.012143</td>\n",
       "      <td>2.695978</td>\n",
       "    </tr>\n",
       "    <tr>\n",
       "      <th>min</th>\n",
       "      <td>1.000000</td>\n",
       "      <td>1.000000</td>\n",
       "      <td>1.000000</td>\n",
       "      <td>1.000000</td>\n",
       "      <td>1.000000</td>\n",
       "      <td>1.000000</td>\n",
       "      <td>1.000000</td>\n",
       "      <td>1.000000</td>\n",
       "      <td>1.000000</td>\n",
       "      <td>1.000000</td>\n",
       "    </tr>\n",
       "    <tr>\n",
       "      <th>25%</th>\n",
       "      <td>4.000000</td>\n",
       "      <td>5.000000</td>\n",
       "      <td>5.000000</td>\n",
       "      <td>3.000000</td>\n",
       "      <td>5.000000</td>\n",
       "      <td>4.000000</td>\n",
       "      <td>5.000000</td>\n",
       "      <td>3.000000</td>\n",
       "      <td>7.000000</td>\n",
       "      <td>5.000000</td>\n",
       "    </tr>\n",
       "    <tr>\n",
       "      <th>50%</th>\n",
       "      <td>6.000000</td>\n",
       "      <td>7.000000</td>\n",
       "      <td>6.000000</td>\n",
       "      <td>6.000000</td>\n",
       "      <td>6.000000</td>\n",
       "      <td>7.500000</td>\n",
       "      <td>6.000000</td>\n",
       "      <td>4.500000</td>\n",
       "      <td>8.000000</td>\n",
       "      <td>7.000000</td>\n",
       "    </tr>\n",
       "    <tr>\n",
       "      <th>75%</th>\n",
       "      <td>7.000000</td>\n",
       "      <td>8.000000</td>\n",
       "      <td>7.750000</td>\n",
       "      <td>7.000000</td>\n",
       "      <td>7.750000</td>\n",
       "      <td>9.000000</td>\n",
       "      <td>8.000000</td>\n",
       "      <td>6.000000</td>\n",
       "      <td>9.000000</td>\n",
       "      <td>9.000000</td>\n",
       "    </tr>\n",
       "    <tr>\n",
       "      <th>max</th>\n",
       "      <td>10.000000</td>\n",
       "      <td>10.000000</td>\n",
       "      <td>10.000000</td>\n",
       "      <td>10.000000</td>\n",
       "      <td>9.000000</td>\n",
       "      <td>10.000000</td>\n",
       "      <td>10.000000</td>\n",
       "      <td>9.000000</td>\n",
       "      <td>10.000000</td>\n",
       "      <td>10.000000</td>\n",
       "    </tr>\n",
       "  </tbody>\n",
       "</table>\n",
       "</div>"
      ],
      "text/plain": [
       "           Blues  Classical    Country  Electronic       Folk    Hip Hop  \\\n",
       "count  66.000000  66.000000  66.000000   65.000000  66.000000  66.000000   \n",
       "mean    5.636364   6.424242   5.712121    5.338462   6.030303   6.454545   \n",
       "std     2.042897   2.253617   2.251599    2.507968   2.119287   2.701463   \n",
       "min     1.000000   1.000000   1.000000    1.000000   1.000000   1.000000   \n",
       "25%     4.000000   5.000000   5.000000    3.000000   5.000000   4.000000   \n",
       "50%     6.000000   7.000000   6.000000    6.000000   6.000000   7.500000   \n",
       "75%     7.000000   8.000000   7.750000    7.000000   7.750000   9.000000   \n",
       "max    10.000000  10.000000  10.000000   10.000000   9.000000  10.000000   \n",
       "\n",
       "            Jazz      Latin        Pop       Rock  \n",
       "count  66.000000  66.000000  66.000000  66.000000  \n",
       "mean    6.090909   4.681818   7.833333   6.530303  \n",
       "std     2.174872   2.156629   2.012143   2.695978  \n",
       "min     1.000000   1.000000   1.000000   1.000000  \n",
       "25%     5.000000   3.000000   7.000000   5.000000  \n",
       "50%     6.000000   4.500000   8.000000   7.000000  \n",
       "75%     8.000000   6.000000   9.000000   9.000000  \n",
       "max    10.000000   9.000000  10.000000  10.000000  "
      ]
     },
     "execution_count": 57,
     "metadata": {},
     "output_type": "execute_result"
    }
   ],
   "source": [
    "music.describe()"
   ]
  },
  {
   "cell_type": "code",
   "execution_count": 58,
   "metadata": {},
   "outputs": [
    {
     "data": {
      "text/plain": [
       "<AxesSubplot:>"
      ]
     },
     "execution_count": 58,
     "metadata": {},
     "output_type": "execute_result"
    },
    {
     "data": {
      "image/png": "[encoded data removed]",
      "text/plain": [
       "<Figure size 432x288 with 1 Axes>"
      ]
     },
     "metadata": {
      "needs_background": "light"
     },
     "output_type": "display_data"
    }
   ],
   "source": [
    "sns.boxplot(data=music)"
   ]
  },
  {
   "cell_type": "code",
   "execution_count": 59,
   "metadata": {},
   "outputs": [
    {
     "data": {
      "text/plain": [
       "<AxesSubplot:>"
      ]
     },
     "execution_count": 59,
     "metadata": {},
     "output_type": "execute_result"
    },
    {
     "data": {
      "image/png": "[encoded data removed]",
      "text/plain": [
       "<Figure size 432x288 with 2 Axes>"
      ]
     },
     "metadata": {
      "needs_background": "light"
     },
     "output_type": "display_data"
    }
   ],
   "source": [
    "sns.heatmap(music.corr())"
   ]
  },
  {
   "cell_type": "code",
   "execution_count": 60,
   "metadata": {},
   "outputs": [],
   "source": [
    "# see some corr/structure here, can do PCA"
   ]
  },
  {
   "cell_type": "code",
   "execution_count": 61,
   "metadata": {},
   "outputs": [
    {
     "data": {
      "text/plain": [
       "<seaborn.axisgrid.PairGrid at 0x11b1d0d4cd0>"
      ]
     },
     "execution_count": 61,
     "metadata": {},
     "output_type": "execute_result"
    },
    {
     "data": {
      "image/png": "[encoded data removed]",
      "text/plain": [
       "<Figure size 1800x1800 with 110 Axes>"
      ]
     },
     "metadata": {
      "needs_background": "light"
     },
     "output_type": "display_data"
    }
   ],
   "source": [
    "sns.pairplot(music)"
   ]
  },
  {
   "cell_type": "code",
   "execution_count": null,
   "metadata": {},
   "outputs": [],
   "source": []
  },
  {
   "cell_type": "code",
   "execution_count": null,
   "metadata": {},
   "outputs": [],
   "source": []
  },
  {
   "cell_type": "code",
   "execution_count": null,
   "metadata": {},
   "outputs": [],
   "source": []
  },
  {
   "cell_type": "code",
   "execution_count": null,
   "metadata": {},
   "outputs": [],
   "source": []
  },
  {
   "cell_type": "markdown",
   "metadata": {},
   "source": [
    "## Task\n",
    "Create X (features matrix) and y (labels matrix) from the `music` dataframe:"
   ]
  },
  {
   "cell_type": "code",
   "execution_count": 135,
   "metadata": {},
   "outputs": [],
   "source": [
    "music.head()\n",
    "music = music.dropna()"
   ]
  },
  {
   "cell_type": "code",
   "execution_count": 136,
   "metadata": {},
   "outputs": [],
   "source": [
    "# 1. method 1\n",
    "X = music.drop(\"Name\", axis=1)\n",
    "y = music.Name"
   ]
  },
  {
   "cell_type": "code",
   "execution_count": 137,
   "metadata": {},
   "outputs": [],
   "source": [
    "# 2. method 2\n",
    "music_copy = music.copy()\n",
    "music_copy = music.set_index(\"Name\")\n",
    "music_copy\n",
    "\n",
    "X = music_copy.values\n",
    "y = music_copy.index"
   ]
  },
  {
   "cell_type": "markdown",
   "metadata": {},
   "source": [
    "## Task --- MDS\n",
    "Perform a multi-dimensional scaling on the music data.  Should you use metric or non-metric MDS?  Do the \n",
    "results differ between metric and non-metric?  Visualize your results."
   ]
  },
  {
   "cell_type": "code",
   "execution_count": 125,
   "metadata": {},
   "outputs": [
    {
     "data": {
      "image/png": "[encoded data removed]",
      "text/plain": [
       "<Figure size 432x288 with 1 Axes>"
      ]
     },
     "metadata": {
      "needs_background": "light"
     },
     "output_type": "display_data"
    }
   ],
   "source": [
    "nmds = manifold.MDS(n_components=2,\n",
    "                    metric=False, # non-metric MDS\n",
    "                    max_iter=3000,\n",
    "                    eps=1e-9,\n",
    "                    random_state=42,\n",
    "                    dissimilarity='euclidean',\n",
    "                    n_jobs=1)\n",
    "npos = nmds.fit_transform(X)\n",
    "npos_labelled = pd.concat(\n",
    "    [pd.DataFrame({'Name': y}), pd.DataFrame(npos)], axis=1)\n",
    "npos_labelled.columns = ['Name', 'mds1', 'mds2']\n",
    "labelled_scatterplot(npos_labelled, 'mds1', 'mds2', 'Name')"
   ]
  },
  {
   "cell_type": "code",
   "execution_count": 126,
   "metadata": {},
   "outputs": [
    {
     "data": {
      "image/png": "[encoded data removed]",
      "text/plain": [
       "<Figure size 432x288 with 1 Axes>"
      ]
     },
     "metadata": {
      "needs_background": "light"
     },
     "output_type": "display_data"
    }
   ],
   "source": [
    "nmds = manifold.MDS(n_components=2,\n",
    "                    metric=True, # metric MDS\n",
    "                    max_iter=3000,\n",
    "                    eps=1e-9,\n",
    "                    random_state=42,\n",
    "                    dissimilarity='euclidean',\n",
    "                    n_jobs=1)\n",
    "npos = nmds.fit_transform(X)\n",
    "npos_labelled = pd.concat(\n",
    "    [pd.DataFrame({'Name': y}), pd.DataFrame(npos)], axis=1)\n",
    "npos_labelled.columns = ['Name', 'mds1', 'mds2']\n",
    "labelled_scatterplot(npos_labelled, 'mds1', 'mds2', 'Name')"
   ]
  },
  {
   "cell_type": "markdown",
   "metadata": {},
   "source": [
    "Using metric MDS is more reasonable here, since we are not dealing with categorical data. We can see from the two plots that the results differ between metric and non-metric."
   ]
  },
  {
   "cell_type": "markdown",
   "metadata": {},
   "source": [
    "## Task -- PCA\n",
    "Perform a principal components analysis (PCA) on the music data.  Do you think you should scale the data before you\n",
    "do the PCA?  How many principal components should you retain (hint: look at a scree plot and/or eigenvalues, a.k.a. the explained_variance_ attribute of the PCA model).  Visualize your results."
   ]
  },
  {
   "cell_type": "code",
   "execution_count": 148,
   "metadata": {},
   "outputs": [
    {
     "data": {
      "text/plain": [
       "array([0.26971397, 0.18749673, 0.12574985, 0.09421775, 0.0750761 ])"
      ]
     },
     "execution_count": 148,
     "metadata": {},
     "output_type": "execute_result"
    },
    {
     "data": {
      "image/png": "[encoded data removed]",
      "text/plain": [
       "<Figure size 432x288 with 1 Axes>"
      ]
     },
     "metadata": {
      "needs_background": "light"
     },
     "output_type": "display_data"
    }
   ],
   "source": [
    "# PCA(n_components=5)\n",
    "\n",
    "pca = PCA(n_components=5)\n",
    "X_pca = pca.fit_transform(X)\n",
    "X_pca_labelled = pd.concat([pd.DataFrame({'Name': y}),\n",
    "                            pd.DataFrame(X_pca, columns=[\n",
    "                                         'pca1', 'pca2', 'pca3', 'pca4', 'pca5'])\n",
    "                            ], axis=1)\n",
    "labelled_scatterplot(data=X_pca_labelled, x='pca1', y='pca2', labs='Name')\n",
    "pca.explained_variance_ratio_"
   ]
  },
  {
   "cell_type": "code",
   "execution_count": 149,
   "metadata": {},
   "outputs": [
    {
     "data": {
      "image/png": "[encoded data removed]",
      "text/plain": [
       "<Figure size 432x288 with 1 Axes>"
      ]
     },
     "metadata": {
      "needs_background": "light"
     },
     "output_type": "display_data"
    }
   ],
   "source": [
    "# scree plot\n",
    "\n",
    "from matplotlib import pyplot as plt\n",
    "plt.plot(pca.explained_variance_ratio_)\n",
    "plt.xlabel('number of components')\n",
    "plt.ylabel('explained variance')\n",
    "plt.show()"
   ]
  },
  {
   "cell_type": "code",
   "execution_count": 150,
   "metadata": {},
   "outputs": [
    {
     "data": {
      "text/plain": [
       "array([0.26971397, 0.18749673, 0.12574985])"
      ]
     },
     "execution_count": 150,
     "metadata": {},
     "output_type": "execute_result"
    },
    {
     "data": {
      "image/png": "[encoded data removed]",
      "text/plain": [
       "<Figure size 432x288 with 1 Axes>"
      ]
     },
     "metadata": {
      "needs_background": "light"
     },
     "output_type": "display_data"
    }
   ],
   "source": [
    "# PCA(n_components=3)\n",
    "\n",
    "pca = PCA(n_components=3)\n",
    "X_pca = pca.fit_transform(X)\n",
    "X_pca_labelled = pd.concat([pd.DataFrame({'Name': y}),\n",
    "                            pd.DataFrame(X_pca, columns=[\n",
    "                                         'pca1', 'pca2', 'pca3'])\n",
    "                            ], axis=1)\n",
    "labelled_scatterplot(data=X_pca_labelled, x='pca1', y='pca2', labs='Name')\n",
    "pca.explained_variance_ratio_"
   ]
  },
  {
   "cell_type": "code",
   "execution_count": 151,
   "metadata": {},
   "outputs": [
    {
     "data": {
      "image/png": "[encoded data removed]",
      "text/plain": [
       "<Figure size 432x288 with 1 Axes>"
      ]
     },
     "metadata": {
      "needs_background": "light"
     },
     "output_type": "display_data"
    }
   ],
   "source": [
    "# scree plot\n",
    "\n",
    "from matplotlib import pyplot as plt\n",
    "plt.plot(pca.explained_variance_ratio_)\n",
    "plt.xlabel('number of components')\n",
    "plt.ylabel('explained variance')\n",
    "plt.show()"
   ]
  },
  {
   "cell_type": "code",
   "execution_count": 143,
   "metadata": {},
   "outputs": [
    {
     "data": {
      "text/html": [
       "<div>\n",
       "<style scoped>\n",
       "    .dataframe tbody tr th:only-of-type {\n",
       "        vertical-align: middle;\n",
       "    }\n",
       "\n",
       "    .dataframe tbody tr th {\n",
       "        vertical-align: top;\n",
       "    }\n",
       "\n",
       "    .dataframe thead th {\n",
       "        text-align: right;\n",
       "    }\n",
       "</style>\n",
       "<table border=\"1\" class=\"dataframe\">\n",
       "  <thead>\n",
       "    <tr style=\"text-align: right;\">\n",
       "      <th></th>\n",
       "      <th>Blues</th>\n",
       "      <th>Classical</th>\n",
       "      <th>Country</th>\n",
       "      <th>Electronic</th>\n",
       "      <th>Folk</th>\n",
       "      <th>Hip Hop</th>\n",
       "      <th>Jazz</th>\n",
       "      <th>Latin</th>\n",
       "      <th>Pop</th>\n",
       "      <th>Rock</th>\n",
       "    </tr>\n",
       "    <tr>\n",
       "      <th>Name</th>\n",
       "      <th></th>\n",
       "      <th></th>\n",
       "      <th></th>\n",
       "      <th></th>\n",
       "      <th></th>\n",
       "      <th></th>\n",
       "      <th></th>\n",
       "      <th></th>\n",
       "      <th></th>\n",
       "      <th></th>\n",
       "    </tr>\n",
       "  </thead>\n",
       "  <tbody>\n",
       "    <tr>\n",
       "      <th>Abdul W</th>\n",
       "      <td>5</td>\n",
       "      <td>7</td>\n",
       "      <td>6</td>\n",
       "      <td>6.0</td>\n",
       "      <td>8</td>\n",
       "      <td>9</td>\n",
       "      <td>8</td>\n",
       "      <td>4</td>\n",
       "      <td>10</td>\n",
       "      <td>8</td>\n",
       "    </tr>\n",
       "    <tr>\n",
       "      <th>Aditi</th>\n",
       "      <td>8</td>\n",
       "      <td>9</td>\n",
       "      <td>8</td>\n",
       "      <td>5.0</td>\n",
       "      <td>9</td>\n",
       "      <td>5</td>\n",
       "      <td>7</td>\n",
       "      <td>7</td>\n",
       "      <td>5</td>\n",
       "      <td>6</td>\n",
       "    </tr>\n",
       "    <tr>\n",
       "      <th>Akshata</th>\n",
       "      <td>5</td>\n",
       "      <td>9</td>\n",
       "      <td>8</td>\n",
       "      <td>1.0</td>\n",
       "      <td>9</td>\n",
       "      <td>5</td>\n",
       "      <td>7</td>\n",
       "      <td>3</td>\n",
       "      <td>3</td>\n",
       "      <td>1</td>\n",
       "    </tr>\n",
       "    <tr>\n",
       "      <th>Amanda H</th>\n",
       "      <td>3</td>\n",
       "      <td>7</td>\n",
       "      <td>6</td>\n",
       "      <td>7.0</td>\n",
       "      <td>5</td>\n",
       "      <td>7</td>\n",
       "      <td>3</td>\n",
       "      <td>5</td>\n",
       "      <td>10</td>\n",
       "      <td>5</td>\n",
       "    </tr>\n",
       "    <tr>\n",
       "      <th>Anand</th>\n",
       "      <td>4</td>\n",
       "      <td>3</td>\n",
       "      <td>3</td>\n",
       "      <td>7.0</td>\n",
       "      <td>6</td>\n",
       "      <td>9</td>\n",
       "      <td>5</td>\n",
       "      <td>7</td>\n",
       "      <td>6</td>\n",
       "      <td>5</td>\n",
       "    </tr>\n",
       "    <tr>\n",
       "      <th>...</th>\n",
       "      <td>...</td>\n",
       "      <td>...</td>\n",
       "      <td>...</td>\n",
       "      <td>...</td>\n",
       "      <td>...</td>\n",
       "      <td>...</td>\n",
       "      <td>...</td>\n",
       "      <td>...</td>\n",
       "      <td>...</td>\n",
       "      <td>...</td>\n",
       "    </tr>\n",
       "    <tr>\n",
       "      <th>YuantaoB</th>\n",
       "      <td>4</td>\n",
       "      <td>9</td>\n",
       "      <td>9</td>\n",
       "      <td>3.0</td>\n",
       "      <td>3</td>\n",
       "      <td>2</td>\n",
       "      <td>1</td>\n",
       "      <td>5</td>\n",
       "      <td>8</td>\n",
       "      <td>1</td>\n",
       "    </tr>\n",
       "    <tr>\n",
       "      <th>Yuhang Z</th>\n",
       "      <td>10</td>\n",
       "      <td>8</td>\n",
       "      <td>5</td>\n",
       "      <td>3.0</td>\n",
       "      <td>4</td>\n",
       "      <td>10</td>\n",
       "      <td>6</td>\n",
       "      <td>1</td>\n",
       "      <td>7</td>\n",
       "      <td>1</td>\n",
       "    </tr>\n",
       "    <tr>\n",
       "      <th>Zane</th>\n",
       "      <td>5</td>\n",
       "      <td>8</td>\n",
       "      <td>5</td>\n",
       "      <td>7.0</td>\n",
       "      <td>8</td>\n",
       "      <td>7</td>\n",
       "      <td>8</td>\n",
       "      <td>7</td>\n",
       "      <td>10</td>\n",
       "      <td>9</td>\n",
       "    </tr>\n",
       "    <tr>\n",
       "      <th>Zhiang</th>\n",
       "      <td>5</td>\n",
       "      <td>1</td>\n",
       "      <td>6</td>\n",
       "      <td>9.0</td>\n",
       "      <td>7</td>\n",
       "      <td>10</td>\n",
       "      <td>3</td>\n",
       "      <td>2</td>\n",
       "      <td>8</td>\n",
       "      <td>4</td>\n",
       "    </tr>\n",
       "    <tr>\n",
       "      <th>Ella Li</th>\n",
       "      <td>7</td>\n",
       "      <td>3</td>\n",
       "      <td>6</td>\n",
       "      <td>8.0</td>\n",
       "      <td>4</td>\n",
       "      <td>9</td>\n",
       "      <td>6</td>\n",
       "      <td>2</td>\n",
       "      <td>8</td>\n",
       "      <td>10</td>\n",
       "    </tr>\n",
       "  </tbody>\n",
       "</table>\n",
       "<p>65 rows × 10 columns</p>\n",
       "</div>"
      ],
      "text/plain": [
       "          Blues  Classical  Country  Electronic  Folk  Hip Hop  Jazz  Latin  \\\n",
       "Name                                                                          \n",
       "Abdul W       5          7        6         6.0     8        9     8      4   \n",
       "Aditi         8          9        8         5.0     9        5     7      7   \n",
       "Akshata       5          9        8         1.0     9        5     7      3   \n",
       "Amanda H      3          7        6         7.0     5        7     3      5   \n",
       "Anand         4          3        3         7.0     6        9     5      7   \n",
       "...         ...        ...      ...         ...   ...      ...   ...    ...   \n",
       "YuantaoB      4          9        9         3.0     3        2     1      5   \n",
       "Yuhang Z     10          8        5         3.0     4       10     6      1   \n",
       "Zane          5          8        5         7.0     8        7     8      7   \n",
       "Zhiang        5          1        6         9.0     7       10     3      2   \n",
       "Ella Li       7          3        6         8.0     4        9     6      2   \n",
       "\n",
       "          Pop  Rock  \n",
       "Name                 \n",
       "Abdul W    10     8  \n",
       "Aditi       5     6  \n",
       "Akshata     3     1  \n",
       "Amanda H   10     5  \n",
       "Anand       6     5  \n",
       "...       ...   ...  \n",
       "YuantaoB    8     1  \n",
       "Yuhang Z    7     1  \n",
       "Zane       10     9  \n",
       "Zhiang      8     4  \n",
       "Ella Li     8    10  \n",
       "\n",
       "[65 rows x 10 columns]"
      ]
     },
     "execution_count": 143,
     "metadata": {},
     "output_type": "execute_result"
    }
   ],
   "source": [
    "music_copy"
   ]
  },
  {
   "cell_type": "code",
   "execution_count": 152,
   "metadata": {},
   "outputs": [
    {
     "data": {
      "image/png": "[encoded data removed]",
      "text/plain": [
       "<Figure size 1008x576 with 1 Axes>"
      ]
     },
     "metadata": {
      "needs_background": "light"
     },
     "output_type": "display_data"
    }
   ],
   "source": [
    "# factors loading diagram (can help interprete the PCA)\n",
    "\n",
    "def pca_results(data, pca):\n",
    "\n",
    "    # Dimension indexing\n",
    "    dimensions = ['Dimension {}'.format(i)\n",
    "                  for i in range(1, len(pca.components_)+1)]\n",
    "\n",
    "    # PCA components\n",
    "    components = pd.DataFrame(\n",
    "        np.round(pca.components_, 4), columns=data.keys())\n",
    "    components.index = dimensions\n",
    "\n",
    "    # PCA explained variance\n",
    "    ratios = pca.explained_variance_ratio_.reshape(len(pca.components_), 1)\n",
    "    variance_ratios = pd.DataFrame(\n",
    "        np.round(ratios, 4), columns=['Explained Variance'])\n",
    "    variance_ratios.index = dimensions\n",
    "\n",
    "    # Create a bar plot visualization\n",
    "    fig, ax = plt.subplots(figsize=(14, 8))\n",
    "\n",
    "    # Plot the feature weights as a function of the components\n",
    "    components.plot(ax=ax, kind='bar')\n",
    "    ax.set_ylabel(\"Feature Weights\")\n",
    "    ax.set_xticklabels(dimensions, rotation=0)\n",
    "\n",
    "    # Display the explained variance ratios#\n",
    "    for i, ev in enumerate(pca.explained_variance_ratio_):\n",
    "        ax.text(i-0.40, ax.get_ylim()[1] + 0.05,\n",
    "                \"Explained Variance\\n %.4f\" % (ev))\n",
    "\n",
    "    # Return a concatenated DataFrame\n",
    "    return pd.concat([variance_ratios, components], axis=1)\n",
    "\n",
    "\n",
    "pca_results = pca_results(music_copy, pca)"
   ]
  },
  {
   "cell_type": "markdown",
   "metadata": {},
   "source": [
    "* No, I do not think I should scale the data before I do the PCA. This is because the data points in different columns all range from 1-10, and they have the same units. \n",
    "* I retained 3 principal components, as there are 10 variables originally, and starting from the 4th component, although we can not find obvious elbow point from scree plot, we can find that each of the principal components starting from 4th components contributes to less than 10% of the explained variance."
   ]
  },
  {
   "cell_type": "code",
   "execution_count": 153,
   "metadata": {},
   "outputs": [],
   "source": [
    "# factors loading diagram (can help interprete the PCA)\n",
    "\n",
    "# 3 principal components here in x-axis\n",
    "# y-axis are feature weights (corrolations between variables and that pc)\n",
    "\n",
    "# the first pc is negtively correlated with all of the music genres, so first pc(dimension) should be \"music dislike/haters factor\"\n",
    "# the second pc should be \"hip op pop rock electronic lovers factor\"\n",
    "# the third pc should be \"country folk latin rock electronic lovers factor\"\n",
    "\n",
    "# and these 3 componets all explained var more than 1/n (10% in this case), so worth to keep;"
   ]
  },
  {
   "cell_type": "markdown",
   "metadata": {},
   "source": [
    "## Task -- TSNE\n",
    "Perform a t-SNE analysis of the music data.  Experiment with different hyperparameters (i.e. perplexity and n_iter) to see how your solution changes.  Visualize your results."
   ]
  },
  {
   "cell_type": "code",
   "execution_count": 157,
   "metadata": {},
   "outputs": [
    {
     "data": {
      "image/png": "[encoded data removed]",
      "text/plain": [
       "<Figure size 432x288 with 1 Axes>"
      ]
     },
     "metadata": {
      "needs_background": "light"
     },
     "output_type": "display_data"
    }
   ],
   "source": [
    "# TSNE(n_components=2, random_state=0, perplexity=7)\n",
    "\n",
    "tsne = TSNE(n_components=2, random_state=0, perplexity=7)\n",
    "X_2d = tsne.fit_transform(X)\n",
    "tsne_labelled = pd.concat(\n",
    "    [pd.DataFrame({'Name': y}), pd.DataFrame(X_2d, columns=['d1', 'd2'])], axis=1)\n",
    "labelled_scatterplot(data=tsne_labelled, x='d1', y='d2', labs='Name')"
   ]
  },
  {
   "cell_type": "code",
   "execution_count": 158,
   "metadata": {},
   "outputs": [
    {
     "data": {
      "image/png": "[encoded data removed]",
      "text/plain": [
       "<Figure size 432x288 with 1 Axes>"
      ]
     },
     "metadata": {
      "needs_background": "light"
     },
     "output_type": "display_data"
    }
   ],
   "source": [
    "# TSNE(n_components=2, random_state=0, perplexity=15)\n",
    "\n",
    "tsne = TSNE(n_components=2, random_state=0, perplexity=15)\n",
    "X_2d = tsne.fit_transform(X)\n",
    "tsne_labelled = pd.concat(\n",
    "    [pd.DataFrame({'Name': y}), pd.DataFrame(X_2d, columns=['d1', 'd2'])], axis=1)\n",
    "labelled_scatterplot(data=tsne_labelled, x='d1', y='d2', labs='Name')"
   ]
  },
  {
   "cell_type": "markdown",
   "metadata": {},
   "source": [
    "* Using different hyperparameters generates quite different solutions. A same point could cluster with quite different data points with different numbers of perplexity or n_iter. \n",
    "* The higher the perplexity is, the less important the local clustering is."
   ]
  },
  {
   "cell_type": "markdown",
   "metadata": {},
   "source": [
    "## Task -- COMPARE 3 MODELS\n",
    "Compare the three analyses (MDS, PCA, and t-SNE).  Comment on similarities and differences.  What do you think the best technique is to use with the music data?"
   ]
  },
  {
   "cell_type": "markdown",
   "metadata": {},
   "source": [
    "* Similarities: The three analyses all reduce dimensions of the data.\n",
    "\n",
    "* Differences: The results are different. MDS provides metric and non-metric options, and non-metric MDS might be the most suitable method among the three analyses when dealing with categorical data. Before using PCA, we usually need to scale the data, but this is not required in MDS and t-SNE. t-SNE is sensitive to hyperparameters, which is not the same in MDS and PCA, and also need a lot of computing resources;\n",
    "\n",
    "* Best technique: I think PCA is the best technique to use with the music data, since the clustering trend is more clearly showed in PCA and it is easy to perform and gives us clearer answers.\n",
    "\n",
    "* PCA seeks to preserve the variance in the data. When we use it to construct a two-dimensional projection, it finds the projection plane were the most spread data. \n",
    "* MDS aims to preserve the distances between pairs of data points, focusing on pairs of distant points in the original space. \n",
    "* t-SNE focuses on maintaining neighborhood data points. Data points that are close in the original data space will be tight in the t-SNE embeddings.\n",
    "\n",
    "* Interestingly, MDS and PCA visualizations bear many similarities, while t-SNE embeddings are pretty different. \n",
    "* We use t-SNE to expose the clustering structure, MDS when global relations matter, and PCA as a preprocessing technique to reduce dimensionality and remove noise."
   ]
  },
  {
   "cell_type": "markdown",
   "metadata": {},
   "source": [
    "## Stretch task\n",
    "\n",
    "Use a Pipeline to perform a PCA on the music data."
   ]
  },
  {
   "cell_type": "code",
   "execution_count": 159,
   "metadata": {},
   "outputs": [],
   "source": [
    "pipe = Pipeline([\n",
    "    ('scale', StandardScaler()),\n",
    "    ('pca', PCA(n_components=5, random_state=42)),\n",
    "])"
   ]
  },
  {
   "cell_type": "code",
   "execution_count": 160,
   "metadata": {},
   "outputs": [
    {
     "data": {
      "text/plain": [
       "array([[-1.42689395, -0.65449593, -0.78312246, -0.50547043,  0.53640687],\n",
       "       [-1.14354524,  2.18935639,  0.86464434, -0.16955109,  0.77390745],\n",
       "       [ 1.53291155,  2.63808312,  0.48317514, -1.19999728,  1.89742505],\n",
       "       [ 0.52797303, -1.29290394,  0.21461859,  0.81629241,  0.17042766],\n",
       "       [ 0.67931187, -1.50811309,  0.09000295,  0.05160328, -0.87544444],\n",
       "       [ 1.20639202, -2.10849929,  0.17975288,  0.11209422,  0.10117675],\n",
       "       [ 0.71429906,  1.73539611,  3.528527  , -1.76862504, -0.68573864],\n",
       "       [ 1.10176399,  0.65102871, -1.37265218, -0.32634166, -0.61992789],\n",
       "       [-1.86280362,  0.58484213, -0.16543183,  0.45591178, -0.23715347],\n",
       "       [-0.90918467, -1.31162884,  0.63852159, -1.48241925,  0.13155925],\n",
       "       [ 0.11625416, -3.12412026, -1.67120569, -0.91645138, -0.09301649],\n",
       "       [-0.21346863,  0.65981892,  1.05625483,  0.050276  ,  1.00409588],\n",
       "       [-1.41355427, -0.41945208, -0.05808743,  1.22551583, -0.57554905],\n",
       "       [ 1.01667845, -1.31169497,  0.63494536, -0.64774295, -0.97813378],\n",
       "       [-0.07581814, -0.47376769, -1.02728739,  1.77036856,  0.6244668 ],\n",
       "       [-0.42536863,  0.64076833,  0.45866526,  2.23342524, -1.81033408],\n",
       "       [-1.22395213,  1.77205324,  0.13681362,  0.36538945,  0.19528361],\n",
       "       [-1.89529593,  0.34142289, -0.6410867 ,  1.43043305, -0.17244476],\n",
       "       [-0.02977373, -1.95886393, -0.56640985,  1.96258579, -1.17989807],\n",
       "       [-0.01563108,  1.2817389 ,  0.62279992,  1.85539711,  0.24746672],\n",
       "       [-1.49709378, -0.27457111,  2.21358557,  1.20774178,  0.8502586 ],\n",
       "       [ 6.92168637, -0.60186747,  1.09388839, -0.08638889, -0.96376246],\n",
       "       [-0.45074636, -0.31571526,  0.01625219,  0.50664987,  0.90649719],\n",
       "       [-1.30708697, -2.13448813,  0.52424525, -0.41884401,  0.67185865],\n",
       "       [-0.62346855, -2.14972621,  0.06971964,  0.07971837, -1.38544058],\n",
       "       [-3.02754336, -0.93764934,  0.11311399, -0.56319626,  0.21881837],\n",
       "       [-1.63605298,  1.10187466,  0.26153862, -1.58986923, -1.13115631],\n",
       "       [ 3.21888822,  1.67133436, -1.43685085, -0.15622585, -0.84263533],\n",
       "       [ 0.61142005, -0.23883907,  0.11658996, -0.21599565,  0.49824603],\n",
       "       [-1.58613647,  1.26733885,  0.1404077 ,  0.69232193,  0.6124215 ],\n",
       "       [-0.81837916, -0.17961827, -0.26824239, -0.75294879,  1.39497361],\n",
       "       [ 1.43406178,  0.22261688,  0.67256482,  0.00785507, -0.54075332],\n",
       "       [ 0.01297606,  1.7715518 , -2.07431588,  0.27536437, -0.67869093],\n",
       "       [-0.87895134, -0.83589904, -1.68693489,  0.17557759, -0.51234945],\n",
       "       [ 1.84079871, -0.19300851, -0.22507906,  0.99734337, -0.47033831],\n",
       "       [-1.31370754, -0.50569943,  0.93779505, -0.17644931,  0.15039535],\n",
       "       [ 1.13001275, -2.0759549 ,  0.45437028,  1.12906564,  1.05032568],\n",
       "       [-2.06392677,  0.60296063, -0.98858885,  1.1643744 , -0.42792845],\n",
       "       [ 0.50469312, -1.32996724,  0.40355205, -0.33096875,  0.28857204],\n",
       "       [-2.13760457,  0.93138888, -0.23540205, -0.38614379, -0.9262694 ],\n",
       "       [-0.63647981,  2.00992823,  1.24574755, -0.31231006, -2.20922747],\n",
       "       [-0.95372162,  0.40493043,  0.63887854, -0.34135767, -0.4522171 ],\n",
       "       [-0.28200611,  0.3392628 , -0.94380122, -0.9759472 , -0.73727697],\n",
       "       [ 3.02352227, -0.28043096, -1.97578483,  0.59274558, -0.35722858],\n",
       "       [-2.46273115, -0.09691542,  0.80594544,  0.15161831,  0.4960594 ],\n",
       "       [-0.52041311, -0.26754971,  0.59196974,  0.57010976, -0.20802498],\n",
       "       [-0.02651486, -1.46887109, -0.99629147, -0.4728602 ,  0.15985784],\n",
       "       [-0.06775047, -1.60743974, -0.07215383,  0.19360341, -0.89355633],\n",
       "       [ 1.16054727,  2.71112337,  0.17943093, -0.17695823, -0.47061946],\n",
       "       [-1.0412461 ,  0.16312607,  0.82327769,  0.16337325,  0.70609646],\n",
       "       [ 0.64692524, -0.54610608, -2.09712548, -1.17459557,  2.28693788],\n",
       "       [-0.07840049,  1.54621694, -2.58758092, -1.13818035, -0.72796832],\n",
       "       [ 1.91560462,  0.811668  , -0.42958063,  0.86047383,  2.03532601],\n",
       "       [ 0.70499509,  3.41017778,  0.98927679,  0.51136165, -0.14046557],\n",
       "       [ 1.03744748, -0.89654356,  1.50465195, -0.02322403,  0.59786088],\n",
       "       [-0.47518185,  0.75005747, -1.30713406, -0.11793035,  1.53387053],\n",
       "       [ 2.38712089, -1.62686673,  0.12589026,  0.3749301 ,  0.99380826],\n",
       "       [-0.99969089,  0.02753459,  0.25489493, -1.80597924,  0.27122117],\n",
       "       [-0.01471103,  2.32498169, -1.36731818, -0.36733423, -0.10503857],\n",
       "       [-0.06964108, -0.60004247,  1.05344933, -0.91431775,  0.443059  ],\n",
       "       [ 2.47573071,  1.24607998,  1.35501226,  1.80743401,  0.86180064],\n",
       "       [ 1.25518794,  1.729753  , -1.51387607, -1.85569608,  0.16312899],\n",
       "       [-1.95512154, -0.40897965, -0.68315987,  0.6418985 ,  0.15166198],\n",
       "       [ 0.73510139, -2.45144221,  1.33921494, -1.73032994, -0.09022224],\n",
       "       [-0.35270609, -1.35068354,  0.3405187 , -1.33220298, -1.5264613 ]])"
      ]
     },
     "execution_count": 160,
     "metadata": {},
     "output_type": "execute_result"
    }
   ],
   "source": [
    "pipe.fit_transform(X)"
   ]
  },
  {
   "cell_type": "markdown",
   "metadata": {},
   "source": [
    "# Clustering"
   ]
  },
  {
   "cell_type": "markdown",
   "metadata": {},
   "source": [
    "## A few words about pipelines\n",
    "\n",
    "Consider the following pipeline:"
   ]
  },
  {
   "cell_type": "code",
   "execution_count": 161,
   "metadata": {},
   "outputs": [],
   "source": [
    "from sklearn.pipeline import Pipeline\n",
    "from sklearn.preprocessing import StandardScaler\n",
    "from sklearn.decomposition import PCA\n",
    "\n",
    "pipe = Pipeline([\n",
    "    ('scale', StandardScaler()),\n",
    "    ('pca', PCA(n_components=5, random_state=42)),\n",
    "])"
   ]
  },
  {
   "cell_type": "markdown",
   "metadata": {},
   "source": [
    "The pipeline can be queried by using `get_params()`:"
   ]
  },
  {
   "cell_type": "code",
   "execution_count": 163,
   "metadata": {},
   "outputs": [
    {
     "data": {
      "text/plain": [
       "{'memory': None,\n",
       " 'steps': [('scale', StandardScaler()),\n",
       "  ('pca', PCA(n_components=5, random_state=42))],\n",
       " 'verbose': False,\n",
       " 'scale': StandardScaler(),\n",
       " 'pca': PCA(n_components=5, random_state=42),\n",
       " 'scale__copy': True,\n",
       " 'scale__with_mean': True,\n",
       " 'scale__with_std': True,\n",
       " 'pca__copy': True,\n",
       " 'pca__iterated_power': 'auto',\n",
       " 'pca__n_components': 5,\n",
       " 'pca__random_state': 42,\n",
       " 'pca__svd_solver': 'auto',\n",
       " 'pca__tol': 0.0,\n",
       " 'pca__whiten': False}"
      ]
     },
     "execution_count": 163,
     "metadata": {},
     "output_type": "execute_result"
    }
   ],
   "source": [
    "pipe.get_params()"
   ]
  },
  {
   "cell_type": "markdown",
   "metadata": {},
   "source": [
    "The `named_steps` attribute holds (unsurprisingly) the named steps of the pipeline:"
   ]
  },
  {
   "cell_type": "code",
   "execution_count": 164,
   "metadata": {},
   "outputs": [
    {
     "data": {
      "text/plain": [
       "{'scale': StandardScaler(), 'pca': PCA(n_components=5, random_state=42)}"
      ]
     },
     "execution_count": 164,
     "metadata": {},
     "output_type": "execute_result"
    }
   ],
   "source": [
    "pipe.named_steps"
   ]
  },
  {
   "cell_type": "markdown",
   "metadata": {},
   "source": [
    "The steps themselves can be accessed as attributes of the `named_steps` property:"
   ]
  },
  {
   "cell_type": "code",
   "execution_count": 165,
   "metadata": {},
   "outputs": [
    {
     "data": {
      "text/plain": [
       "PCA(n_components=5, random_state=42)"
      ]
     },
     "execution_count": 165,
     "metadata": {},
     "output_type": "execute_result"
    }
   ],
   "source": [
    "pipe.named_steps.pca"
   ]
  },
  {
   "cell_type": "markdown",
   "metadata": {},
   "source": [
    "And specifics about the step can be modified by assigning new values to them:"
   ]
  },
  {
   "cell_type": "code",
   "execution_count": 166,
   "metadata": {},
   "outputs": [],
   "source": [
    "pipe.named_steps.pca.n_components = 3"
   ]
  },
  {
   "cell_type": "code",
   "execution_count": 167,
   "metadata": {},
   "outputs": [
    {
     "data": {
      "text/plain": [
       "PCA(n_components=3, random_state=42)"
      ]
     },
     "execution_count": 167,
     "metadata": {},
     "output_type": "execute_result"
    }
   ],
   "source": [
    "pipe.named_steps.pca"
   ]
  },
  {
   "cell_type": "markdown",
   "metadata": {},
   "source": [
    "And you can also use the <estimator>__<parameter> syntax:\n"
   ]
  },
  {
   "cell_type": "code",
   "execution_count": 168,
   "metadata": {
    "scrolled": true
   },
   "outputs": [
    {
     "data": {
      "text/plain": [
       "Pipeline(steps=[('scale', StandardScaler()),\n",
       "                ('pca', PCA(n_components=2, random_state=42))])"
      ]
     },
     "execution_count": 168,
     "metadata": {},
     "output_type": "execute_result"
    }
   ],
   "source": [
    "pipe.set_params(pca__n_components=2)"
   ]
  },
  {
   "cell_type": "markdown",
   "metadata": {},
   "source": [
    "Ok, on to today's notebook, which consists of two tasks.  First, let's load the music data we generated in an earlier class:"
   ]
  },
  {
   "cell_type": "code",
   "execution_count": 169,
   "metadata": {},
   "outputs": [],
   "source": [
    "import pandas as pd\n",
    "import numpy as np\n",
    "import seaborn as sns"
   ]
  },
  {
   "cell_type": "code",
   "execution_count": 170,
   "metadata": {},
   "outputs": [],
   "source": [
    "# let's use these imports to make life easier\n",
    "\n",
    "from sklearn.cluster import KMeans\n",
    "from sklearn.cluster import AgglomerativeClustering\n",
    "from sklearn.preprocessing import StandardScaler\n",
    "from sklearn.impute import SimpleImputer"
   ]
  },
  {
   "cell_type": "code",
   "execution_count": 171,
   "metadata": {},
   "outputs": [],
   "source": [
    "music = pd.read_csv(\n",
    "    'https://docs.google.com/spreadsheets/d/e/2PACX-1vR4YaVmpag6ucq-Q62adFm8oQz2YQRE7jsiTdE3S8-uxEj8dV6W_rbLHh0AMM4AKeibsDZLWXHQU0rT/pub?gid=0&single=true&output=csv')"
   ]
  },
  {
   "cell_type": "code",
   "execution_count": 172,
   "metadata": {},
   "outputs": [
    {
     "data": {
      "text/html": [
       "<div>\n",
       "<style scoped>\n",
       "    .dataframe tbody tr th:only-of-type {\n",
       "        vertical-align: middle;\n",
       "    }\n",
       "\n",
       "    .dataframe tbody tr th {\n",
       "        vertical-align: top;\n",
       "    }\n",
       "\n",
       "    .dataframe thead th {\n",
       "        text-align: right;\n",
       "    }\n",
       "</style>\n",
       "<table border=\"1\" class=\"dataframe\">\n",
       "  <thead>\n",
       "    <tr style=\"text-align: right;\">\n",
       "      <th></th>\n",
       "      <th>Name</th>\n",
       "      <th>Blues</th>\n",
       "      <th>Classical</th>\n",
       "      <th>Country</th>\n",
       "      <th>Electronic</th>\n",
       "      <th>Folk</th>\n",
       "      <th>Hip Hop</th>\n",
       "      <th>Jazz</th>\n",
       "      <th>Latin</th>\n",
       "      <th>Pop</th>\n",
       "      <th>Rock</th>\n",
       "    </tr>\n",
       "  </thead>\n",
       "  <tbody>\n",
       "    <tr>\n",
       "      <th>0</th>\n",
       "      <td>Abdul W</td>\n",
       "      <td>5</td>\n",
       "      <td>7</td>\n",
       "      <td>6</td>\n",
       "      <td>6.0</td>\n",
       "      <td>8</td>\n",
       "      <td>9</td>\n",
       "      <td>8</td>\n",
       "      <td>4</td>\n",
       "      <td>10</td>\n",
       "      <td>8</td>\n",
       "    </tr>\n",
       "    <tr>\n",
       "      <th>1</th>\n",
       "      <td>Aditi</td>\n",
       "      <td>8</td>\n",
       "      <td>9</td>\n",
       "      <td>8</td>\n",
       "      <td>5.0</td>\n",
       "      <td>9</td>\n",
       "      <td>5</td>\n",
       "      <td>7</td>\n",
       "      <td>7</td>\n",
       "      <td>5</td>\n",
       "      <td>6</td>\n",
       "    </tr>\n",
       "    <tr>\n",
       "      <th>2</th>\n",
       "      <td>Akshata</td>\n",
       "      <td>5</td>\n",
       "      <td>9</td>\n",
       "      <td>8</td>\n",
       "      <td>1.0</td>\n",
       "      <td>9</td>\n",
       "      <td>5</td>\n",
       "      <td>7</td>\n",
       "      <td>3</td>\n",
       "      <td>3</td>\n",
       "      <td>1</td>\n",
       "    </tr>\n",
       "    <tr>\n",
       "      <th>3</th>\n",
       "      <td>Amanda H</td>\n",
       "      <td>3</td>\n",
       "      <td>7</td>\n",
       "      <td>6</td>\n",
       "      <td>7.0</td>\n",
       "      <td>5</td>\n",
       "      <td>7</td>\n",
       "      <td>3</td>\n",
       "      <td>5</td>\n",
       "      <td>10</td>\n",
       "      <td>5</td>\n",
       "    </tr>\n",
       "    <tr>\n",
       "      <th>4</th>\n",
       "      <td>Anand</td>\n",
       "      <td>4</td>\n",
       "      <td>3</td>\n",
       "      <td>3</td>\n",
       "      <td>7.0</td>\n",
       "      <td>6</td>\n",
       "      <td>9</td>\n",
       "      <td>5</td>\n",
       "      <td>7</td>\n",
       "      <td>6</td>\n",
       "      <td>5</td>\n",
       "    </tr>\n",
       "  </tbody>\n",
       "</table>\n",
       "</div>"
      ],
      "text/plain": [
       "       Name  Blues  Classical  Country  Electronic  Folk  Hip Hop  Jazz  \\\n",
       "0   Abdul W      5          7        6         6.0     8        9     8   \n",
       "1     Aditi      8          9        8         5.0     9        5     7   \n",
       "2   Akshata      5          9        8         1.0     9        5     7   \n",
       "3  Amanda H      3          7        6         7.0     5        7     3   \n",
       "4     Anand      4          3        3         7.0     6        9     5   \n",
       "\n",
       "   Latin  Pop  Rock  \n",
       "0      4   10     8  \n",
       "1      7    5     6  \n",
       "2      3    3     1  \n",
       "3      5   10     5  \n",
       "4      7    6     5  "
      ]
     },
     "execution_count": 172,
     "metadata": {},
     "output_type": "execute_result"
    }
   ],
   "source": [
    "music.head()"
   ]
  },
  {
   "cell_type": "markdown",
   "metadata": {},
   "source": [
    "## Task\n",
    "Create a feature matrix and a labels matrix from the music dataframe.  Assign them to `X` and `y`, respectively (note the use of uppercase X and lowercase y)."
   ]
  },
  {
   "cell_type": "code",
   "execution_count": 173,
   "metadata": {},
   "outputs": [
    {
     "data": {
      "text/plain": [
       "array([[ 5.,  7.,  6.,  6.,  8.,  9.,  8.,  4., 10.,  8.],\n",
       "       [ 8.,  9.,  8.,  5.,  9.,  5.,  7.,  7.,  5.,  6.],\n",
       "       [ 5.,  9.,  8.,  1.,  9.,  5.,  7.,  3.,  3.,  1.],\n",
       "       [ 3.,  7.,  6.,  7.,  5.,  7.,  3.,  5., 10.,  5.],\n",
       "       [ 4.,  3.,  3.,  7.,  6.,  9.,  5.,  7.,  6.,  5.],\n",
       "       [ 4.,  3.,  6.,  4.,  4.,  8.,  3.,  2., 10.,  8.],\n",
       "       [ 8.,  6.,  9., 10.,  7.,  1.,  4.,  3.,  2.,  5.],\n",
       "       [ 5.,  7.,  4.,  4.,  4.,  8.,  8.,  4.,  7.,  3.],\n",
       "       [ 7.,  5.,  9.,  3.,  6.,  8., 10.,  6.,  9., 10.],\n",
       "       [ 6.,  5.,  8.,  8.,  7., 10.,  5.,  2.,  9.,  8.],\n",
       "       [ 1.,  6.,  1.,  8.,  7., 10.,  6.,  2., 10.,  9.],\n",
       "       [ 7.,  5.,  8.,  4.,  8.,  5.,  6.,  5.,  8.,  5.],\n",
       "       [ 6.,  7.,  5.,  7.,  6.,  6.,  6.,  8.,  9., 10.],\n",
       "       [ 4.,  3.,  5.,  7.,  5.,  8.,  5.,  4.,  6.,  6.],\n",
       "       [ 4.,  5.,  4.,  2.,  7.,  8.,  7.,  9.,  9.,  5.],\n",
       "       [ 5.,  8.,  7.,  7.,  2.,  4.,  6.,  9.,  8.,  8.],\n",
       "       [ 7.,  9.,  8.,  5.,  7.,  6.,  8.,  7.,  7.,  6.],\n",
       "       [ 8.,  7.,  6.,  5.,  6.,  8.,  7.,  9., 10.,  8.],\n",
       "       [ 2.,  5.,  5.,  5.,  3.,  9.,  5.,  8.,  9., 10.],\n",
       "       [ 7.,  6.,  8.,  3.,  5.,  4.,  6.,  8.,  9.,  4.],\n",
       "       [ 5.,  6.,  9.,  8.,  9.,  2.,  5.,  7., 10.,  8.],\n",
       "       [ 1.,  1.,  1.,  1.,  1.,  1.,  1.,  1.,  1.,  1.],\n",
       "       [ 7.,  6.,  4.,  4.,  8.,  4.,  5.,  5.,  9., 10.],\n",
       "       [ 4.,  5.,  6.,  8.,  9.,  8.,  5.,  4., 10., 10.],\n",
       "       [ 2.,  3.,  6.,  8.,  5.,  9.,  8.,  5.,  9.,  9.],\n",
       "       [ 7.,  8.,  7., 10.,  9., 10.,  6.,  6., 10., 10.],\n",
       "       [ 8.,  8.,  7.,  9.,  7., 10.,  8.,  6.,  4.,  7.],\n",
       "       [ 5.,  7.,  2.,  2.,  2.,  3.,  8.,  2.,  6.,  1.],\n",
       "       [ 6.,  7.,  7.,  3.,  5.,  8.,  3.,  3.,  7.,  9.],\n",
       "       [ 7.,  9.,  9.,  5.,  7.,  7.,  7.,  7.,  9.,  6.],\n",
       "       [ 7.,  7.,  6.,  3.,  9.,  9.,  5.,  4.,  7., 10.],\n",
       "       [ 5.,  5.,  5.,  5.,  5.,  5.,  5.,  5.,  5.,  5.],\n",
       "       [ 7., 10.,  5.,  4.,  3.,  8.,  9.,  5.,  9.,  3.],\n",
       "       [ 6.,  7.,  2.,  6.,  6.,  9.,  7.,  6.,  9.,  9.],\n",
       "       [ 4.,  5.,  4.,  3.,  3.,  2.,  6.,  3.,  9.,  7.],\n",
       "       [ 7.,  5.,  8.,  7.,  7.,  6.,  6.,  4., 10.,  9.],\n",
       "       [ 5.,  1.,  1.,  2.,  9.,  6.,  2.,  8.,  6.,  9.],\n",
       "       [ 8.,  9.,  5.,  6.,  6.,  8.,  7.,  9.,  9.,  9.],\n",
       "       [ 5.,  5.,  6.,  7.,  6.,  9.,  3.,  4.,  9.,  4.],\n",
       "       [ 9.,  7.,  7.,  7.,  6.,  8.,  9.,  6.,  8.,  9.],\n",
       "       [ 9.,  7.,  8.,  8.,  3.,  3.,  8.,  5.,  5.,  9.],\n",
       "       [ 6.,  7.,  6.,  8.,  7.,  3.,  8.,  4.,  8.,  9.],\n",
       "       [ 6.,  8.,  5.,  7.,  5.,  8.,  8.,  3.,  8.,  6.],\n",
       "       [ 4.,  8.,  2.,  2.,  1.,  8.,  3.,  3.,  8.,  3.],\n",
       "       [ 7.,  5.,  9.,  7.,  9.,  8.,  8.,  7., 10.,  7.],\n",
       "       [ 5.,  6.,  7.,  7.,  6.,  6.,  6.,  6.,  9.,  6.],\n",
       "       [ 3.,  8.,  3.,  7.,  7.,  9.,  5.,  4.,  8.,  8.],\n",
       "       [ 3.,  5.,  5.,  8.,  5.,  8.,  6.,  5.,  9.,  7.],\n",
       "       [ 7., 10.,  6.,  3.,  4.,  1.,  7.,  3.,  4.,  8.],\n",
       "       [ 5.,  8.,  8.,  7.,  8.,  5.,  6.,  5.,  9.,  7.],\n",
       "       [ 6.,  8.,  2.,  1.,  9.,  9.,  5.,  1.,  9.,  7.],\n",
       "       [ 9.,  9.,  1.,  5.,  5.,  7., 10.,  3.,  8.,  5.],\n",
       "       [ 3.,  9.,  5.,  1.,  7.,  2.,  5.,  3.,  9.,  3.],\n",
       "       [ 9.,  6., 10.,  2.,  4.,  2.,  9.,  5.,  7.,  1.],\n",
       "       [ 5.,  3.,  6.,  6.,  7.,  3.,  4.,  3.,  9.,  5.],\n",
       "       [ 8.,  8.,  5.,  1.,  8.,  9.,  6.,  5.,  8.,  7.],\n",
       "       [ 2.,  5.,  5.,  3.,  5.,  6.,  2.,  2.,  9.,  5.],\n",
       "       [ 3.,  8.,  8.,  9.,  9.,  9.,  9.,  3.,  7.,  4.],\n",
       "       [ 7., 10.,  4.,  3.,  6.,  4., 10.,  4.,  6.,  7.],\n",
       "       [ 6.,  4.,  6.,  6.,  8.,  4.,  6.,  2.,  8.,  9.],\n",
       "       [ 4.,  9.,  9.,  3.,  3.,  2.,  1.,  5.,  8.,  1.],\n",
       "       [10.,  8.,  5.,  3.,  4., 10.,  6.,  1.,  7.,  1.],\n",
       "       [ 5.,  8.,  5.,  7.,  8.,  7.,  8.,  7., 10.,  9.],\n",
       "       [ 5.,  1.,  6.,  9.,  7., 10.,  3.,  2.,  8.,  4.],\n",
       "       [ 7.,  3.,  6.,  8.,  4.,  9.,  6.,  2.,  8., 10.]])"
      ]
     },
     "execution_count": 173,
     "metadata": {},
     "output_type": "execute_result"
    }
   ],
   "source": [
    "X"
   ]
  },
  {
   "cell_type": "code",
   "execution_count": 174,
   "metadata": {},
   "outputs": [
    {
     "data": {
      "text/plain": [
       "Index(['Abdul W', 'Aditi', 'Akshata', 'Amanda H', 'Anand', 'Andrea', 'Apoorva',\n",
       "       'Ayleen', 'Bangzhao S', 'Becky L', 'Bilal', 'Binrui M', 'C Wu',\n",
       "       'Chao F', 'Christine', 'Daniel C', 'Deji S', 'Di Jin', 'Emily S',\n",
       "       'Fangzhe L', 'HG', 'HJ', 'Holden', 'Jessica', 'Jiahang Ren',\n",
       "       'Jinzhao Y', 'Joe D', 'Jungseo Lee', 'JZ', 'Liya L', 'Mike V',\n",
       "       'Mingcan Z', 'MIngzhu H', 'Miranda', 'Mu D', 'Nitanshi ', 'Page',\n",
       "       'Revant', 'Ruolin', 'Ruoyu D', 'SB Ann', 'Shiyu D', 'Skye T',\n",
       "       'Ssuying Chen', 'Stella Chang', 'Tawan', 'Tianchi Fu', 'Vandan P',\n",
       "       'Vasilina F', 'Vic Li', 'Wenjie W', 'WentingG', 'Xin Ye', 'Xinyi L',\n",
       "       'Xinyu Z', 'Xiwei W', 'Xueting Z', 'Yan Xu', 'Yechan Kim', 'Yifan Hu',\n",
       "       'YuantaoB', 'Yuhang Z', 'Zane', 'Zhiang', 'Ella Li'],\n",
       "      dtype='object', name='Name')"
      ]
     },
     "execution_count": 174,
     "metadata": {},
     "output_type": "execute_result"
    }
   ],
   "source": [
    "y"
   ]
  },
  {
   "cell_type": "markdown",
   "metadata": {},
   "source": [
    "## Task\n",
    "\n",
    "Create a pipeline that does the following:\n",
    "\n",
    "1. Fills NA values with 1\n",
    "2. Scales each variable to mean=0 and variance=1\n",
    "3. Uses PCA to reduce the number of dimensions to 5; make sure you set random_state to some constant to allow you to reproduce your results\n",
    "4. Uses the PCA projections (i.e. the transformed X matrix) as input to agglomerative clustering\n",
    "\n",
    "Report the percent variance that is retained in the 5-dimensional PCA.\n",
    "\n",
    "Use the output from the pipeline to create a visualization of the resulting clustering (i.e. create a dendrogram).  Annotate the visulization with a horizontal line that \"cuts\" the tree at a reasonable level and provide a written summary of each cluster's membership.  Save the resulting dendrogram to a PDF file called 'music_clusters.pdf' (hint: use `plt.savefig()`)"
   ]
  },
  {
   "cell_type": "code",
   "execution_count": 179,
   "metadata": {},
   "outputs": [
    {
     "data": {
      "text/plain": [
       "array([[-1.42689395, -0.65449593, -0.78312246, -0.50547043,  0.53640687],\n",
       "       [-1.14354524,  2.18935639,  0.86464434, -0.16955109,  0.77390745],\n",
       "       [ 1.53291155,  2.63808312,  0.48317514, -1.19999728,  1.89742505],\n",
       "       [ 0.52797303, -1.29290394,  0.21461859,  0.81629241,  0.17042766],\n",
       "       [ 0.67931187, -1.50811309,  0.09000295,  0.05160328, -0.87544444],\n",
       "       [ 1.20639202, -2.10849929,  0.17975288,  0.11209422,  0.10117675],\n",
       "       [ 0.71429906,  1.73539611,  3.528527  , -1.76862504, -0.68573864],\n",
       "       [ 1.10176399,  0.65102871, -1.37265218, -0.32634166, -0.61992789],\n",
       "       [-1.86280362,  0.58484213, -0.16543183,  0.45591178, -0.23715347],\n",
       "       [-0.90918467, -1.31162884,  0.63852159, -1.48241925,  0.13155925],\n",
       "       [ 0.11625416, -3.12412026, -1.67120569, -0.91645138, -0.09301649],\n",
       "       [-0.21346863,  0.65981892,  1.05625483,  0.050276  ,  1.00409588],\n",
       "       [-1.41355427, -0.41945208, -0.05808743,  1.22551583, -0.57554905],\n",
       "       [ 1.01667845, -1.31169497,  0.63494536, -0.64774295, -0.97813378],\n",
       "       [-0.07581814, -0.47376769, -1.02728739,  1.77036856,  0.6244668 ],\n",
       "       [-0.42536863,  0.64076833,  0.45866526,  2.23342524, -1.81033408],\n",
       "       [-1.22395213,  1.77205324,  0.13681362,  0.36538945,  0.19528361],\n",
       "       [-1.89529593,  0.34142289, -0.6410867 ,  1.43043305, -0.17244476],\n",
       "       [-0.02977373, -1.95886393, -0.56640985,  1.96258579, -1.17989807],\n",
       "       [-0.01563108,  1.2817389 ,  0.62279992,  1.85539711,  0.24746672],\n",
       "       [-1.49709378, -0.27457111,  2.21358557,  1.20774178,  0.8502586 ],\n",
       "       [ 6.92168637, -0.60186747,  1.09388839, -0.08638889, -0.96376246],\n",
       "       [-0.45074636, -0.31571526,  0.01625219,  0.50664987,  0.90649719],\n",
       "       [-1.30708697, -2.13448813,  0.52424525, -0.41884401,  0.67185865],\n",
       "       [-0.62346855, -2.14972621,  0.06971964,  0.07971837, -1.38544058],\n",
       "       [-3.02754336, -0.93764934,  0.11311399, -0.56319626,  0.21881837],\n",
       "       [-1.63605298,  1.10187466,  0.26153862, -1.58986923, -1.13115631],\n",
       "       [ 3.21888822,  1.67133436, -1.43685085, -0.15622585, -0.84263533],\n",
       "       [ 0.61142005, -0.23883907,  0.11658996, -0.21599565,  0.49824603],\n",
       "       [-1.58613647,  1.26733885,  0.1404077 ,  0.69232193,  0.6124215 ],\n",
       "       [-0.81837916, -0.17961827, -0.26824239, -0.75294879,  1.39497361],\n",
       "       [ 1.43406178,  0.22261688,  0.67256482,  0.00785507, -0.54075332],\n",
       "       [ 0.01297606,  1.7715518 , -2.07431588,  0.27536437, -0.67869093],\n",
       "       [-0.87895134, -0.83589904, -1.68693489,  0.17557759, -0.51234945],\n",
       "       [ 1.84079871, -0.19300851, -0.22507906,  0.99734337, -0.47033831],\n",
       "       [-1.31370754, -0.50569943,  0.93779505, -0.17644931,  0.15039535],\n",
       "       [ 1.13001275, -2.0759549 ,  0.45437028,  1.12906564,  1.05032568],\n",
       "       [-2.06392677,  0.60296063, -0.98858885,  1.1643744 , -0.42792845],\n",
       "       [ 0.50469312, -1.32996724,  0.40355205, -0.33096875,  0.28857204],\n",
       "       [-2.13760457,  0.93138888, -0.23540205, -0.38614379, -0.9262694 ],\n",
       "       [-0.63647981,  2.00992823,  1.24574755, -0.31231006, -2.20922747],\n",
       "       [-0.95372162,  0.40493043,  0.63887854, -0.34135767, -0.4522171 ],\n",
       "       [-0.28200611,  0.3392628 , -0.94380122, -0.9759472 , -0.73727697],\n",
       "       [ 3.02352227, -0.28043096, -1.97578483,  0.59274558, -0.35722858],\n",
       "       [-2.46273115, -0.09691542,  0.80594544,  0.15161831,  0.4960594 ],\n",
       "       [-0.52041311, -0.26754971,  0.59196974,  0.57010976, -0.20802498],\n",
       "       [-0.02651486, -1.46887109, -0.99629147, -0.4728602 ,  0.15985784],\n",
       "       [-0.06775047, -1.60743974, -0.07215383,  0.19360341, -0.89355633],\n",
       "       [ 1.16054727,  2.71112337,  0.17943093, -0.17695823, -0.47061946],\n",
       "       [-1.0412461 ,  0.16312607,  0.82327769,  0.16337325,  0.70609646],\n",
       "       [ 0.64692524, -0.54610608, -2.09712548, -1.17459557,  2.28693788],\n",
       "       [-0.07840049,  1.54621694, -2.58758092, -1.13818035, -0.72796832],\n",
       "       [ 1.91560462,  0.811668  , -0.42958063,  0.86047383,  2.03532601],\n",
       "       [ 0.70499509,  3.41017778,  0.98927679,  0.51136165, -0.14046557],\n",
       "       [ 1.03744748, -0.89654356,  1.50465195, -0.02322403,  0.59786088],\n",
       "       [-0.47518185,  0.75005747, -1.30713406, -0.11793035,  1.53387053],\n",
       "       [ 2.38712089, -1.62686673,  0.12589026,  0.3749301 ,  0.99380826],\n",
       "       [-0.99969089,  0.02753459,  0.25489493, -1.80597924,  0.27122117],\n",
       "       [-0.01471103,  2.32498169, -1.36731818, -0.36733423, -0.10503857],\n",
       "       [-0.06964108, -0.60004247,  1.05344933, -0.91431775,  0.443059  ],\n",
       "       [ 2.47573071,  1.24607998,  1.35501226,  1.80743401,  0.86180064],\n",
       "       [ 1.25518794,  1.729753  , -1.51387607, -1.85569608,  0.16312899],\n",
       "       [-1.95512154, -0.40897965, -0.68315987,  0.6418985 ,  0.15166198],\n",
       "       [ 0.73510139, -2.45144221,  1.33921494, -1.73032994, -0.09022224],\n",
       "       [-0.35270609, -1.35068354,  0.3405187 , -1.33220298, -1.5264613 ]])"
      ]
     },
     "execution_count": 179,
     "metadata": {},
     "output_type": "execute_result"
    }
   ],
   "source": [
    "from sklearn.pipeline import Pipeline\n",
    "from sklearn.preprocessing import StandardScaler \n",
    "from sklearn.decomposition import PCA\n",
    "from sklearn.impute import SimpleImputer # fill NA \n",
    "\n",
    "\n",
    "pipe = Pipeline([\n",
    "    ('impute', SimpleImputer(strategy='constant', fill_value=1)), # fill NA, default will fill with mean\n",
    "    ('scale', StandardScaler()), # Scales each variable to mean=0 and variance=1\n",
    "    ('pca', PCA(n_components=5, random_state=42)), # can change to use MDS or TSNE\n",
    "])\n",
    "\n",
    "pipe.fit_transform(X) # get scaled impted reduced 5 dimention data"
   ]
  },
  {
   "cell_type": "code",
   "execution_count": 180,
   "metadata": {},
   "outputs": [],
   "source": [
    "# can even build a loop to get results for different n_components\n",
    "results = []\n",
    "for n in [2,3,4,5,6]:\n",
    "    pipe.set_params(pca__n_components=n)\n",
    "    results.append(pipe.fit_transform(X))"
   ]
  },
  {
   "cell_type": "code",
   "execution_count": 181,
   "metadata": {},
   "outputs": [
    {
     "data": {
      "text/plain": [
       "array([0.25060644, 0.19879948, 0.11844018, 0.09297722, 0.07888218,\n",
       "       0.07342802])"
      ]
     },
     "execution_count": 181,
     "metadata": {},
     "output_type": "execute_result"
    }
   ],
   "source": [
    "# Report the percent variance that is retained in the 5-dimensional PCA.\n",
    "\n",
    "pipe.named_steps.pca.explained_variance_ratio_"
   ]
  },
  {
   "cell_type": "code",
   "execution_count": 119,
   "metadata": {},
   "outputs": [
    {
     "name": "stdout",
     "output_type": "stream",
     "text": [
      "Requirement already satisfied: plotly in c:\\programdata\\anaconda3\\lib\\site-packages (5.6.0)\n",
      "Requirement already satisfied: tenacity>=6.2.0 in c:\\programdata\\anaconda3\\lib\\site-packages (from plotly) (8.0.1)\n",
      "Requirement already satisfied: six in c:\\programdata\\anaconda3\\lib\\site-packages (from plotly) (1.16.0)\n"
     ]
    }
   ],
   "source": [
    "! pip install plotly"
   ]
  },
  {
   "cell_type": "code",
   "execution_count": 182,
   "metadata": {},
   "outputs": [
    {
     "data": {
      "application/vnd.plotly.v1+json": {
       "config": {
        "plotlyServerURL": "https://plot.ly"
       },
       "data": [
        {
         "hoverinfo": "text",
         "marker": {
          "color": "rgb(61,153,112)"
         },
         "mode": "lines",
         "type": "scatter",
         "x": [
          25,
          25,
          35,
          35
         ],
         "xaxis": "x",
         "y": [
          0,
          4.795831523312719,
          4.795831523312719,
          0
         ],
         "yaxis": "y"
        },
        {
         "hoverinfo": "text",
         "marker": {
          "color": "rgb(61,153,112)"
         },
         "mode": "lines",
         "type": "scatter",
         "x": [
          45,
          45,
          55,
          55
         ],
         "xaxis": "x",
         "y": [
          0,
          4.795831523312719,
          4.795831523312719,
          0
         ],
         "yaxis": "y"
        },
        {
         "hoverinfo": "text",
         "marker": {
          "color": "rgb(61,153,112)"
         },
         "mode": "lines",
         "type": "scatter",
         "x": [
          30,
          30,
          50,
          50
         ],
         "xaxis": "x",
         "y": [
          4.795831523312719,
          5.744562646538029,
          5.744562646538029,
          4.795831523312719
         ],
         "yaxis": "y"
        },
        {
         "hoverinfo": "text",
         "marker": {
          "color": "rgb(61,153,112)"
         },
         "mode": "lines",
         "type": "scatter",
         "x": [
          75,
          75,
          85,
          85
         ],
         "xaxis": "x",
         "y": [
          0,
          5,
          5,
          0
         ],
         "yaxis": "y"
        },
        {
         "hoverinfo": "text",
         "marker": {
          "color": "rgb(61,153,112)"
         },
         "mode": "lines",
         "type": "scatter",
         "x": [
          65,
          65,
          80,
          80
         ],
         "xaxis": "x",
         "y": [
          0,
          6.4031242374328485,
          6.4031242374328485,
          5
         ],
         "yaxis": "y"
        },
        {
         "hoverinfo": "text",
         "marker": {
          "color": "rgb(61,153,112)"
         },
         "mode": "lines",
         "type": "scatter",
         "x": [
          40,
          40,
          72.5,
          72.5
         ],
         "xaxis": "x",
         "y": [
          5.744562646538029,
          8.18535277187245,
          8.18535277187245,
          6.4031242374328485
         ],
         "yaxis": "y"
        },
        {
         "hoverinfo": "text",
         "marker": {
          "color": "rgb(61,153,112)"
         },
         "mode": "lines",
         "type": "scatter",
         "x": [
          15,
          15,
          56.25,
          56.25
         ],
         "xaxis": "x",
         "y": [
          0,
          8.717797887081348,
          8.717797887081348,
          8.18535277187245
         ],
         "yaxis": "y"
        },
        {
         "hoverinfo": "text",
         "marker": {
          "color": "rgb(61,153,112)"
         },
         "mode": "lines",
         "type": "scatter",
         "x": [
          115,
          115,
          125,
          125
         ],
         "xaxis": "x",
         "y": [
          0,
          3.872983346207417,
          3.872983346207417,
          0
         ],
         "yaxis": "y"
        },
        {
         "hoverinfo": "text",
         "marker": {
          "color": "rgb(61,153,112)"
         },
         "mode": "lines",
         "type": "scatter",
         "x": [
          105,
          105,
          120,
          120
         ],
         "xaxis": "x",
         "y": [
          0,
          6.082762530298219,
          6.082762530298219,
          3.872983346207417
         ],
         "yaxis": "y"
        },
        {
         "hoverinfo": "text",
         "marker": {
          "color": "rgb(61,153,112)"
         },
         "mode": "lines",
         "type": "scatter",
         "x": [
          95,
          95,
          112.5,
          112.5
         ],
         "xaxis": "x",
         "y": [
          0,
          9.1104335791443,
          9.1104335791443,
          6.082762530298219
         ],
         "yaxis": "y"
        },
        {
         "hoverinfo": "text",
         "marker": {
          "color": "rgb(61,153,112)"
         },
         "mode": "lines",
         "type": "scatter",
         "x": [
          35.625,
          35.625,
          103.75,
          103.75
         ],
         "xaxis": "x",
         "y": [
          8.717797887081348,
          10.295630140987,
          10.295630140987,
          9.1104335791443
         ],
         "yaxis": "y"
        },
        {
         "hoverinfo": "text",
         "marker": {
          "color": "rgb(61,153,112)"
         },
         "mode": "lines",
         "type": "scatter",
         "x": [
          135,
          135,
          145,
          145
         ],
         "xaxis": "x",
         "y": [
          0,
          4,
          4,
          0
         ],
         "yaxis": "y"
        },
        {
         "hoverinfo": "text",
         "marker": {
          "color": "rgb(61,153,112)"
         },
         "mode": "lines",
         "type": "scatter",
         "x": [
          155,
          155,
          165,
          165
         ],
         "xaxis": "x",
         "y": [
          0,
          5.0990195135927845,
          5.0990195135927845,
          0
         ],
         "yaxis": "y"
        },
        {
         "hoverinfo": "text",
         "marker": {
          "color": "rgb(61,153,112)"
         },
         "mode": "lines",
         "type": "scatter",
         "x": [
          140,
          140,
          160,
          160
         ],
         "xaxis": "x",
         "y": [
          4,
          6.782329983125268,
          6.782329983125268,
          5.0990195135927845
         ],
         "yaxis": "y"
        },
        {
         "hoverinfo": "text",
         "marker": {
          "color": "rgb(61,153,112)"
         },
         "mode": "lines",
         "type": "scatter",
         "x": [
          185,
          185,
          195,
          195
         ],
         "xaxis": "x",
         "y": [
          0,
          4,
          4,
          0
         ],
         "yaxis": "y"
        },
        {
         "hoverinfo": "text",
         "marker": {
          "color": "rgb(61,153,112)"
         },
         "mode": "lines",
         "type": "scatter",
         "x": [
          175,
          175,
          190,
          190
         ],
         "xaxis": "x",
         "y": [
          0,
          7.3484692283495345,
          7.3484692283495345,
          4
         ],
         "yaxis": "y"
        },
        {
         "hoverinfo": "text",
         "marker": {
          "color": "rgb(61,153,112)"
         },
         "mode": "lines",
         "type": "scatter",
         "x": [
          150,
          150,
          182.5,
          182.5
         ],
         "xaxis": "x",
         "y": [
          6.782329983125268,
          9.219544457292887,
          9.219544457292887,
          7.3484692283495345
         ],
         "yaxis": "y"
        },
        {
         "hoverinfo": "text",
         "marker": {
          "color": "rgb(61,153,112)"
         },
         "mode": "lines",
         "type": "scatter",
         "x": [
          225,
          225,
          235,
          235
         ],
         "xaxis": "x",
         "y": [
          0,
          4.47213595499958,
          4.47213595499958,
          0
         ],
         "yaxis": "y"
        },
        {
         "hoverinfo": "text",
         "marker": {
          "color": "rgb(61,153,112)"
         },
         "mode": "lines",
         "type": "scatter",
         "x": [
          215,
          215,
          230,
          230
         ],
         "xaxis": "x",
         "y": [
          0,
          6.4031242374328485,
          6.4031242374328485,
          4.47213595499958
         ],
         "yaxis": "y"
        },
        {
         "hoverinfo": "text",
         "marker": {
          "color": "rgb(61,153,112)"
         },
         "mode": "lines",
         "type": "scatter",
         "x": [
          205,
          205,
          222.5,
          222.5
         ],
         "xaxis": "x",
         "y": [
          0,
          7.937253933193772,
          7.937253933193772,
          6.4031242374328485
         ],
         "yaxis": "y"
        },
        {
         "hoverinfo": "text",
         "marker": {
          "color": "rgb(61,153,112)"
         },
         "mode": "lines",
         "type": "scatter",
         "x": [
          245,
          245,
          255,
          255
         ],
         "xaxis": "x",
         "y": [
          0,
          9.219544457292887,
          9.219544457292887,
          0
         ],
         "yaxis": "y"
        },
        {
         "hoverinfo": "text",
         "marker": {
          "color": "rgb(61,153,112)"
         },
         "mode": "lines",
         "type": "scatter",
         "x": [
          213.75,
          213.75,
          250,
          250
         ],
         "xaxis": "x",
         "y": [
          7.937253933193772,
          11.489125293076057,
          11.489125293076057,
          9.219544457292887
         ],
         "yaxis": "y"
        },
        {
         "hoverinfo": "text",
         "marker": {
          "color": "rgb(61,153,112)"
         },
         "mode": "lines",
         "type": "scatter",
         "x": [
          166.25,
          166.25,
          231.875,
          231.875
         ],
         "xaxis": "x",
         "y": [
          9.219544457292887,
          12.649110640673518,
          12.649110640673518,
          11.489125293076057
         ],
         "yaxis": "y"
        },
        {
         "hoverinfo": "text",
         "marker": {
          "color": "rgb(61,153,112)"
         },
         "mode": "lines",
         "type": "scatter",
         "x": [
          69.6875,
          69.6875,
          199.0625,
          199.0625
         ],
         "xaxis": "x",
         "y": [
          10.295630140987,
          14.352700094407323,
          14.352700094407323,
          12.649110640673518
         ],
         "yaxis": "y"
        },
        {
         "hoverinfo": "text",
         "marker": {
          "color": "rgb(255,65,54)"
         },
         "mode": "lines",
         "type": "scatter",
         "x": [
          265,
          265,
          275,
          275
         ],
         "xaxis": "x",
         "y": [
          0,
          7.874007874011811,
          7.874007874011811,
          0
         ],
         "yaxis": "y"
        },
        {
         "hoverinfo": "text",
         "marker": {
          "color": "rgb(255,65,54)"
         },
         "mode": "lines",
         "type": "scatter",
         "x": [
          305,
          305,
          315,
          315
         ],
         "xaxis": "x",
         "y": [
          0,
          4.58257569495584,
          4.58257569495584,
          0
         ],
         "yaxis": "y"
        },
        {
         "hoverinfo": "text",
         "marker": {
          "color": "rgb(255,65,54)"
         },
         "mode": "lines",
         "type": "scatter",
         "x": [
          295,
          295,
          310,
          310
         ],
         "xaxis": "x",
         "y": [
          0,
          6.48074069840786,
          6.48074069840786,
          4.58257569495584
         ],
         "yaxis": "y"
        },
        {
         "hoverinfo": "text",
         "marker": {
          "color": "rgb(255,65,54)"
         },
         "mode": "lines",
         "type": "scatter",
         "x": [
          285,
          285,
          302.5,
          302.5
         ],
         "xaxis": "x",
         "y": [
          0,
          8.306623862918075,
          8.306623862918075,
          6.48074069840786
         ],
         "yaxis": "y"
        },
        {
         "hoverinfo": "text",
         "marker": {
          "color": "rgb(255,65,54)"
         },
         "mode": "lines",
         "type": "scatter",
         "x": [
          270,
          270,
          293.75,
          293.75
         ],
         "xaxis": "x",
         "y": [
          7.874007874011811,
          10.295630140987,
          10.295630140987,
          8.306623862918075
         ],
         "yaxis": "y"
        },
        {
         "hoverinfo": "text",
         "marker": {
          "color": "rgb(255,65,54)"
         },
         "mode": "lines",
         "type": "scatter",
         "x": [
          325,
          325,
          335,
          335
         ],
         "xaxis": "x",
         "y": [
          0,
          7.681145747868608,
          7.681145747868608,
          0
         ],
         "yaxis": "y"
        },
        {
         "hoverinfo": "text",
         "marker": {
          "color": "rgb(255,65,54)"
         },
         "mode": "lines",
         "type": "scatter",
         "x": [
          355,
          355,
          365,
          365
         ],
         "xaxis": "x",
         "y": [
          0,
          3.7416573867739413,
          3.7416573867739413,
          0
         ],
         "yaxis": "y"
        },
        {
         "hoverinfo": "text",
         "marker": {
          "color": "rgb(255,65,54)"
         },
         "mode": "lines",
         "type": "scatter",
         "x": [
          385,
          385,
          395,
          395
         ],
         "xaxis": "x",
         "y": [
          0,
          2.8284271247461903,
          2.8284271247461903,
          0
         ],
         "yaxis": "y"
        },
        {
         "hoverinfo": "text",
         "marker": {
          "color": "rgb(255,65,54)"
         },
         "mode": "lines",
         "type": "scatter",
         "x": [
          375,
          375,
          390,
          390
         ],
         "xaxis": "x",
         "y": [
          0,
          4.898979485566356,
          4.898979485566356,
          2.8284271247461903
         ],
         "yaxis": "y"
        },
        {
         "hoverinfo": "text",
         "marker": {
          "color": "rgb(255,65,54)"
         },
         "mode": "lines",
         "type": "scatter",
         "x": [
          360,
          360,
          382.5,
          382.5
         ],
         "xaxis": "x",
         "y": [
          3.7416573867739413,
          5.656854249492381,
          5.656854249492381,
          4.898979485566356
         ],
         "yaxis": "y"
        },
        {
         "hoverinfo": "text",
         "marker": {
          "color": "rgb(255,65,54)"
         },
         "mode": "lines",
         "type": "scatter",
         "x": [
          345,
          345,
          371.25,
          371.25
         ],
         "xaxis": "x",
         "y": [
          0,
          7.810249675906654,
          7.810249675906654,
          5.656854249492381
         ],
         "yaxis": "y"
        },
        {
         "hoverinfo": "text",
         "marker": {
          "color": "rgb(255,65,54)"
         },
         "mode": "lines",
         "type": "scatter",
         "x": [
          425,
          425,
          435,
          435
         ],
         "xaxis": "x",
         "y": [
          0,
          3.4641016151377544,
          3.4641016151377544,
          0
         ],
         "yaxis": "y"
        },
        {
         "hoverinfo": "text",
         "marker": {
          "color": "rgb(255,65,54)"
         },
         "mode": "lines",
         "type": "scatter",
         "x": [
          415,
          415,
          430,
          430
         ],
         "xaxis": "x",
         "y": [
          0,
          5.744562646538029,
          5.744562646538029,
          3.4641016151377544
         ],
         "yaxis": "y"
        },
        {
         "hoverinfo": "text",
         "marker": {
          "color": "rgb(255,65,54)"
         },
         "mode": "lines",
         "type": "scatter",
         "x": [
          405,
          405,
          422.5,
          422.5
         ],
         "xaxis": "x",
         "y": [
          0,
          7.211102550927978,
          7.211102550927978,
          5.744562646538029
         ],
         "yaxis": "y"
        },
        {
         "hoverinfo": "text",
         "marker": {
          "color": "rgb(255,65,54)"
         },
         "mode": "lines",
         "type": "scatter",
         "x": [
          445,
          445,
          455,
          455
         ],
         "xaxis": "x",
         "y": [
          0,
          4.795831523312719,
          4.795831523312719,
          0
         ],
         "yaxis": "y"
        },
        {
         "hoverinfo": "text",
         "marker": {
          "color": "rgb(255,65,54)"
         },
         "mode": "lines",
         "type": "scatter",
         "x": [
          475,
          475,
          485,
          485
         ],
         "xaxis": "x",
         "y": [
          0,
          2.6457513110645907,
          2.6457513110645907,
          0
         ],
         "yaxis": "y"
        },
        {
         "hoverinfo": "text",
         "marker": {
          "color": "rgb(255,65,54)"
         },
         "mode": "lines",
         "type": "scatter",
         "x": [
          465,
          465,
          480,
          480
         ],
         "xaxis": "x",
         "y": [
          0,
          5.0990195135927845,
          5.0990195135927845,
          2.6457513110645907
         ],
         "yaxis": "y"
        },
        {
         "hoverinfo": "text",
         "marker": {
          "color": "rgb(255,65,54)"
         },
         "mode": "lines",
         "type": "scatter",
         "x": [
          450,
          450,
          472.5,
          472.5
         ],
         "xaxis": "x",
         "y": [
          4.795831523312719,
          7.280109889280518,
          7.280109889280518,
          5.0990195135927845
         ],
         "yaxis": "y"
        },
        {
         "hoverinfo": "text",
         "marker": {
          "color": "rgb(255,65,54)"
         },
         "mode": "lines",
         "type": "scatter",
         "x": [
          413.75,
          413.75,
          461.25,
          461.25
         ],
         "xaxis": "x",
         "y": [
          7.211102550927978,
          8.366600265340756,
          8.366600265340756,
          7.280109889280518
         ],
         "yaxis": "y"
        },
        {
         "hoverinfo": "text",
         "marker": {
          "color": "rgb(255,65,54)"
         },
         "mode": "lines",
         "type": "scatter",
         "x": [
          358.125,
          358.125,
          437.5,
          437.5
         ],
         "xaxis": "x",
         "y": [
          7.810249675906654,
          10.295630140987,
          10.295630140987,
          8.366600265340756
         ],
         "yaxis": "y"
        },
        {
         "hoverinfo": "text",
         "marker": {
          "color": "rgb(255,65,54)"
         },
         "mode": "lines",
         "type": "scatter",
         "x": [
          330,
          330,
          397.8125,
          397.8125
         ],
         "xaxis": "x",
         "y": [
          7.681145747868608,
          11.61895003862225,
          11.61895003862225,
          10.295630140987
         ],
         "yaxis": "y"
        },
        {
         "hoverinfo": "text",
         "marker": {
          "color": "rgb(255,65,54)"
         },
         "mode": "lines",
         "type": "scatter",
         "x": [
          495,
          495,
          505,
          505
         ],
         "xaxis": "x",
         "y": [
          0,
          7.874007874011811,
          7.874007874011811,
          0
         ],
         "yaxis": "y"
        },
        {
         "hoverinfo": "text",
         "marker": {
          "color": "rgb(255,65,54)"
         },
         "mode": "lines",
         "type": "scatter",
         "x": [
          515,
          515,
          525,
          525
         ],
         "xaxis": "x",
         "y": [
          0,
          9.38083151964686,
          9.38083151964686,
          0
         ],
         "yaxis": "y"
        },
        {
         "hoverinfo": "text",
         "marker": {
          "color": "rgb(255,65,54)"
         },
         "mode": "lines",
         "type": "scatter",
         "x": [
          500,
          500,
          520,
          520
         ],
         "xaxis": "x",
         "y": [
          7.874007874011811,
          10.770329614269007,
          10.770329614269007,
          9.38083151964686
         ],
         "yaxis": "y"
        },
        {
         "hoverinfo": "text",
         "marker": {
          "color": "rgb(255,65,54)"
         },
         "mode": "lines",
         "type": "scatter",
         "x": [
          565,
          565,
          575,
          575
         ],
         "xaxis": "x",
         "y": [
          0,
          4.47213595499958,
          4.47213595499958,
          0
         ],
         "yaxis": "y"
        },
        {
         "hoverinfo": "text",
         "marker": {
          "color": "rgb(255,65,54)"
         },
         "mode": "lines",
         "type": "scatter",
         "x": [
          555,
          555,
          570,
          570
         ],
         "xaxis": "x",
         "y": [
          0,
          5.196152422706632,
          5.196152422706632,
          4.47213595499958
         ],
         "yaxis": "y"
        },
        {
         "hoverinfo": "text",
         "marker": {
          "color": "rgb(255,65,54)"
         },
         "mode": "lines",
         "type": "scatter",
         "x": [
          545,
          545,
          562.5,
          562.5
         ],
         "xaxis": "x",
         "y": [
          0,
          6,
          6,
          5.196152422706632
         ],
         "yaxis": "y"
        },
        {
         "hoverinfo": "text",
         "marker": {
          "color": "rgb(255,65,54)"
         },
         "mode": "lines",
         "type": "scatter",
         "x": [
          595,
          595,
          605,
          605
         ],
         "xaxis": "x",
         "y": [
          0,
          5.916079783099616,
          5.916079783099616,
          0
         ],
         "yaxis": "y"
        },
        {
         "hoverinfo": "text",
         "marker": {
          "color": "rgb(255,65,54)"
         },
         "mode": "lines",
         "type": "scatter",
         "x": [
          585,
          585,
          600,
          600
         ],
         "xaxis": "x",
         "y": [
          0,
          6.6332495807108,
          6.6332495807108,
          5.916079783099616
         ],
         "yaxis": "y"
        },
        {
         "hoverinfo": "text",
         "marker": {
          "color": "rgb(255,65,54)"
         },
         "mode": "lines",
         "type": "scatter",
         "x": [
          553.75,
          553.75,
          592.5,
          592.5
         ],
         "xaxis": "x",
         "y": [
          6,
          8.888194417315589,
          8.888194417315589,
          6.6332495807108
         ],
         "yaxis": "y"
        },
        {
         "hoverinfo": "text",
         "marker": {
          "color": "rgb(255,65,54)"
         },
         "mode": "lines",
         "type": "scatter",
         "x": [
          615,
          615,
          625,
          625
         ],
         "xaxis": "x",
         "y": [
          0,
          5.656854249492381,
          5.656854249492381,
          0
         ],
         "yaxis": "y"
        },
        {
         "hoverinfo": "text",
         "marker": {
          "color": "rgb(255,65,54)"
         },
         "mode": "lines",
         "type": "scatter",
         "x": [
          635,
          635,
          645,
          645
         ],
         "xaxis": "x",
         "y": [
          0,
          7.14142842854285,
          7.14142842854285,
          0
         ],
         "yaxis": "y"
        },
        {
         "hoverinfo": "text",
         "marker": {
          "color": "rgb(255,65,54)"
         },
         "mode": "lines",
         "type": "scatter",
         "x": [
          620,
          620,
          640,
          640
         ],
         "xaxis": "x",
         "y": [
          5.656854249492381,
          9.746794344808963,
          9.746794344808963,
          7.14142842854285
         ],
         "yaxis": "y"
        },
        {
         "hoverinfo": "text",
         "marker": {
          "color": "rgb(255,65,54)"
         },
         "mode": "lines",
         "type": "scatter",
         "x": [
          573.125,
          573.125,
          630,
          630
         ],
         "xaxis": "x",
         "y": [
          8.888194417315589,
          10.862780491200215,
          10.862780491200215,
          9.746794344808963
         ],
         "yaxis": "y"
        },
        {
         "hoverinfo": "text",
         "marker": {
          "color": "rgb(255,65,54)"
         },
         "mode": "lines",
         "type": "scatter",
         "x": [
          535,
          535,
          601.5625,
          601.5625
         ],
         "xaxis": "x",
         "y": [
          0,
          12.84523257866513,
          12.84523257866513,
          10.862780491200215
         ],
         "yaxis": "y"
        },
        {
         "hoverinfo": "text",
         "marker": {
          "color": "rgb(255,65,54)"
         },
         "mode": "lines",
         "type": "scatter",
         "x": [
          510,
          510,
          568.28125,
          568.28125
         ],
         "xaxis": "x",
         "y": [
          10.770329614269007,
          14.106735979665885,
          14.106735979665885,
          12.84523257866513
         ],
         "yaxis": "y"
        },
        {
         "hoverinfo": "text",
         "marker": {
          "color": "rgb(255,65,54)"
         },
         "mode": "lines",
         "type": "scatter",
         "x": [
          363.90625,
          363.90625,
          539.140625,
          539.140625
         ],
         "xaxis": "x",
         "y": [
          11.61895003862225,
          15.459624833740307,
          15.459624833740307,
          14.106735979665885
         ],
         "yaxis": "y"
        },
        {
         "hoverinfo": "text",
         "marker": {
          "color": "rgb(255,65,54)"
         },
         "mode": "lines",
         "type": "scatter",
         "x": [
          281.875,
          281.875,
          451.5234375,
          451.5234375
         ],
         "xaxis": "x",
         "y": [
          10.295630140987,
          16.09347693943108,
          16.09347693943108,
          15.459624833740307
         ],
         "yaxis": "y"
        },
        {
         "hoverinfo": "text",
         "marker": {
          "color": "rgb(0,116,217)"
         },
         "mode": "lines",
         "type": "scatter",
         "x": [
          134.375,
          134.375,
          366.69921875,
          366.69921875
         ],
         "xaxis": "x",
         "y": [
          14.352700094407323,
          18.57417562100671,
          18.57417562100671,
          16.09347693943108
         ],
         "yaxis": "y"
        },
        {
         "hoverinfo": "text",
         "marker": {
          "color": "rgb(0,116,217)"
         },
         "mode": "lines",
         "type": "scatter",
         "x": [
          5,
          5,
          250.537109375,
          250.537109375
         ],
         "xaxis": "x",
         "y": [
          0,
          23.643180835073778,
          23.643180835073778,
          18.57417562100671
         ],
         "yaxis": "y"
        }
       ],
       "layout": {
        "autosize": false,
        "height": 500,
        "hovermode": "closest",
        "showlegend": false,
        "template": {
         "data": {
          "bar": [
           {
            "error_x": {
             "color": "#2a3f5f"
            },
            "error_y": {
             "color": "#2a3f5f"
            },
            "marker": {
             "line": {
              "color": "#E5ECF6",
              "width": 0.5
             },
             "pattern": {
              "fillmode": "overlay",
              "size": 10,
              "solidity": 0.2
             }
            },
            "type": "bar"
           }
          ],
          "barpolar": [
           {
            "marker": {
             "line": {
              "color": "#E5ECF6",
              "width": 0.5
             },
             "pattern": {
              "fillmode": "overlay",
              "size": 10,
              "solidity": 0.2
             }
            },
            "type": "barpolar"
           }
          ],
          "carpet": [
           {
            "aaxis": {
             "endlinecolor": "#2a3f5f",
             "gridcolor": "white",
             "linecolor": "white",
             "minorgridcolor": "white",
             "startlinecolor": "#2a3f5f"
            },
            "baxis": {
             "endlinecolor": "#2a3f5f",
             "gridcolor": "white",
             "linecolor": "white",
             "minorgridcolor": "white",
             "startlinecolor": "#2a3f5f"
            },
            "type": "carpet"
           }
          ],
          "choropleth": [
           {
            "colorbar": {
             "outlinewidth": 0,
             "ticks": ""
            },
            "type": "choropleth"
           }
          ],
          "contour": [
           {
            "colorbar": {
             "outlinewidth": 0,
             "ticks": ""
            },
            "colorscale": [
             [
              0,
              "#0d0887"
             ],
             [
              0.1111111111111111,
              "#46039f"
             ],
             [
              0.2222222222222222,
              "#7201a8"
             ],
             [
              0.3333333333333333,
              "#9c179e"
             ],
             [
              0.4444444444444444,
              "#bd3786"
             ],
             [
              0.5555555555555556,
              "#d8576b"
             ],
             [
              0.6666666666666666,
              "#ed7953"
             ],
             [
              0.7777777777777778,
              "#fb9f3a"
             ],
             [
              0.8888888888888888,
              "#fdca26"
             ],
             [
              1,
              "#f0f921"
             ]
            ],
            "type": "contour"
           }
          ],
          "contourcarpet": [
           {
            "colorbar": {
             "outlinewidth": 0,
             "ticks": ""
            },
            "type": "contourcarpet"
           }
          ],
          "heatmap": [
           {
            "colorbar": {
             "outlinewidth": 0,
             "ticks": ""
            },
            "colorscale": [
             [
              0,
              "#0d0887"
             ],
             [
              0.1111111111111111,
              "#46039f"
             ],
             [
              0.2222222222222222,
              "#7201a8"
             ],
             [
              0.3333333333333333,
              "#9c179e"
             ],
             [
              0.4444444444444444,
              "#bd3786"
             ],
             [
              0.5555555555555556,
              "#d8576b"
             ],
             [
              0.6666666666666666,
              "#ed7953"
             ],
             [
              0.7777777777777778,
              "#fb9f3a"
             ],
             [
              0.8888888888888888,
              "#fdca26"
             ],
             [
              1,
              "#f0f921"
             ]
            ],
            "type": "heatmap"
           }
          ],
          "heatmapgl": [
           {
            "colorbar": {
             "outlinewidth": 0,
             "ticks": ""
            },
            "colorscale": [
             [
              0,
              "#0d0887"
             ],
             [
              0.1111111111111111,
              "#46039f"
             ],
             [
              0.2222222222222222,
              "#7201a8"
             ],
             [
              0.3333333333333333,
              "#9c179e"
             ],
             [
              0.4444444444444444,
              "#bd3786"
             ],
             [
              0.5555555555555556,
              "#d8576b"
             ],
             [
              0.6666666666666666,
              "#ed7953"
             ],
             [
              0.7777777777777778,
              "#fb9f3a"
             ],
             [
              0.8888888888888888,
              "#fdca26"
             ],
             [
              1,
              "#f0f921"
             ]
            ],
            "type": "heatmapgl"
           }
          ],
          "histogram": [
           {
            "marker": {
             "pattern": {
              "fillmode": "overlay",
              "size": 10,
              "solidity": 0.2
             }
            },
            "type": "histogram"
           }
          ],
          "histogram2d": [
           {
            "colorbar": {
             "outlinewidth": 0,
             "ticks": ""
            },
            "colorscale": [
             [
              0,
              "#0d0887"
             ],
             [
              0.1111111111111111,
              "#46039f"
             ],
             [
              0.2222222222222222,
              "#7201a8"
             ],
             [
              0.3333333333333333,
              "#9c179e"
             ],
             [
              0.4444444444444444,
              "#bd3786"
             ],
             [
              0.5555555555555556,
              "#d8576b"
             ],
             [
              0.6666666666666666,
              "#ed7953"
             ],
             [
              0.7777777777777778,
              "#fb9f3a"
             ],
             [
              0.8888888888888888,
              "#fdca26"
             ],
             [
              1,
              "#f0f921"
             ]
            ],
            "type": "histogram2d"
           }
          ],
          "histogram2dcontour": [
           {
            "colorbar": {
             "outlinewidth": 0,
             "ticks": ""
            },
            "colorscale": [
             [
              0,
              "#0d0887"
             ],
             [
              0.1111111111111111,
              "#46039f"
             ],
             [
              0.2222222222222222,
              "#7201a8"
             ],
             [
              0.3333333333333333,
              "#9c179e"
             ],
             [
              0.4444444444444444,
              "#bd3786"
             ],
             [
              0.5555555555555556,
              "#d8576b"
             ],
             [
              0.6666666666666666,
              "#ed7953"
             ],
             [
              0.7777777777777778,
              "#fb9f3a"
             ],
             [
              0.8888888888888888,
              "#fdca26"
             ],
             [
              1,
              "#f0f921"
             ]
            ],
            "type": "histogram2dcontour"
           }
          ],
          "mesh3d": [
           {
            "colorbar": {
             "outlinewidth": 0,
             "ticks": ""
            },
            "type": "mesh3d"
           }
          ],
          "parcoords": [
           {
            "line": {
             "colorbar": {
              "outlinewidth": 0,
              "ticks": ""
             }
            },
            "type": "parcoords"
           }
          ],
          "pie": [
           {
            "automargin": true,
            "type": "pie"
           }
          ],
          "scatter": [
           {
            "marker": {
             "colorbar": {
              "outlinewidth": 0,
              "ticks": ""
             }
            },
            "type": "scatter"
           }
          ],
          "scatter3d": [
           {
            "line": {
             "colorbar": {
              "outlinewidth": 0,
              "ticks": ""
             }
            },
            "marker": {
             "colorbar": {
              "outlinewidth": 0,
              "ticks": ""
             }
            },
            "type": "scatter3d"
           }
          ],
          "scattercarpet": [
           {
            "marker": {
             "colorbar": {
              "outlinewidth": 0,
              "ticks": ""
             }
            },
            "type": "scattercarpet"
           }
          ],
          "scattergeo": [
           {
            "marker": {
             "colorbar": {
              "outlinewidth": 0,
              "ticks": ""
             }
            },
            "type": "scattergeo"
           }
          ],
          "scattergl": [
           {
            "marker": {
             "colorbar": {
              "outlinewidth": 0,
              "ticks": ""
             }
            },
            "type": "scattergl"
           }
          ],
          "scattermapbox": [
           {
            "marker": {
             "colorbar": {
              "outlinewidth": 0,
              "ticks": ""
             }
            },
            "type": "scattermapbox"
           }
          ],
          "scatterpolar": [
           {
            "marker": {
             "colorbar": {
              "outlinewidth": 0,
              "ticks": ""
             }
            },
            "type": "scatterpolar"
           }
          ],
          "scatterpolargl": [
           {
            "marker": {
             "colorbar": {
              "outlinewidth": 0,
              "ticks": ""
             }
            },
            "type": "scatterpolargl"
           }
          ],
          "scatterternary": [
           {
            "marker": {
             "colorbar": {
              "outlinewidth": 0,
              "ticks": ""
             }
            },
            "type": "scatterternary"
           }
          ],
          "surface": [
           {
            "colorbar": {
             "outlinewidth": 0,
             "ticks": ""
            },
            "colorscale": [
             [
              0,
              "#0d0887"
             ],
             [
              0.1111111111111111,
              "#46039f"
             ],
             [
              0.2222222222222222,
              "#7201a8"
             ],
             [
              0.3333333333333333,
              "#9c179e"
             ],
             [
              0.4444444444444444,
              "#bd3786"
             ],
             [
              0.5555555555555556,
              "#d8576b"
             ],
             [
              0.6666666666666666,
              "#ed7953"
             ],
             [
              0.7777777777777778,
              "#fb9f3a"
             ],
             [
              0.8888888888888888,
              "#fdca26"
             ],
             [
              1,
              "#f0f921"
             ]
            ],
            "type": "surface"
           }
          ],
          "table": [
           {
            "cells": {
             "fill": {
              "color": "#EBF0F8"
             },
             "line": {
              "color": "white"
             }
            },
            "header": {
             "fill": {
              "color": "#C8D4E3"
             },
             "line": {
              "color": "white"
             }
            },
            "type": "table"
           }
          ]
         },
         "layout": {
          "annotationdefaults": {
           "arrowcolor": "#2a3f5f",
           "arrowhead": 0,
           "arrowwidth": 1
          },
          "autotypenumbers": "strict",
          "coloraxis": {
           "colorbar": {
            "outlinewidth": 0,
            "ticks": ""
           }
          },
          "colorscale": {
           "diverging": [
            [
             0,
             "#8e0152"
            ],
            [
             0.1,
             "#c51b7d"
            ],
            [
             0.2,
             "#de77ae"
            ],
            [
             0.3,
             "#f1b6da"
            ],
            [
             0.4,
             "#fde0ef"
            ],
            [
             0.5,
             "#f7f7f7"
            ],
            [
             0.6,
             "#e6f5d0"
            ],
            [
             0.7,
             "#b8e186"
            ],
            [
             0.8,
             "#7fbc41"
            ],
            [
             0.9,
             "#4d9221"
            ],
            [
             1,
             "#276419"
            ]
           ],
           "sequential": [
            [
             0,
             "#0d0887"
            ],
            [
             0.1111111111111111,
             "#46039f"
            ],
            [
             0.2222222222222222,
             "#7201a8"
            ],
            [
             0.3333333333333333,
             "#9c179e"
            ],
            [
             0.4444444444444444,
             "#bd3786"
            ],
            [
             0.5555555555555556,
             "#d8576b"
            ],
            [
             0.6666666666666666,
             "#ed7953"
            ],
            [
             0.7777777777777778,
             "#fb9f3a"
            ],
            [
             0.8888888888888888,
             "#fdca26"
            ],
            [
             1,
             "#f0f921"
            ]
           ],
           "sequentialminus": [
            [
             0,
             "#0d0887"
            ],
            [
             0.1111111111111111,
             "#46039f"
            ],
            [
             0.2222222222222222,
             "#7201a8"
            ],
            [
             0.3333333333333333,
             "#9c179e"
            ],
            [
             0.4444444444444444,
             "#bd3786"
            ],
            [
             0.5555555555555556,
             "#d8576b"
            ],
            [
             0.6666666666666666,
             "#ed7953"
            ],
            [
             0.7777777777777778,
             "#fb9f3a"
            ],
            [
             0.8888888888888888,
             "#fdca26"
            ],
            [
             1,
             "#f0f921"
            ]
           ]
          },
          "colorway": [
           "#636efa",
           "#EF553B",
           "#00cc96",
           "#ab63fa",
           "#FFA15A",
           "#19d3f3",
           "#FF6692",
           "#B6E880",
           "#FF97FF",
           "#FECB52"
          ],
          "font": {
           "color": "#2a3f5f"
          },
          "geo": {
           "bgcolor": "white",
           "lakecolor": "white",
           "landcolor": "#E5ECF6",
           "showlakes": true,
           "showland": true,
           "subunitcolor": "white"
          },
          "hoverlabel": {
           "align": "left"
          },
          "hovermode": "closest",
          "mapbox": {
           "style": "light"
          },
          "paper_bgcolor": "white",
          "plot_bgcolor": "#E5ECF6",
          "polar": {
           "angularaxis": {
            "gridcolor": "white",
            "linecolor": "white",
            "ticks": ""
           },
           "bgcolor": "#E5ECF6",
           "radialaxis": {
            "gridcolor": "white",
            "linecolor": "white",
            "ticks": ""
           }
          },
          "scene": {
           "xaxis": {
            "backgroundcolor": "#E5ECF6",
            "gridcolor": "white",
            "gridwidth": 2,
            "linecolor": "white",
            "showbackground": true,
            "ticks": "",
            "zerolinecolor": "white"
           },
           "yaxis": {
            "backgroundcolor": "#E5ECF6",
            "gridcolor": "white",
            "gridwidth": 2,
            "linecolor": "white",
            "showbackground": true,
            "ticks": "",
            "zerolinecolor": "white"
           },
           "zaxis": {
            "backgroundcolor": "#E5ECF6",
            "gridcolor": "white",
            "gridwidth": 2,
            "linecolor": "white",
            "showbackground": true,
            "ticks": "",
            "zerolinecolor": "white"
           }
          },
          "shapedefaults": {
           "line": {
            "color": "#2a3f5f"
           }
          },
          "ternary": {
           "aaxis": {
            "gridcolor": "white",
            "linecolor": "white",
            "ticks": ""
           },
           "baxis": {
            "gridcolor": "white",
            "linecolor": "white",
            "ticks": ""
           },
           "bgcolor": "#E5ECF6",
           "caxis": {
            "gridcolor": "white",
            "linecolor": "white",
            "ticks": ""
           }
          },
          "title": {
           "x": 0.05
          },
          "xaxis": {
           "automargin": true,
           "gridcolor": "white",
           "linecolor": "white",
           "ticks": "",
           "title": {
            "standoff": 15
           },
           "zerolinecolor": "white",
           "zerolinewidth": 2
          },
          "yaxis": {
           "automargin": true,
           "gridcolor": "white",
           "linecolor": "white",
           "ticks": "",
           "title": {
            "standoff": 15
           },
           "zerolinecolor": "white",
           "zerolinewidth": 2
          }
         }
        },
        "width": 800,
        "xaxis": {
         "autorange": true,
         "mirror": "allticks",
         "range": [
          0,
          645
         ],
         "rangemode": "tozero",
         "showgrid": false,
         "showline": true,
         "showticklabels": true,
         "tickmode": "array",
         "ticks": "outside",
         "ticktext": [
          "HJ",
          "Ella Li",
          "Abdul W",
          "Skye T",
          "Miranda",
          "Tianchi Fu",
          "Jinzhao Y",
          "Becky L",
          "Jessica",
          "Bilal",
          "Emily S",
          "Jiahang Ren",
          "Vandan P",
          "Amanda H",
          "Ruolin",
          "Andrea",
          "Xueting Z",
          "Zhiang",
          "Anand",
          "Chao F",
          "Wenjie W",
          "JZ",
          "Mike V",
          "Xiwei W",
          "Christine",
          "Page",
          "Jungseo Lee",
          "Ssuying Chen",
          "Yuhang Z",
          "WentingG",
          "Ayleen",
          "MIngzhu H",
          "Joe D",
          "Yan Xu",
          "Bangzhao S",
          "C Wu",
          "Zane",
          "Ruoyu D",
          "Di Jin",
          "Revant",
          "HG",
          "Stella Chang",
          "Tawan",
          "Vic Li",
          "Binrui M",
          "Fangzhe L",
          "Aditi",
          "Deji S",
          "Liya L",
          "Xin Ye",
          "YuantaoB",
          "Akshata",
          "Xinyi L",
          "Apoorva",
          "Holden",
          "Shiyu D",
          "Nitanshi ",
          "Yifan Hu",
          "Mu D",
          "Mingcan Z",
          "Xinyu Z",
          "Vasilina F",
          "Yechan Kim",
          "Daniel C",
          "SB Ann"
         ],
         "tickvals": [
          5,
          15,
          25,
          35,
          45,
          55,
          65,
          75,
          85,
          95,
          105,
          115,
          125,
          135,
          145,
          155,
          165,
          175,
          185,
          195,
          205,
          215,
          225,
          235,
          245,
          255,
          265,
          275,
          285,
          295,
          305,
          315,
          325,
          335,
          345,
          355,
          365,
          375,
          385,
          395,
          405,
          415,
          425,
          435,
          445,
          455,
          465,
          475,
          485,
          495,
          505,
          515,
          525,
          535,
          545,
          555,
          565,
          575,
          585,
          595,
          605,
          615,
          625,
          635,
          645
         ],
         "type": "linear",
         "zeroline": false
        },
        "yaxis": {
         "autorange": true,
         "mirror": "allticks",
         "range": [
          0,
          24.88755877376187
         ],
         "rangemode": "tozero",
         "showgrid": false,
         "showline": true,
         "showticklabels": true,
         "ticks": "outside",
         "type": "linear",
         "zeroline": false
        }
       }
      },
      "image/png": "[encoded data removed]",
      "text/html": [
       "<div>                            <div id=\"7ea7f48a-c962-4c75-b1f1-f44a9f1b56bf\" class=\"plotly-graph-div\" style=\"height:500px; width:800px;\"></div>            <script type=\"text/javascript\">                require([\"plotly\"], function(Plotly) {                    window.PLOTLYENV=window.PLOTLYENV || {};                                    if (document.getElementById(\"7ea7f48a-c962-4c75-b1f1-f44a9f1b56bf\")) {                    Plotly.newPlot(                        \"7ea7f48a-c962-4c75-b1f1-f44a9f1b56bf\",                        [{\"hoverinfo\":\"text\",\"marker\":{\"color\":\"rgb(61,153,112)\"},\"mode\":\"lines\",\"x\":[25.0,25.0,35.0,35.0],\"xaxis\":\"x\",\"y\":[0.0,4.795831523312719,4.795831523312719,0.0],\"yaxis\":\"y\",\"type\":\"scatter\"},{\"hoverinfo\":\"text\",\"marker\":{\"color\":\"rgb(61,153,112)\"},\"mode\":\"lines\",\"x\":[45.0,45.0,55.0,55.0],\"xaxis\":\"x\",\"y\":[0.0,4.795831523312719,4.795831523312719,0.0],\"yaxis\":\"y\",\"type\":\"scatter\"},{\"hoverinfo\":\"text\",\"marker\":{\"color\":\"rgb(61,153,112)\"},\"mode\":\"lines\",\"x\":[30.0,30.0,50.0,50.0],\"xaxis\":\"x\",\"y\":[4.795831523312719,5.744562646538029,5.744562646538029,4.795831523312719],\"yaxis\":\"y\",\"type\":\"scatter\"},{\"hoverinfo\":\"text\",\"marker\":{\"color\":\"rgb(61,153,112)\"},\"mode\":\"lines\",\"x\":[75.0,75.0,85.0,85.0],\"xaxis\":\"x\",\"y\":[0.0,5.0,5.0,0.0],\"yaxis\":\"y\",\"type\":\"scatter\"},{\"hoverinfo\":\"text\",\"marker\":{\"color\":\"rgb(61,153,112)\"},\"mode\":\"lines\",\"x\":[65.0,65.0,80.0,80.0],\"xaxis\":\"x\",\"y\":[0.0,6.4031242374328485,6.4031242374328485,5.0],\"yaxis\":\"y\",\"type\":\"scatter\"},{\"hoverinfo\":\"text\",\"marker\":{\"color\":\"rgb(61,153,112)\"},\"mode\":\"lines\",\"x\":[40.0,40.0,72.5,72.5],\"xaxis\":\"x\",\"y\":[5.744562646538029,8.18535277187245,8.18535277187245,6.4031242374328485],\"yaxis\":\"y\",\"type\":\"scatter\"},{\"hoverinfo\":\"text\",\"marker\":{\"color\":\"rgb(61,153,112)\"},\"mode\":\"lines\",\"x\":[15.0,15.0,56.25,56.25],\"xaxis\":\"x\",\"y\":[0.0,8.717797887081348,8.717797887081348,8.18535277187245],\"yaxis\":\"y\",\"type\":\"scatter\"},{\"hoverinfo\":\"text\",\"marker\":{\"color\":\"rgb(61,153,112)\"},\"mode\":\"lines\",\"x\":[115.0,115.0,125.0,125.0],\"xaxis\":\"x\",\"y\":[0.0,3.872983346207417,3.872983346207417,0.0],\"yaxis\":\"y\",\"type\":\"scatter\"},{\"hoverinfo\":\"text\",\"marker\":{\"color\":\"rgb(61,153,112)\"},\"mode\":\"lines\",\"x\":[105.0,105.0,120.0,120.0],\"xaxis\":\"x\",\"y\":[0.0,6.082762530298219,6.082762530298219,3.872983346207417],\"yaxis\":\"y\",\"type\":\"scatter\"},{\"hoverinfo\":\"text\",\"marker\":{\"color\":\"rgb(61,153,112)\"},\"mode\":\"lines\",\"x\":[95.0,95.0,112.5,112.5],\"xaxis\":\"x\",\"y\":[0.0,9.1104335791443,9.1104335791443,6.082762530298219],\"yaxis\":\"y\",\"type\":\"scatter\"},{\"hoverinfo\":\"text\",\"marker\":{\"color\":\"rgb(61,153,112)\"},\"mode\":\"lines\",\"x\":[35.625,35.625,103.75,103.75],\"xaxis\":\"x\",\"y\":[8.717797887081348,10.295630140987,10.295630140987,9.1104335791443],\"yaxis\":\"y\",\"type\":\"scatter\"},{\"hoverinfo\":\"text\",\"marker\":{\"color\":\"rgb(61,153,112)\"},\"mode\":\"lines\",\"x\":[135.0,135.0,145.0,145.0],\"xaxis\":\"x\",\"y\":[0.0,4.0,4.0,0.0],\"yaxis\":\"y\",\"type\":\"scatter\"},{\"hoverinfo\":\"text\",\"marker\":{\"color\":\"rgb(61,153,112)\"},\"mode\":\"lines\",\"x\":[155.0,155.0,165.0,165.0],\"xaxis\":\"x\",\"y\":[0.0,5.0990195135927845,5.0990195135927845,0.0],\"yaxis\":\"y\",\"type\":\"scatter\"},{\"hoverinfo\":\"text\",\"marker\":{\"color\":\"rgb(61,153,112)\"},\"mode\":\"lines\",\"x\":[140.0,140.0,160.0,160.0],\"xaxis\":\"x\",\"y\":[4.0,6.782329983125268,6.782329983125268,5.0990195135927845],\"yaxis\":\"y\",\"type\":\"scatter\"},{\"hoverinfo\":\"text\",\"marker\":{\"color\":\"rgb(61,153,112)\"},\"mode\":\"lines\",\"x\":[185.0,185.0,195.0,195.0],\"xaxis\":\"x\",\"y\":[0.0,4.0,4.0,0.0],\"yaxis\":\"y\",\"type\":\"scatter\"},{\"hoverinfo\":\"text\",\"marker\":{\"color\":\"rgb(61,153,112)\"},\"mode\":\"lines\",\"x\":[175.0,175.0,190.0,190.0],\"xaxis\":\"x\",\"y\":[0.0,7.3484692283495345,7.3484692283495345,4.0],\"yaxis\":\"y\",\"type\":\"scatter\"},{\"hoverinfo\":\"text\",\"marker\":{\"color\":\"rgb(61,153,112)\"},\"mode\":\"lines\",\"x\":[150.0,150.0,182.5,182.5],\"xaxis\":\"x\",\"y\":[6.782329983125268,9.219544457292887,9.219544457292887,7.3484692283495345],\"yaxis\":\"y\",\"type\":\"scatter\"},{\"hoverinfo\":\"text\",\"marker\":{\"color\":\"rgb(61,153,112)\"},\"mode\":\"lines\",\"x\":[225.0,225.0,235.0,235.0],\"xaxis\":\"x\",\"y\":[0.0,4.47213595499958,4.47213595499958,0.0],\"yaxis\":\"y\",\"type\":\"scatter\"},{\"hoverinfo\":\"text\",\"marker\":{\"color\":\"rgb(61,153,112)\"},\"mode\":\"lines\",\"x\":[215.0,215.0,230.0,230.0],\"xaxis\":\"x\",\"y\":[0.0,6.4031242374328485,6.4031242374328485,4.47213595499958],\"yaxis\":\"y\",\"type\":\"scatter\"},{\"hoverinfo\":\"text\",\"marker\":{\"color\":\"rgb(61,153,112)\"},\"mode\":\"lines\",\"x\":[205.0,205.0,222.5,222.5],\"xaxis\":\"x\",\"y\":[0.0,7.937253933193772,7.937253933193772,6.4031242374328485],\"yaxis\":\"y\",\"type\":\"scatter\"},{\"hoverinfo\":\"text\",\"marker\":{\"color\":\"rgb(61,153,112)\"},\"mode\":\"lines\",\"x\":[245.0,245.0,255.0,255.0],\"xaxis\":\"x\",\"y\":[0.0,9.219544457292887,9.219544457292887,0.0],\"yaxis\":\"y\",\"type\":\"scatter\"},{\"hoverinfo\":\"text\",\"marker\":{\"color\":\"rgb(61,153,112)\"},\"mode\":\"lines\",\"x\":[213.75,213.75,250.0,250.0],\"xaxis\":\"x\",\"y\":[7.937253933193772,11.489125293076057,11.489125293076057,9.219544457292887],\"yaxis\":\"y\",\"type\":\"scatter\"},{\"hoverinfo\":\"text\",\"marker\":{\"color\":\"rgb(61,153,112)\"},\"mode\":\"lines\",\"x\":[166.25,166.25,231.875,231.875],\"xaxis\":\"x\",\"y\":[9.219544457292887,12.649110640673518,12.649110640673518,11.489125293076057],\"yaxis\":\"y\",\"type\":\"scatter\"},{\"hoverinfo\":\"text\",\"marker\":{\"color\":\"rgb(61,153,112)\"},\"mode\":\"lines\",\"x\":[69.6875,69.6875,199.0625,199.0625],\"xaxis\":\"x\",\"y\":[10.295630140987,14.352700094407323,14.352700094407323,12.649110640673518],\"yaxis\":\"y\",\"type\":\"scatter\"},{\"hoverinfo\":\"text\",\"marker\":{\"color\":\"rgb(255,65,54)\"},\"mode\":\"lines\",\"x\":[265.0,265.0,275.0,275.0],\"xaxis\":\"x\",\"y\":[0.0,7.874007874011811,7.874007874011811,0.0],\"yaxis\":\"y\",\"type\":\"scatter\"},{\"hoverinfo\":\"text\",\"marker\":{\"color\":\"rgb(255,65,54)\"},\"mode\":\"lines\",\"x\":[305.0,305.0,315.0,315.0],\"xaxis\":\"x\",\"y\":[0.0,4.58257569495584,4.58257569495584,0.0],\"yaxis\":\"y\",\"type\":\"scatter\"},{\"hoverinfo\":\"text\",\"marker\":{\"color\":\"rgb(255,65,54)\"},\"mode\":\"lines\",\"x\":[295.0,295.0,310.0,310.0],\"xaxis\":\"x\",\"y\":[0.0,6.48074069840786,6.48074069840786,4.58257569495584],\"yaxis\":\"y\",\"type\":\"scatter\"},{\"hoverinfo\":\"text\",\"marker\":{\"color\":\"rgb(255,65,54)\"},\"mode\":\"lines\",\"x\":[285.0,285.0,302.5,302.5],\"xaxis\":\"x\",\"y\":[0.0,8.306623862918075,8.306623862918075,6.48074069840786],\"yaxis\":\"y\",\"type\":\"scatter\"},{\"hoverinfo\":\"text\",\"marker\":{\"color\":\"rgb(255,65,54)\"},\"mode\":\"lines\",\"x\":[270.0,270.0,293.75,293.75],\"xaxis\":\"x\",\"y\":[7.874007874011811,10.295630140987,10.295630140987,8.306623862918075],\"yaxis\":\"y\",\"type\":\"scatter\"},{\"hoverinfo\":\"text\",\"marker\":{\"color\":\"rgb(255,65,54)\"},\"mode\":\"lines\",\"x\":[325.0,325.0,335.0,335.0],\"xaxis\":\"x\",\"y\":[0.0,7.681145747868608,7.681145747868608,0.0],\"yaxis\":\"y\",\"type\":\"scatter\"},{\"hoverinfo\":\"text\",\"marker\":{\"color\":\"rgb(255,65,54)\"},\"mode\":\"lines\",\"x\":[355.0,355.0,365.0,365.0],\"xaxis\":\"x\",\"y\":[0.0,3.7416573867739413,3.7416573867739413,0.0],\"yaxis\":\"y\",\"type\":\"scatter\"},{\"hoverinfo\":\"text\",\"marker\":{\"color\":\"rgb(255,65,54)\"},\"mode\":\"lines\",\"x\":[385.0,385.0,395.0,395.0],\"xaxis\":\"x\",\"y\":[0.0,2.8284271247461903,2.8284271247461903,0.0],\"yaxis\":\"y\",\"type\":\"scatter\"},{\"hoverinfo\":\"text\",\"marker\":{\"color\":\"rgb(255,65,54)\"},\"mode\":\"lines\",\"x\":[375.0,375.0,390.0,390.0],\"xaxis\":\"x\",\"y\":[0.0,4.898979485566356,4.898979485566356,2.8284271247461903],\"yaxis\":\"y\",\"type\":\"scatter\"},{\"hoverinfo\":\"text\",\"marker\":{\"color\":\"rgb(255,65,54)\"},\"mode\":\"lines\",\"x\":[360.0,360.0,382.5,382.5],\"xaxis\":\"x\",\"y\":[3.7416573867739413,5.656854249492381,5.656854249492381,4.898979485566356],\"yaxis\":\"y\",\"type\":\"scatter\"},{\"hoverinfo\":\"text\",\"marker\":{\"color\":\"rgb(255,65,54)\"},\"mode\":\"lines\",\"x\":[345.0,345.0,371.25,371.25],\"xaxis\":\"x\",\"y\":[0.0,7.810249675906654,7.810249675906654,5.656854249492381],\"yaxis\":\"y\",\"type\":\"scatter\"},{\"hoverinfo\":\"text\",\"marker\":{\"color\":\"rgb(255,65,54)\"},\"mode\":\"lines\",\"x\":[425.0,425.0,435.0,435.0],\"xaxis\":\"x\",\"y\":[0.0,3.4641016151377544,3.4641016151377544,0.0],\"yaxis\":\"y\",\"type\":\"scatter\"},{\"hoverinfo\":\"text\",\"marker\":{\"color\":\"rgb(255,65,54)\"},\"mode\":\"lines\",\"x\":[415.0,415.0,430.0,430.0],\"xaxis\":\"x\",\"y\":[0.0,5.744562646538029,5.744562646538029,3.4641016151377544],\"yaxis\":\"y\",\"type\":\"scatter\"},{\"hoverinfo\":\"text\",\"marker\":{\"color\":\"rgb(255,65,54)\"},\"mode\":\"lines\",\"x\":[405.0,405.0,422.5,422.5],\"xaxis\":\"x\",\"y\":[0.0,7.211102550927978,7.211102550927978,5.744562646538029],\"yaxis\":\"y\",\"type\":\"scatter\"},{\"hoverinfo\":\"text\",\"marker\":{\"color\":\"rgb(255,65,54)\"},\"mode\":\"lines\",\"x\":[445.0,445.0,455.0,455.0],\"xaxis\":\"x\",\"y\":[0.0,4.795831523312719,4.795831523312719,0.0],\"yaxis\":\"y\",\"type\":\"scatter\"},{\"hoverinfo\":\"text\",\"marker\":{\"color\":\"rgb(255,65,54)\"},\"mode\":\"lines\",\"x\":[475.0,475.0,485.0,485.0],\"xaxis\":\"x\",\"y\":[0.0,2.6457513110645907,2.6457513110645907,0.0],\"yaxis\":\"y\",\"type\":\"scatter\"},{\"hoverinfo\":\"text\",\"marker\":{\"color\":\"rgb(255,65,54)\"},\"mode\":\"lines\",\"x\":[465.0,465.0,480.0,480.0],\"xaxis\":\"x\",\"y\":[0.0,5.0990195135927845,5.0990195135927845,2.6457513110645907],\"yaxis\":\"y\",\"type\":\"scatter\"},{\"hoverinfo\":\"text\",\"marker\":{\"color\":\"rgb(255,65,54)\"},\"mode\":\"lines\",\"x\":[450.0,450.0,472.5,472.5],\"xaxis\":\"x\",\"y\":[4.795831523312719,7.280109889280518,7.280109889280518,5.0990195135927845],\"yaxis\":\"y\",\"type\":\"scatter\"},{\"hoverinfo\":\"text\",\"marker\":{\"color\":\"rgb(255,65,54)\"},\"mode\":\"lines\",\"x\":[413.75,413.75,461.25,461.25],\"xaxis\":\"x\",\"y\":[7.211102550927978,8.366600265340756,8.366600265340756,7.280109889280518],\"yaxis\":\"y\",\"type\":\"scatter\"},{\"hoverinfo\":\"text\",\"marker\":{\"color\":\"rgb(255,65,54)\"},\"mode\":\"lines\",\"x\":[358.125,358.125,437.5,437.5],\"xaxis\":\"x\",\"y\":[7.810249675906654,10.295630140987,10.295630140987,8.366600265340756],\"yaxis\":\"y\",\"type\":\"scatter\"},{\"hoverinfo\":\"text\",\"marker\":{\"color\":\"rgb(255,65,54)\"},\"mode\":\"lines\",\"x\":[330.0,330.0,397.8125,397.8125],\"xaxis\":\"x\",\"y\":[7.681145747868608,11.61895003862225,11.61895003862225,10.295630140987],\"yaxis\":\"y\",\"type\":\"scatter\"},{\"hoverinfo\":\"text\",\"marker\":{\"color\":\"rgb(255,65,54)\"},\"mode\":\"lines\",\"x\":[495.0,495.0,505.0,505.0],\"xaxis\":\"x\",\"y\":[0.0,7.874007874011811,7.874007874011811,0.0],\"yaxis\":\"y\",\"type\":\"scatter\"},{\"hoverinfo\":\"text\",\"marker\":{\"color\":\"rgb(255,65,54)\"},\"mode\":\"lines\",\"x\":[515.0,515.0,525.0,525.0],\"xaxis\":\"x\",\"y\":[0.0,9.38083151964686,9.38083151964686,0.0],\"yaxis\":\"y\",\"type\":\"scatter\"},{\"hoverinfo\":\"text\",\"marker\":{\"color\":\"rgb(255,65,54)\"},\"mode\":\"lines\",\"x\":[500.0,500.0,520.0,520.0],\"xaxis\":\"x\",\"y\":[7.874007874011811,10.770329614269007,10.770329614269007,9.38083151964686],\"yaxis\":\"y\",\"type\":\"scatter\"},{\"hoverinfo\":\"text\",\"marker\":{\"color\":\"rgb(255,65,54)\"},\"mode\":\"lines\",\"x\":[565.0,565.0,575.0,575.0],\"xaxis\":\"x\",\"y\":[0.0,4.47213595499958,4.47213595499958,0.0],\"yaxis\":\"y\",\"type\":\"scatter\"},{\"hoverinfo\":\"text\",\"marker\":{\"color\":\"rgb(255,65,54)\"},\"mode\":\"lines\",\"x\":[555.0,555.0,570.0,570.0],\"xaxis\":\"x\",\"y\":[0.0,5.196152422706632,5.196152422706632,4.47213595499958],\"yaxis\":\"y\",\"type\":\"scatter\"},{\"hoverinfo\":\"text\",\"marker\":{\"color\":\"rgb(255,65,54)\"},\"mode\":\"lines\",\"x\":[545.0,545.0,562.5,562.5],\"xaxis\":\"x\",\"y\":[0.0,6.0,6.0,5.196152422706632],\"yaxis\":\"y\",\"type\":\"scatter\"},{\"hoverinfo\":\"text\",\"marker\":{\"color\":\"rgb(255,65,54)\"},\"mode\":\"lines\",\"x\":[595.0,595.0,605.0,605.0],\"xaxis\":\"x\",\"y\":[0.0,5.916079783099616,5.916079783099616,0.0],\"yaxis\":\"y\",\"type\":\"scatter\"},{\"hoverinfo\":\"text\",\"marker\":{\"color\":\"rgb(255,65,54)\"},\"mode\":\"lines\",\"x\":[585.0,585.0,600.0,600.0],\"xaxis\":\"x\",\"y\":[0.0,6.6332495807108,6.6332495807108,5.916079783099616],\"yaxis\":\"y\",\"type\":\"scatter\"},{\"hoverinfo\":\"text\",\"marker\":{\"color\":\"rgb(255,65,54)\"},\"mode\":\"lines\",\"x\":[553.75,553.75,592.5,592.5],\"xaxis\":\"x\",\"y\":[6.0,8.888194417315589,8.888194417315589,6.6332495807108],\"yaxis\":\"y\",\"type\":\"scatter\"},{\"hoverinfo\":\"text\",\"marker\":{\"color\":\"rgb(255,65,54)\"},\"mode\":\"lines\",\"x\":[615.0,615.0,625.0,625.0],\"xaxis\":\"x\",\"y\":[0.0,5.656854249492381,5.656854249492381,0.0],\"yaxis\":\"y\",\"type\":\"scatter\"},{\"hoverinfo\":\"text\",\"marker\":{\"color\":\"rgb(255,65,54)\"},\"mode\":\"lines\",\"x\":[635.0,635.0,645.0,645.0],\"xaxis\":\"x\",\"y\":[0.0,7.14142842854285,7.14142842854285,0.0],\"yaxis\":\"y\",\"type\":\"scatter\"},{\"hoverinfo\":\"text\",\"marker\":{\"color\":\"rgb(255,65,54)\"},\"mode\":\"lines\",\"x\":[620.0,620.0,640.0,640.0],\"xaxis\":\"x\",\"y\":[5.656854249492381,9.746794344808963,9.746794344808963,7.14142842854285],\"yaxis\":\"y\",\"type\":\"scatter\"},{\"hoverinfo\":\"text\",\"marker\":{\"color\":\"rgb(255,65,54)\"},\"mode\":\"lines\",\"x\":[573.125,573.125,630.0,630.0],\"xaxis\":\"x\",\"y\":[8.888194417315589,10.862780491200215,10.862780491200215,9.746794344808963],\"yaxis\":\"y\",\"type\":\"scatter\"},{\"hoverinfo\":\"text\",\"marker\":{\"color\":\"rgb(255,65,54)\"},\"mode\":\"lines\",\"x\":[535.0,535.0,601.5625,601.5625],\"xaxis\":\"x\",\"y\":[0.0,12.84523257866513,12.84523257866513,10.862780491200215],\"yaxis\":\"y\",\"type\":\"scatter\"},{\"hoverinfo\":\"text\",\"marker\":{\"color\":\"rgb(255,65,54)\"},\"mode\":\"lines\",\"x\":[510.0,510.0,568.28125,568.28125],\"xaxis\":\"x\",\"y\":[10.770329614269007,14.106735979665885,14.106735979665885,12.84523257866513],\"yaxis\":\"y\",\"type\":\"scatter\"},{\"hoverinfo\":\"text\",\"marker\":{\"color\":\"rgb(255,65,54)\"},\"mode\":\"lines\",\"x\":[363.90625,363.90625,539.140625,539.140625],\"xaxis\":\"x\",\"y\":[11.61895003862225,15.459624833740307,15.459624833740307,14.106735979665885],\"yaxis\":\"y\",\"type\":\"scatter\"},{\"hoverinfo\":\"text\",\"marker\":{\"color\":\"rgb(255,65,54)\"},\"mode\":\"lines\",\"x\":[281.875,281.875,451.5234375,451.5234375],\"xaxis\":\"x\",\"y\":[10.295630140987,16.09347693943108,16.09347693943108,15.459624833740307],\"yaxis\":\"y\",\"type\":\"scatter\"},{\"hoverinfo\":\"text\",\"marker\":{\"color\":\"rgb(0,116,217)\"},\"mode\":\"lines\",\"x\":[134.375,134.375,366.69921875,366.69921875],\"xaxis\":\"x\",\"y\":[14.352700094407323,18.57417562100671,18.57417562100671,16.09347693943108],\"yaxis\":\"y\",\"type\":\"scatter\"},{\"hoverinfo\":\"text\",\"marker\":{\"color\":\"rgb(0,116,217)\"},\"mode\":\"lines\",\"x\":[5.0,5.0,250.537109375,250.537109375],\"xaxis\":\"x\",\"y\":[0.0,23.643180835073778,23.643180835073778,18.57417562100671],\"yaxis\":\"y\",\"type\":\"scatter\"}],                        {\"autosize\":false,\"height\":500,\"hovermode\":\"closest\",\"showlegend\":false,\"width\":800,\"xaxis\":{\"mirror\":\"allticks\",\"rangemode\":\"tozero\",\"showgrid\":false,\"showline\":true,\"showticklabels\":true,\"tickmode\":\"array\",\"ticks\":\"outside\",\"ticktext\":[\"HJ\",\"Ella Li\",\"Abdul W\",\"Skye T\",\"Miranda\",\"Tianchi Fu\",\"Jinzhao Y\",\"Becky L\",\"Jessica\",\"Bilal\",\"Emily S\",\"Jiahang Ren\",\"Vandan P\",\"Amanda H\",\"Ruolin\",\"Andrea\",\"Xueting Z\",\"Zhiang\",\"Anand\",\"Chao F\",\"Wenjie W\",\"JZ\",\"Mike V\",\"Xiwei W\",\"Christine\",\"Page\",\"Jungseo Lee\",\"Ssuying Chen\",\"Yuhang Z\",\"WentingG\",\"Ayleen\",\"MIngzhu H\",\"Joe D\",\"Yan Xu\",\"Bangzhao S\",\"C Wu\",\"Zane\",\"Ruoyu D\",\"Di Jin\",\"Revant\",\"HG\",\"Stella Chang\",\"Tawan\",\"Vic Li\",\"Binrui M\",\"Fangzhe L\",\"Aditi\",\"Deji S\",\"Liya L\",\"Xin Ye\",\"YuantaoB\",\"Akshata\",\"Xinyi L\",\"Apoorva\",\"Holden\",\"Shiyu D\",\"Nitanshi \",\"Yifan Hu\",\"Mu D\",\"Mingcan Z\",\"Xinyu Z\",\"Vasilina F\",\"Yechan Kim\",\"Daniel C\",\"SB Ann\"],\"tickvals\":[5.0,15.0,25.0,35.0,45.0,55.0,65.0,75.0,85.0,95.0,105.0,115.0,125.0,135.0,145.0,155.0,165.0,175.0,185.0,195.0,205.0,215.0,225.0,235.0,245.0,255.0,265.0,275.0,285.0,295.0,305.0,315.0,325.0,335.0,345.0,355.0,365.0,375.0,385.0,395.0,405.0,415.0,425.0,435.0,445.0,455.0,465.0,475.0,485.0,495.0,505.0,515.0,525.0,535.0,545.0,555.0,565.0,575.0,585.0,595.0,605.0,615.0,625.0,635.0,645.0],\"type\":\"linear\",\"zeroline\":false},\"yaxis\":{\"mirror\":\"allticks\",\"rangemode\":\"tozero\",\"showgrid\":false,\"showline\":true,\"showticklabels\":true,\"ticks\":\"outside\",\"type\":\"linear\",\"zeroline\":false},\"template\":{\"data\":{\"bar\":[{\"error_x\":{\"color\":\"#2a3f5f\"},\"error_y\":{\"color\":\"#2a3f5f\"},\"marker\":{\"line\":{\"color\":\"#E5ECF6\",\"width\":0.5},\"pattern\":{\"fillmode\":\"overlay\",\"size\":10,\"solidity\":0.2}},\"type\":\"bar\"}],\"barpolar\":[{\"marker\":{\"line\":{\"color\":\"#E5ECF6\",\"width\":0.5},\"pattern\":{\"fillmode\":\"overlay\",\"size\":10,\"solidity\":0.2}},\"type\":\"barpolar\"}],\"carpet\":[{\"aaxis\":{\"endlinecolor\":\"#2a3f5f\",\"gridcolor\":\"white\",\"linecolor\":\"white\",\"minorgridcolor\":\"white\",\"startlinecolor\":\"#2a3f5f\"},\"baxis\":{\"endlinecolor\":\"#2a3f5f\",\"gridcolor\":\"white\",\"linecolor\":\"white\",\"minorgridcolor\":\"white\",\"startlinecolor\":\"#2a3f5f\"},\"type\":\"carpet\"}],\"choropleth\":[{\"colorbar\":{\"outlinewidth\":0,\"ticks\":\"\"},\"type\":\"choropleth\"}],\"contour\":[{\"colorbar\":{\"outlinewidth\":0,\"ticks\":\"\"},\"colorscale\":[[0.0,\"#0d0887\"],[0.1111111111111111,\"#46039f\"],[0.2222222222222222,\"#7201a8\"],[0.3333333333333333,\"#9c179e\"],[0.4444444444444444,\"#bd3786\"],[0.5555555555555556,\"#d8576b\"],[0.6666666666666666,\"#ed7953\"],[0.7777777777777778,\"#fb9f3a\"],[0.8888888888888888,\"#fdca26\"],[1.0,\"#f0f921\"]],\"type\":\"contour\"}],\"contourcarpet\":[{\"colorbar\":{\"outlinewidth\":0,\"ticks\":\"\"},\"type\":\"contourcarpet\"}],\"heatmap\":[{\"colorbar\":{\"outlinewidth\":0,\"ticks\":\"\"},\"colorscale\":[[0.0,\"#0d0887\"],[0.1111111111111111,\"#46039f\"],[0.2222222222222222,\"#7201a8\"],[0.3333333333333333,\"#9c179e\"],[0.4444444444444444,\"#bd3786\"],[0.5555555555555556,\"#d8576b\"],[0.6666666666666666,\"#ed7953\"],[0.7777777777777778,\"#fb9f3a\"],[0.8888888888888888,\"#fdca26\"],[1.0,\"#f0f921\"]],\"type\":\"heatmap\"}],\"heatmapgl\":[{\"colorbar\":{\"outlinewidth\":0,\"ticks\":\"\"},\"colorscale\":[[0.0,\"#0d0887\"],[0.1111111111111111,\"#46039f\"],[0.2222222222222222,\"#7201a8\"],[0.3333333333333333,\"#9c179e\"],[0.4444444444444444,\"#bd3786\"],[0.5555555555555556,\"#d8576b\"],[0.6666666666666666,\"#ed7953\"],[0.7777777777777778,\"#fb9f3a\"],[0.8888888888888888,\"#fdca26\"],[1.0,\"#f0f921\"]],\"type\":\"heatmapgl\"}],\"histogram\":[{\"marker\":{\"pattern\":{\"fillmode\":\"overlay\",\"size\":10,\"solidity\":0.2}},\"type\":\"histogram\"}],\"histogram2d\":[{\"colorbar\":{\"outlinewidth\":0,\"ticks\":\"\"},\"colorscale\":[[0.0,\"#0d0887\"],[0.1111111111111111,\"#46039f\"],[0.2222222222222222,\"#7201a8\"],[0.3333333333333333,\"#9c179e\"],[0.4444444444444444,\"#bd3786\"],[0.5555555555555556,\"#d8576b\"],[0.6666666666666666,\"#ed7953\"],[0.7777777777777778,\"#fb9f3a\"],[0.8888888888888888,\"#fdca26\"],[1.0,\"#f0f921\"]],\"type\":\"histogram2d\"}],\"histogram2dcontour\":[{\"colorbar\":{\"outlinewidth\":0,\"ticks\":\"\"},\"colorscale\":[[0.0,\"#0d0887\"],[0.1111111111111111,\"#46039f\"],[0.2222222222222222,\"#7201a8\"],[0.3333333333333333,\"#9c179e\"],[0.4444444444444444,\"#bd3786\"],[0.5555555555555556,\"#d8576b\"],[0.6666666666666666,\"#ed7953\"],[0.7777777777777778,\"#fb9f3a\"],[0.8888888888888888,\"#fdca26\"],[1.0,\"#f0f921\"]],\"type\":\"histogram2dcontour\"}],\"mesh3d\":[{\"colorbar\":{\"outlinewidth\":0,\"ticks\":\"\"},\"type\":\"mesh3d\"}],\"parcoords\":[{\"line\":{\"colorbar\":{\"outlinewidth\":0,\"ticks\":\"\"}},\"type\":\"parcoords\"}],\"pie\":[{\"automargin\":true,\"type\":\"pie\"}],\"scatter\":[{\"marker\":{\"colorbar\":{\"outlinewidth\":0,\"ticks\":\"\"}},\"type\":\"scatter\"}],\"scatter3d\":[{\"line\":{\"colorbar\":{\"outlinewidth\":0,\"ticks\":\"\"}},\"marker\":{\"colorbar\":{\"outlinewidth\":0,\"ticks\":\"\"}},\"type\":\"scatter3d\"}],\"scattercarpet\":[{\"marker\":{\"colorbar\":{\"outlinewidth\":0,\"ticks\":\"\"}},\"type\":\"scattercarpet\"}],\"scattergeo\":[{\"marker\":{\"colorbar\":{\"outlinewidth\":0,\"ticks\":\"\"}},\"type\":\"scattergeo\"}],\"scattergl\":[{\"marker\":{\"colorbar\":{\"outlinewidth\":0,\"ticks\":\"\"}},\"type\":\"scattergl\"}],\"scattermapbox\":[{\"marker\":{\"colorbar\":{\"outlinewidth\":0,\"ticks\":\"\"}},\"type\":\"scattermapbox\"}],\"scatterpolar\":[{\"marker\":{\"colorbar\":{\"outlinewidth\":0,\"ticks\":\"\"}},\"type\":\"scatterpolar\"}],\"scatterpolargl\":[{\"marker\":{\"colorbar\":{\"outlinewidth\":0,\"ticks\":\"\"}},\"type\":\"scatterpolargl\"}],\"scatterternary\":[{\"marker\":{\"colorbar\":{\"outlinewidth\":0,\"ticks\":\"\"}},\"type\":\"scatterternary\"}],\"surface\":[{\"colorbar\":{\"outlinewidth\":0,\"ticks\":\"\"},\"colorscale\":[[0.0,\"#0d0887\"],[0.1111111111111111,\"#46039f\"],[0.2222222222222222,\"#7201a8\"],[0.3333333333333333,\"#9c179e\"],[0.4444444444444444,\"#bd3786\"],[0.5555555555555556,\"#d8576b\"],[0.6666666666666666,\"#ed7953\"],[0.7777777777777778,\"#fb9f3a\"],[0.8888888888888888,\"#fdca26\"],[1.0,\"#f0f921\"]],\"type\":\"surface\"}],\"table\":[{\"cells\":{\"fill\":{\"color\":\"#EBF0F8\"},\"line\":{\"color\":\"white\"}},\"header\":{\"fill\":{\"color\":\"#C8D4E3\"},\"line\":{\"color\":\"white\"}},\"type\":\"table\"}]},\"layout\":{\"annotationdefaults\":{\"arrowcolor\":\"#2a3f5f\",\"arrowhead\":0,\"arrowwidth\":1},\"autotypenumbers\":\"strict\",\"coloraxis\":{\"colorbar\":{\"outlinewidth\":0,\"ticks\":\"\"}},\"colorscale\":{\"diverging\":[[0,\"#8e0152\"],[0.1,\"#c51b7d\"],[0.2,\"#de77ae\"],[0.3,\"#f1b6da\"],[0.4,\"#fde0ef\"],[0.5,\"#f7f7f7\"],[0.6,\"#e6f5d0\"],[0.7,\"#b8e186\"],[0.8,\"#7fbc41\"],[0.9,\"#4d9221\"],[1,\"#276419\"]],\"sequential\":[[0.0,\"#0d0887\"],[0.1111111111111111,\"#46039f\"],[0.2222222222222222,\"#7201a8\"],[0.3333333333333333,\"#9c179e\"],[0.4444444444444444,\"#bd3786\"],[0.5555555555555556,\"#d8576b\"],[0.6666666666666666,\"#ed7953\"],[0.7777777777777778,\"#fb9f3a\"],[0.8888888888888888,\"#fdca26\"],[1.0,\"#f0f921\"]],\"sequentialminus\":[[0.0,\"#0d0887\"],[0.1111111111111111,\"#46039f\"],[0.2222222222222222,\"#7201a8\"],[0.3333333333333333,\"#9c179e\"],[0.4444444444444444,\"#bd3786\"],[0.5555555555555556,\"#d8576b\"],[0.6666666666666666,\"#ed7953\"],[0.7777777777777778,\"#fb9f3a\"],[0.8888888888888888,\"#fdca26\"],[1.0,\"#f0f921\"]]},\"colorway\":[\"#636efa\",\"#EF553B\",\"#00cc96\",\"#ab63fa\",\"#FFA15A\",\"#19d3f3\",\"#FF6692\",\"#B6E880\",\"#FF97FF\",\"#FECB52\"],\"font\":{\"color\":\"#2a3f5f\"},\"geo\":{\"bgcolor\":\"white\",\"lakecolor\":\"white\",\"landcolor\":\"#E5ECF6\",\"showlakes\":true,\"showland\":true,\"subunitcolor\":\"white\"},\"hoverlabel\":{\"align\":\"left\"},\"hovermode\":\"closest\",\"mapbox\":{\"style\":\"light\"},\"paper_bgcolor\":\"white\",\"plot_bgcolor\":\"#E5ECF6\",\"polar\":{\"angularaxis\":{\"gridcolor\":\"white\",\"linecolor\":\"white\",\"ticks\":\"\"},\"bgcolor\":\"#E5ECF6\",\"radialaxis\":{\"gridcolor\":\"white\",\"linecolor\":\"white\",\"ticks\":\"\"}},\"scene\":{\"xaxis\":{\"backgroundcolor\":\"#E5ECF6\",\"gridcolor\":\"white\",\"gridwidth\":2,\"linecolor\":\"white\",\"showbackground\":true,\"ticks\":\"\",\"zerolinecolor\":\"white\"},\"yaxis\":{\"backgroundcolor\":\"#E5ECF6\",\"gridcolor\":\"white\",\"gridwidth\":2,\"linecolor\":\"white\",\"showbackground\":true,\"ticks\":\"\",\"zerolinecolor\":\"white\"},\"zaxis\":{\"backgroundcolor\":\"#E5ECF6\",\"gridcolor\":\"white\",\"gridwidth\":2,\"linecolor\":\"white\",\"showbackground\":true,\"ticks\":\"\",\"zerolinecolor\":\"white\"}},\"shapedefaults\":{\"line\":{\"color\":\"#2a3f5f\"}},\"ternary\":{\"aaxis\":{\"gridcolor\":\"white\",\"linecolor\":\"white\",\"ticks\":\"\"},\"baxis\":{\"gridcolor\":\"white\",\"linecolor\":\"white\",\"ticks\":\"\"},\"bgcolor\":\"#E5ECF6\",\"caxis\":{\"gridcolor\":\"white\",\"linecolor\":\"white\",\"ticks\":\"\"}},\"title\":{\"x\":0.05},\"xaxis\":{\"automargin\":true,\"gridcolor\":\"white\",\"linecolor\":\"white\",\"ticks\":\"\",\"title\":{\"standoff\":15},\"zerolinecolor\":\"white\",\"zerolinewidth\":2},\"yaxis\":{\"automargin\":true,\"gridcolor\":\"white\",\"linecolor\":\"white\",\"ticks\":\"\",\"title\":{\"standoff\":15},\"zerolinecolor\":\"white\",\"zerolinewidth\":2}}}},                        {\"responsive\": true}                    ).then(function(){\n",
       "                            \n",
       "var gd = document.getElementById('7ea7f48a-c962-4c75-b1f1-f44a9f1b56bf');\n",
       "var x = new MutationObserver(function (mutations, observer) {{\n",
       "        var display = window.getComputedStyle(gd).display;\n",
       "        if (!display || display === 'none') {{\n",
       "            console.log([gd, 'removed!']);\n",
       "            Plotly.purge(gd);\n",
       "            observer.disconnect();\n",
       "        }}\n",
       "}});\n",
       "\n",
       "// Listen for the removal of the full notebook cells\n",
       "var notebookContainer = gd.closest('#notebook-container');\n",
       "if (notebookContainer) {{\n",
       "    x.observe(notebookContainer, {childList: true});\n",
       "}}\n",
       "\n",
       "// Listen for the clearing of the current output cell\n",
       "var outputEl = gd.closest('.output');\n",
       "if (outputEl) {{\n",
       "    x.observe(outputEl, {childList: true});\n",
       "}}\n",
       "\n",
       "                        })                };                });            </script>        </div>"
      ]
     },
     "metadata": {},
     "output_type": "display_data"
    }
   ],
   "source": [
    "import matplotlib.pyplot as plt\n",
    "import plotly.figure_factory as ff\n",
    "import numpy as np\n",
    "\n",
    "np.random.seed(1)\n",
    "\n",
    "fig = ff.create_dendrogram(X, labels=y)\n",
    "fig.update_layout(width=800, height=500)\n",
    "fig.show()"
   ]
  },
  {
   "cell_type": "code",
   "execution_count": null,
   "metadata": {},
   "outputs": [],
   "source": []
  },
  {
   "cell_type": "code",
   "execution_count": null,
   "metadata": {},
   "outputs": [],
   "source": []
  },
  {
   "cell_type": "code",
   "execution_count": null,
   "metadata": {},
   "outputs": [],
   "source": []
  },
  {
   "cell_type": "code",
   "execution_count": null,
   "metadata": {},
   "outputs": [],
   "source": []
  },
  {
   "cell_type": "markdown",
   "metadata": {},
   "source": [
    "## Task\n",
    "\n",
    "Conduct a k-means clustering of the music data.  Preprocess the data by scaling it and performing a PCA and retaining 2 dimensions.  Use the PCA scores as input to the clustering. Use silhouette plots to determine the optimal number of clusters.  If time permits, experiment with changing the number of principal components.  Be sure to set your random_state to allow you to reproduce your results.\n",
    "\n",
    "Note that you do not need to use a pipeline, although doing so may make your life easier."
   ]
  },
  {
   "cell_type": "code",
   "execution_count": 121,
   "metadata": {},
   "outputs": [],
   "source": [
    "# Insert your code here"
   ]
  },
  {
   "cell_type": "code",
   "execution_count": null,
   "metadata": {},
   "outputs": [],
   "source": []
  }
 ],
 "metadata": {
  "kernelspec": {
   "display_name": "Python 3 (ipykernel)",
   "language": "python",
   "name": "python3"
  },
  "language_info": {
   "codemirror_mode": {
    "name": "ipython",
    "version": 3
   },
   "file_extension": ".py",
   "mimetype": "text/x-python",
   "name": "python",
   "nbconvert_exporter": "python",
   "pygments_lexer": "ipython3",
   "version": "3.9.7"
  }
 },
 "nbformat": 4,
 "nbformat_minor": 4
}
